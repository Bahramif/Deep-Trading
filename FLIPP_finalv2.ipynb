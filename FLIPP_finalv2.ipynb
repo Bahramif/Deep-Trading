{
  "nbformat": 4,
  "nbformat_minor": 0,
  "metadata": {
    "colab": {
      "name": "FLIPP_final.ipynb",
      "version": "0.3.2",
      "provenance": [],
      "collapsed_sections": [],
      "include_colab_link": true
    },
    "kernelspec": {
      "name": "python3",
      "display_name": "Python 3"
    }
  },
  "cells": [
    {
      "cell_type": "markdown",
      "metadata": {
        "id": "view-in-github",
        "colab_type": "text"
      },
      "source": [
        "<a href=\"https://colab.research.google.com/github/Bahramif/Deep-Trading/blob/master/FLIPP_finalv2.ipynb\" target=\"_parent\"><img src=\"https://colab.research.google.com/assets/colab-badge.svg\" alt=\"Open In Colab\"/></a>"
      ]
    },
    {
      "cell_type": "code",
      "metadata": {
        "id": "Cf3-nLkd-C5X",
        "colab_type": "code",
        "outputId": "f731b6f1-b3d8-4b4c-8128-752cbf22286e",
        "colab": {
          "base_uri": "https://localhost:8080/",
          "height": 343
        }
      },
      "source": [
        "!pip install --upgrade google-cloud-vision"
      ],
      "execution_count": 1,
      "outputs": [
        {
          "output_type": "stream",
          "text": [
            "Requirement already up-to-date: google-cloud-vision in /usr/local/lib/python3.6/dist-packages (0.39.0)\n",
            "Requirement already satisfied, skipping upgrade: google-api-core[grpc]<2.0.0dev,>=1.14.0 in /usr/local/lib/python3.6/dist-packages (from google-cloud-vision) (1.14.2)\n",
            "Requirement already satisfied, skipping upgrade: google-auth<2.0dev,>=0.4.0 in /usr/local/lib/python3.6/dist-packages (from google-api-core[grpc]<2.0.0dev,>=1.14.0->google-cloud-vision) (1.4.2)\n",
            "Requirement already satisfied, skipping upgrade: pytz in /usr/local/lib/python3.6/dist-packages (from google-api-core[grpc]<2.0.0dev,>=1.14.0->google-cloud-vision) (2018.9)\n",
            "Requirement already satisfied, skipping upgrade: googleapis-common-protos<2.0dev,>=1.6.0 in /usr/local/lib/python3.6/dist-packages (from google-api-core[grpc]<2.0.0dev,>=1.14.0->google-cloud-vision) (1.6.0)\n",
            "Requirement already satisfied, skipping upgrade: requests<3.0.0dev,>=2.18.0 in /usr/local/lib/python3.6/dist-packages (from google-api-core[grpc]<2.0.0dev,>=1.14.0->google-cloud-vision) (2.21.0)\n",
            "Requirement already satisfied, skipping upgrade: six>=1.10.0 in /usr/local/lib/python3.6/dist-packages (from google-api-core[grpc]<2.0.0dev,>=1.14.0->google-cloud-vision) (1.12.0)\n",
            "Requirement already satisfied, skipping upgrade: protobuf>=3.4.0 in /usr/local/lib/python3.6/dist-packages (from google-api-core[grpc]<2.0.0dev,>=1.14.0->google-cloud-vision) (3.7.1)\n",
            "Requirement already satisfied, skipping upgrade: setuptools>=34.0.0 in /usr/local/lib/python3.6/dist-packages (from google-api-core[grpc]<2.0.0dev,>=1.14.0->google-cloud-vision) (41.2.0)\n",
            "Requirement already satisfied, skipping upgrade: grpcio<2.0dev,>=1.8.2; extra == \"grpc\" in /usr/local/lib/python3.6/dist-packages (from google-api-core[grpc]<2.0.0dev,>=1.14.0->google-cloud-vision) (1.15.0)\n",
            "Requirement already satisfied, skipping upgrade: pyasn1-modules>=0.2.1 in /usr/local/lib/python3.6/dist-packages (from google-auth<2.0dev,>=0.4.0->google-api-core[grpc]<2.0.0dev,>=1.14.0->google-cloud-vision) (0.2.6)\n",
            "Requirement already satisfied, skipping upgrade: cachetools>=2.0.0 in /usr/local/lib/python3.6/dist-packages (from google-auth<2.0dev,>=0.4.0->google-api-core[grpc]<2.0.0dev,>=1.14.0->google-cloud-vision) (3.1.1)\n",
            "Requirement already satisfied, skipping upgrade: rsa>=3.1.4 in /usr/local/lib/python3.6/dist-packages (from google-auth<2.0dev,>=0.4.0->google-api-core[grpc]<2.0.0dev,>=1.14.0->google-cloud-vision) (4.0)\n",
            "Requirement already satisfied, skipping upgrade: urllib3<1.25,>=1.21.1 in /usr/local/lib/python3.6/dist-packages (from requests<3.0.0dev,>=2.18.0->google-api-core[grpc]<2.0.0dev,>=1.14.0->google-cloud-vision) (1.24.3)\n",
            "Requirement already satisfied, skipping upgrade: idna<2.9,>=2.5 in /usr/local/lib/python3.6/dist-packages (from requests<3.0.0dev,>=2.18.0->google-api-core[grpc]<2.0.0dev,>=1.14.0->google-cloud-vision) (2.8)\n",
            "Requirement already satisfied, skipping upgrade: certifi>=2017.4.17 in /usr/local/lib/python3.6/dist-packages (from requests<3.0.0dev,>=2.18.0->google-api-core[grpc]<2.0.0dev,>=1.14.0->google-cloud-vision) (2019.6.16)\n",
            "Requirement already satisfied, skipping upgrade: chardet<3.1.0,>=3.0.2 in /usr/local/lib/python3.6/dist-packages (from requests<3.0.0dev,>=2.18.0->google-api-core[grpc]<2.0.0dev,>=1.14.0->google-cloud-vision) (3.0.4)\n",
            "Requirement already satisfied, skipping upgrade: pyasn1<0.5.0,>=0.4.6 in /usr/local/lib/python3.6/dist-packages (from pyasn1-modules>=0.2.1->google-auth<2.0dev,>=0.4.0->google-api-core[grpc]<2.0.0dev,>=1.14.0->google-cloud-vision) (0.4.6)\n"
          ],
          "name": "stdout"
        }
      ]
    },
    {
      "cell_type": "code",
      "metadata": {
        "id": "r-ZOfG34-lpQ",
        "colab_type": "code",
        "colab": {
          "base_uri": "https://localhost:8080/",
          "height": 102
        },
        "outputId": "360c63a9-8788-4ec5-a45b-f614e0f89780"
      },
      "source": [
        "!pip install requests\n"
      ],
      "execution_count": 3,
      "outputs": [
        {
          "output_type": "stream",
          "text": [
            "Requirement already satisfied: requests in /usr/local/lib/python3.6/dist-packages (2.21.0)\n",
            "Requirement already satisfied: idna<2.9,>=2.5 in /usr/local/lib/python3.6/dist-packages (from requests) (2.8)\n",
            "Requirement already satisfied: certifi>=2017.4.17 in /usr/local/lib/python3.6/dist-packages (from requests) (2019.6.16)\n",
            "Requirement already satisfied: urllib3<1.25,>=1.21.1 in /usr/local/lib/python3.6/dist-packages (from requests) (1.24.3)\n",
            "Requirement already satisfied: chardet<3.1.0,>=3.0.2 in /usr/local/lib/python3.6/dist-packages (from requests) (3.0.4)\n"
          ],
          "name": "stdout"
        }
      ]
    },
    {
      "cell_type": "code",
      "metadata": {
        "id": "DDHL9z_t-Gsb",
        "colab_type": "code",
        "outputId": "b0ffafc4-03f5-4be2-903a-763b511c4804",
        "colab": {
          "resources": {
            "http://localhost:8080/nbextensions/google.colab/files.js": {
              "data": "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",
              "ok": true,
              "headers": [
                [
                  "content-type",
                  "application/javascript"
                ]
              ],
              "status": 200,
              "status_text": ""
            }
          },
          "base_uri": "https://localhost:8080/",
          "height": 71
        }
      },
      "source": [
        "from google.colab import files\n",
        "uploaded = files.upload()"
      ],
      "execution_count": 5,
      "outputs": [
        {
          "output_type": "display_data",
          "data": {
            "text/html": [
              "\n",
              "     <input type=\"file\" id=\"files-6152157c-f4e5-4a7e-93ac-a810f225f3a8\" name=\"files[]\" multiple disabled />\n",
              "     <output id=\"result-6152157c-f4e5-4a7e-93ac-a810f225f3a8\">\n",
              "      Upload widget is only available when the cell has been executed in the\n",
              "      current browser session. Please rerun this cell to enable.\n",
              "      </output>\n",
              "      <script src=\"/nbextensions/google.colab/files.js\"></script> "
            ],
            "text/plain": [
              "<IPython.core.display.HTML object>"
            ]
          },
          "metadata": {
            "tags": []
          }
        },
        {
          "output_type": "stream",
          "text": [
            "Saving My First Project-071ea935f8a8.json to My First Project-071ea935f8a8.json\n"
          ],
          "name": "stdout"
        }
      ]
    },
    {
      "cell_type": "code",
      "metadata": {
        "id": "ouZolyJ0-Lxz",
        "colab_type": "code",
        "colab": {}
      },
      "source": [
        "import os\n",
        "os.environ[\"GOOGLE_APPLICATION_CREDENTIALS\"]=\"My First Project-071ea935f8a8.json\""
      ],
      "execution_count": 0,
      "outputs": []
    },
    {
      "cell_type": "code",
      "metadata": {
        "id": "GHMdx0j2-TBB",
        "colab_type": "code",
        "colab": {}
      },
      "source": [
        "Meat=['meat','fish','salmon','ground beef','steak','sirloin','ham','trout','tenderloin']\n",
        "Grains_bread=['pasta','rice','bread']\n",
        "oil=['butter','oil']\n",
        "Diary=['Egg','cheese','yogurt','milk']\n",
        "Produce=['onion','garlic']\n",
        "\n",
        "\n",
        "fruits=['apple', 'apricot','banana','blackberry','cherry','grapefruit','mango','kiwi','orange','papaya','passion fruit'\n",
        ",'peach','pear','pea','pineapple','plum','watermelon','raspberry','blueberry','grape']\n",
        "\n",
        "Vegetables=['asparagus','avocado','bean','broccoli','corn','cucumber','carrot','eggplant','lemon','lettuce','mushroom','potatoe','tomato','green pepper']\n",
        "All=fruits+Vegetables+Produce+Diary+oil+Grains_bread+Meat"
      ],
      "execution_count": 0,
      "outputs": []
    },
    {
      "cell_type": "markdown",
      "metadata": {
        "id": "ZEKI6CH_-oR7",
        "colab_type": "text"
      },
      "source": [
        "## Scrape Flipp"
      ]
    },
    {
      "cell_type": "code",
      "metadata": {
        "id": "AVczvNNi-ihV",
        "colab_type": "code",
        "colab": {}
      },
      "source": [
        "import requests\n",
        "import pandas as pd\n",
        "\n",
        "BASE_URL = 'https://flipp.com'\n",
        "BACKEND_URL = 'https://backflipp.wishabi.com/flipp'\n",
        "SEARCH_URL = '%s/items/search' % BACKEND_URL\n",
        "ITEM_URL = '%s/items/' % BACKEND_URL\n",
        "\n",
        "# def scrape_item(item_id):\n",
        "#     return requests.get(\n",
        "#         \"%s/%s\" % (ITEM_URL, item_id,)\n",
        "#     ).json()\n",
        "\n",
        "def search(query, postal_code, locale):\n",
        "    data = requests.get(\n",
        "        SEARCH_URL,\n",
        "        params = {\n",
        "            'q': query,\n",
        "            'postal_code': postal_code,\n",
        "            'locale':locale\n",
        "        }\n",
        "    ).json()\n",
        "\n",
        "    return [\n",
        "#             scrape_item(x.get('flyer_item_id'))\n",
        "\n",
        "            x for x in data.get('items')\n",
        "    ]\n",
        "\n",
        "\n"
      ],
      "execution_count": 0,
      "outputs": []
    },
    {
      "cell_type": "code",
      "metadata": {
        "id": "00fZrYGJ-r1g",
        "colab_type": "code",
        "colab": {}
      },
      "source": [
        "# testing search function\n",
        "search_result = search('Milk','l6a3r7', 'en-ca')\n",
        "columns = list(search_result[0].keys())\n"
      ],
      "execution_count": 0,
      "outputs": []
    },
    {
      "cell_type": "markdown",
      "metadata": {
        "id": "XzAgJwFy-2JB",
        "colab_type": "text"
      },
      "source": [
        "Convert the product list to dataframe"
      ]
    },
    {
      "cell_type": "code",
      "metadata": {
        "id": "Mqz8Px4--1br",
        "colab_type": "code",
        "colab": {
          "base_uri": "https://localhost:8080/",
          "height": 173
        },
        "outputId": "6fbc3d40-8038-4b60-8c65-ab968a18a435"
      },
      "source": [
        "\n",
        "query_results=list()\n",
        "df=pd.DataFrame()\n",
        "for items in All:\n",
        "  try:\n",
        "    final_dict = {key:[] for key in columns}\n",
        "    keys = final_dict.keys()\n",
        "    query_results=search(items,'l6a3r7', 'en-ca')\n",
        "    for q in query_results:\n",
        "       for key in keys:\n",
        "          final_dict[key].append(q[key])\n",
        "    final_dict2=pd.DataFrame(final_dict)\n",
        "    df=df.append(final_dict2)\n",
        "    row=final_dict2.shape[0]\n",
        "    df.index=range(df.shape[0])\n",
        "    df.loc[df.shape[0]-row:,'product']=items\n",
        "  except:\n",
        "    continue"
      ],
      "execution_count": 9,
      "outputs": [
        {
          "output_type": "stream",
          "text": [
            "/usr/local/lib/python3.6/dist-packages/pandas/core/frame.py:6692: FutureWarning: Sorting because non-concatenation axis is not aligned. A future version\n",
            "of pandas will change to not sort by default.\n",
            "\n",
            "To accept the future behavior, pass 'sort=False'.\n",
            "\n",
            "To retain the current behavior and silence the warning, pass 'sort=True'.\n",
            "\n",
            "  sort=sort)\n"
          ],
          "name": "stderr"
        }
      ]
    },
    {
      "cell_type": "code",
      "metadata": {
        "id": "q-Fw0ep4-_O9",
        "colab_type": "code",
        "colab": {}
      },
      "source": [
        "df_sort=df.sort_values(['merchant_name'])\n",
        "mechant_name=df_sort.merchant_name.unique()\n",
        "df_sort[\"current_price\"] = df_sort[\"current_price\"].apply(pd.to_numeric)\n",
        "df_sort2=df_sort[df_sort.current_price>0]"
      ],
      "execution_count": 0,
      "outputs": []
    },
    {
      "cell_type": "markdown",
      "metadata": {
        "id": "5GLnvcxw_HGo",
        "colab_type": "text"
      },
      "source": [
        "Select the grocery sores from the merchant list"
      ]
    },
    {
      "cell_type": "code",
      "metadata": {
        "id": "k-mODB_D_LSp",
        "colab_type": "code",
        "colab": {}
      },
      "source": [
        "food_store=[]\n",
        "for x in mechant_name:\n",
        "  if 'food' in x.lower():\n",
        "    food_store.append(x)\n",
        "  if 'supermarket' in x.lower():\n",
        "    food_store.append(x)\n",
        "  if 'superstore' in x.lower():\n",
        "    food_store.append(x)\n",
        "  if 'mart' in x.lower():\n",
        "    food_store.append(x)\n",
        "  if 'fresh' in x.lower():\n",
        "    food_store.append(x)\n",
        "  if x in ['Walmart','Zehrs','Starsky','Sobeys','Price Chopper','No Frills','Longos','Metro','Loblaws','Healthy Planet','Giant Tiger']:\n",
        "    food_store.append(x)\n",
        "    "
      ],
      "execution_count": 0,
      "outputs": []
    },
    {
      "cell_type": "code",
      "metadata": {
        "id": "XJ6t1Un2_Oss",
        "colab_type": "code",
        "colab": {}
      },
      "source": [
        "df_sort_food=df_sort2[df_sort2.merchant_name.isin(food_store)]\n",
        "df_sort_food.index=range(df_sort_food.shape[0])\n",
        "df_sort_food2=df_sort_food"
      ],
      "execution_count": 0,
      "outputs": []
    },
    {
      "cell_type": "markdown",
      "metadata": {
        "id": "esvrnCJl_Zbk",
        "colab_type": "text"
      },
      "source": [
        "##Image processing and create labels for images"
      ]
    },
    {
      "cell_type": "code",
      "metadata": {
        "id": "dc7AEigq_gre",
        "colab_type": "code",
        "colab": {
          "base_uri": "https://localhost:8080/",
          "height": 102
        },
        "outputId": "ce71ef64-6037-4762-e136-cbc94421619c"
      },
      "source": [
        "import io\n",
        "import os\n",
        "\n",
        "# Imports the Google Cloud client library\n",
        "from google.cloud import vision\n",
        "from google.cloud.vision import types\n",
        "\n",
        "# Instantiates a client\n",
        "client = vision.ImageAnnotatorClient()\n",
        "\n",
        "# The name of the image file to annotate\n",
        "\n",
        "import io\n",
        "import requests\n",
        "from PIL import Image\n",
        "import matplotlib.pyplot as plt  \n",
        "def Labeled_image(url):\n",
        "  data = requests.get(url).content\n",
        "  image = types.Image(content=data)\n",
        "  img = Image.open(io.BytesIO(data))\n",
        "  response = client.label_detection(image=image)\n",
        "  labels = response.label_annotations\n",
        "  Label_img=list()\n",
        "  #   plt.imshow(img)\n",
        "  #   plt.show()\n",
        "  for label in labels:\n",
        "    Label_img.append(label.description)\n",
        "  return Label_img\n",
        "\n",
        "df_sort_food2['labels']=df_sort_food2['clean_image_url'].apply(lambda x:Labeled_image(str(x)))"
      ],
      "execution_count": 13,
      "outputs": [
        {
          "output_type": "stream",
          "text": [
            "/usr/local/lib/python3.6/dist-packages/ipykernel_launcher.py:30: SettingWithCopyWarning: \n",
            "A value is trying to be set on a copy of a slice from a DataFrame.\n",
            "Try using .loc[row_indexer,col_indexer] = value instead\n",
            "\n",
            "See the caveats in the documentation: http://pandas.pydata.org/pandas-docs/stable/indexing.html#indexing-view-versus-copy\n"
          ],
          "name": "stderr"
        }
      ]
    },
    {
      "cell_type": "markdown",
      "metadata": {
        "id": "Z0xYJ-pe_5rz",
        "colab_type": "text"
      },
      "source": [
        "Filter for relevant photos"
      ]
    },
    {
      "cell_type": "code",
      "metadata": {
        "id": "2bkboV-0_jxJ",
        "colab_type": "code",
        "colab": {
          "base_uri": "https://localhost:8080/",
          "height": 119
        },
        "outputId": "360f2f4a-e2e7-4e76-a3ba-6c439442caf6"
      },
      "source": [
        "for i in df_sort_food2.index:\n",
        "  df_sort_food2.loc[i,'Relevant']=pd.Series(df_sort_food2.loc[i,'labels']).isin(['Fruit','Fish','Meat','Vegetable','Ingredient','Dairy','Oil','Bread','Beef', 'Veal',  'Steak' ]).any()\n"
      ],
      "execution_count": 24,
      "outputs": [
        {
          "output_type": "stream",
          "text": [
            "/usr/local/lib/python3.6/dist-packages/pandas/core/indexing.py:543: SettingWithCopyWarning: \n",
            "A value is trying to be set on a copy of a slice from a DataFrame.\n",
            "Try using .loc[row_indexer,col_indexer] = value instead\n",
            "\n",
            "See the caveats in the documentation: http://pandas.pydata.org/pandas-docs/stable/indexing.html#indexing-view-versus-copy\n",
            "  self.obj[item] = s\n"
          ],
          "name": "stderr"
        }
      ]
    },
    {
      "cell_type": "code",
      "metadata": {
        "id": "HAXMo86qvn8b",
        "colab_type": "code",
        "colab": {}
      },
      "source": [
        "df_sort_food1=df_sort_food2"
      ],
      "execution_count": 0,
      "outputs": []
    },
    {
      "cell_type": "code",
      "metadata": {
        "id": "-i6DoBvo4frf",
        "colab_type": "code",
        "colab": {
          "base_uri": "https://localhost:8080/",
          "height": 164
        },
        "outputId": "fb5e55c4-b18b-46ab-ba68-8c2df127626e"
      },
      "source": [
        "df_sort_food2.shape"
      ],
      "execution_count": 1,
      "outputs": [
        {
          "output_type": "error",
          "ename": "NameError",
          "evalue": "ignored",
          "traceback": [
            "\u001b[0;31m---------------------------------------------------------------------------\u001b[0m",
            "\u001b[0;31mNameError\u001b[0m                                 Traceback (most recent call last)",
            "\u001b[0;32m<ipython-input-1-20412342d343>\u001b[0m in \u001b[0;36m<module>\u001b[0;34m()\u001b[0m\n\u001b[0;32m----> 1\u001b[0;31m \u001b[0mdf_sort_food2\u001b[0m\u001b[0;34m.\u001b[0m\u001b[0mshape\u001b[0m\u001b[0;34m\u001b[0m\u001b[0;34m\u001b[0m\u001b[0m\n\u001b[0m",
            "\u001b[0;31mNameError\u001b[0m: name 'df_sort_food2' is not defined"
          ]
        }
      ]
    },
    {
      "cell_type": "code",
      "metadata": {
        "id": "8bkpVb1j03sy",
        "colab_type": "code",
        "colab": {}
      },
      "source": [
        "pd.set_option('max_colwidth', -1)\n",
        "# df_sort_food1[df_sort_food1.Relevant==False][['clean_image_url','labels']]"
      ],
      "execution_count": 0,
      "outputs": []
    },
    {
      "cell_type": "code",
      "metadata": {
        "id": "cFOQWXGQ_9fK",
        "colab_type": "code",
        "colab": {}
      },
      "source": [
        "df_sort_food2=df_sort_food2[df_sort_food2.Relevant==True]\n",
        "# df_sort_food2.to_pickle('./flipp.pkl')"
      ],
      "execution_count": 0,
      "outputs": []
    },
    {
      "cell_type": "code",
      "metadata": {
        "id": "-TZzQizu5BAq",
        "colab_type": "code",
        "colab": {}
      },
      "source": [
        "from google.colab import files\n",
        "from google.colab import drive\n",
        "# drive.mount('drive')\n",
        "df_sort_food2.to_csv('product_list.csv') \n",
        "files.download('product_list.csv')"
      ],
      "execution_count": 0,
      "outputs": []
    },
    {
      "cell_type": "code",
      "metadata": {
        "id": "jjZhMDyfADun",
        "colab_type": "code",
        "outputId": "cafb4c76-6b1f-4d8e-aec2-4388c2cd643b",
        "colab": {
          "resources": {
            "http://localhost:8080/nbextensions/google.colab/files.js": {
              "data": "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",
              "ok": true,
              "headers": [
                [
                  "content-type",
                  "application/javascript"
                ]
              ],
              "status": 200,
              "status_text": ""
            }
          },
          "base_uri": "https://localhost:8080/",
          "height": 71
        }
      },
      "source": [
        "from google.colab import files\n",
        "uploaded = files.upload()"
      ],
      "execution_count": 2,
      "outputs": [
        {
          "output_type": "display_data",
          "data": {
            "text/html": [
              "\n",
              "     <input type=\"file\" id=\"files-421ec4b0-83a2-46a5-874f-c0210cd05aef\" name=\"files[]\" multiple disabled />\n",
              "     <output id=\"result-421ec4b0-83a2-46a5-874f-c0210cd05aef\">\n",
              "      Upload widget is only available when the cell has been executed in the\n",
              "      current browser session. Please rerun this cell to enable.\n",
              "      </output>\n",
              "      <script src=\"/nbextensions/google.colab/files.js\"></script> "
            ],
            "text/plain": [
              "<IPython.core.display.HTML object>"
            ]
          },
          "metadata": {
            "tags": []
          }
        },
        {
          "output_type": "stream",
          "text": [
            "Saving product_list2.csv to product_list2.csv\n"
          ],
          "name": "stdout"
        }
      ]
    },
    {
      "cell_type": "code",
      "metadata": {
        "id": "mu7DV0aKAEHB",
        "colab_type": "code",
        "colab": {}
      },
      "source": [
        "import pandas as pd\n",
        "df_sort_food2=pd.read_csv('product_list2.csv')"
      ],
      "execution_count": 0,
      "outputs": []
    },
    {
      "cell_type": "markdown",
      "metadata": {
        "id": "oxYR2PqsAOSs",
        "colab_type": "text"
      },
      "source": [
        "##OCR flyers for weight analysis"
      ]
    },
    {
      "cell_type": "code",
      "metadata": {
        "id": "iFy_E-92AMHv",
        "colab_type": "code",
        "colab": {}
      },
      "source": [
        "def detect_text_url(uri):\n",
        "  try:\n",
        "    \"\"\"Detects text in the file located in Google Cloud Storage or on the Web.\n",
        "    \"\"\"\n",
        "    from google.cloud import vision\n",
        "    client = vision.ImageAnnotatorClient()\n",
        "    image = vision.types.Image()\n",
        "    image.source.image_uri = uri\n",
        "\n",
        "    response = client.text_detection(image=image)\n",
        "    texts = response.text_annotations\n",
        "#     print('Texts:')\n",
        "    return texts[0].description\n",
        "  except:\n",
        "    return 'error'\n",
        "  \n",
        "\n",
        "for i in df_sort_food2.index:\n",
        "  if df_sort_food2.loc[i,\"Relevant\"]==True:\n",
        "    df_sort_food2.loc[i,\"ocr_name\"]=detect_text_url(df_sort_food2.loc[i,\"clean_image_url\"])\n"
      ],
      "execution_count": 0,
      "outputs": []
    },
    {
      "cell_type": "code",
      "metadata": {
        "id": "b2XdlMR7E5s1",
        "colab_type": "code",
        "colab": {}
      },
      "source": [
        "import re\n",
        "df_sort_food2['vagetables']=[any([i == 'Vegetable' for i in x]) for x in df_sort_food2.labels ]\n",
        "df_sort_food2['Fruit']=[any([i == 'Fruit' for i in x]) for x in df_sort_food2.labels ]\n",
        "df_sort_food2['meat_chicken']=[any(re.findall('chicken',x.lower()))  for x in df_sort_food2.ocr_name ]\n",
        "df_sort_food2['meat_steak']=[any(re.findall('steak',x.lower()))  for x in df_sort_food2.ocr_name ]\n",
        "df_sort_food2['meat_ground']=[any(re.findall('ground',x.lower()))  for x in df_sort_food2.ocr_name ]\n",
        "df_sort_food2['meat_tenderloin']=[any(re.findall('tenderloin',x.lower()))  for x in df_sort_food2.ocr_name ]\n",
        "df_sort_food2['meat_tenderloin']=[any(re.findall('sirloin',x.lower()))  for x in df_sort_food2.ocr_name ]"
      ],
      "execution_count": 0,
      "outputs": []
    },
    {
      "cell_type": "markdown",
      "metadata": {
        "id": "0qWFG5vKAm3b",
        "colab_type": "text"
      },
      "source": [
        "Extract weight numbers from ocr text"
      ]
    },
    {
      "cell_type": "code",
      "metadata": {
        "id": "_0imBFIvAl4a",
        "colab_type": "code",
        "colab": {}
      },
      "source": [
        "import re\n",
        "import inflect\n",
        "p = inflect.engine()\n",
        "def Weight(name,product):\n",
        "  pattern1 = re.compile(r'((?:[0-9]*\\s*Pack)'\n",
        "    r'|(?:[0-9.]+/*\\s*/*(?:g|G|KG|kG|Kg|K9|k9|kg|ML|mL|LB|lb|lB|Lb|L|oz)\\b))' , re.IGNORECASE)\n",
        "  pattern2 = re.compile(r'('+str(p.plural(product))\n",
        "                       +r'|'  +str(p.singular_noun(product))\n",
        "                       +r'|' + str(product) +r')', re.IGNORECASE)\n",
        " \n",
        "  pattern3 = re.compile(r'('+str(p.plural(product))\n",
        "   +r'|' + str(product)+r'|((?:[0-9]*\\s*Pack)'\n",
        "    r'|(?:[0-9.]+/*\\s*(?:g|G|KG|kG|Kg|K9|k9|kg|ML|mL|LB|lb|lB|Lb|L|oz)\\b)))'\n",
        "                       , re.IGNORECASE)\n",
        "  return (re.findall(pattern1, name),re.findall(pattern2, name),re.findall(pattern3, name))"
      ],
      "execution_count": 0,
      "outputs": []
    },
    {
      "cell_type": "code",
      "metadata": {
        "id": "1xVpVvGuBMsk",
        "colab_type": "code",
        "colab": {}
      },
      "source": [
        "import numpy as np\n",
        "def right_item(weight,product):\n",
        "  r=weight\n",
        "  D=np.array(r[2][:])\n",
        "  try:\n",
        "\n",
        "    o=0\n",
        "    list2=list(map(lambda x:x.lower(),list(D[:,0])))\n",
        "\n",
        "    list1=list(map(lambda x:x.lower(),list(r[0])))\n",
        "    if p.plural(product.lower()) in list2:\n",
        "      prod=p.plural(product).lower()\n",
        "    if product.lower() in list2:\n",
        "      prod=product.lower()\n",
        "\n",
        "    try:\n",
        "      x=list2.index(prod)\n",
        "    except:\n",
        "      x=0\n",
        "      o=1\n",
        "    if len(r[0])>1:\n",
        "      while o==0 and x<=len(list2)-2:\n",
        "        x+=1\n",
        "        if list2[x] in list1:\n",
        "          o=1\n",
        "        \n",
        "      if len(r[0])==1 or(o==0):\n",
        "        x=0\n",
        "      out=list2[x]\n",
        "\n",
        "    if len(r[0])==1:\n",
        "      out=list1[0]\n",
        "    if len(r[0])==0:\n",
        "      out='NaN'\n",
        "  except:\n",
        "    out='NaN'\n",
        "  return out\n",
        "  \n",
        "\n"
      ],
      "execution_count": 0,
      "outputs": []
    },
    {
      "cell_type": "code",
      "metadata": {
        "id": "bzXSJUohdkEp",
        "colab_type": "code",
        "colab": {}
      },
      "source": [
        "i=17\n",
        "r=Weight(df_sort_food2.ocr_name[i],df_sort_food2.loc[i,\"product\"])\n",
        "product=df_sort_food2.loc[i,'product'].lower()\n",
        "# right_item(list_weight,product)\n",
        "# product\n",
        "\n",
        "D=np.array(r[2][:])\n",
        "\n",
        "#   print(D[:,0])\n",
        "p.plural(product) in list(D[:,0])  \n",
        "\n",
        "o=0\n",
        "list2=list(map(lambda x:x.lower(),list(D[:,0])))\n",
        "\n",
        "list1=list(map(lambda x:x.lower(),list(r[0])))\n",
        "if p.plural(product.lower()) in list2:\n",
        "  prod=p.plural(product).lower()\n",
        "if product.lower() in list2:\n",
        "  prod=product.lower()\n",
        "\n",
        "try:\n",
        "  x=list2.index(prod)\n",
        "except:\n",
        "  x=0\n",
        "  o=1\n",
        "if len(r[0])>1:\n",
        "  while o==0 and x<=len(list2)-2:\n",
        "    x+=1\n",
        "    if list2[x] in list1:\n",
        "      o=1\n",
        "\n",
        "  if len(r[0])==1 or(o==0):\n",
        "    x=0\n",
        "  out=list2[x]\n",
        "\n",
        "if len(r[0])==1:\n",
        "  out=list1[0]\n",
        "if len(r[0])==0:\n",
        "  out='NaN'"
      ],
      "execution_count": 0,
      "outputs": []
    },
    {
      "cell_type": "code",
      "metadata": {
        "id": "EZOPfGhbN3Rw",
        "colab_type": "code",
        "colab": {
          "base_uri": "https://localhost:8080/",
          "height": 34
        },
        "outputId": "2c193d0d-aa3c-4d52-cf18-3d1c9c128b9a"
      },
      "source": [
        "r"
      ],
      "execution_count": 10,
      "outputs": [
        {
          "output_type": "execute_result",
          "data": {
            "text/plain": [
              "(['999\\n/lb', '2.18 /kg'], ['Tomatoes'], [('Tomatoes', '')])"
            ]
          },
          "metadata": {
            "tags": []
          },
          "execution_count": 10
        }
      ]
    },
    {
      "cell_type": "code",
      "metadata": {
        "id": "Gs90xJ1HN7bI",
        "colab_type": "code",
        "colab": {
          "base_uri": "https://localhost:8080/",
          "height": 34
        },
        "outputId": "9f3bee11-6579-48c6-b783-d71601e733eb"
      },
      "source": [
        "list1"
      ],
      "execution_count": 11,
      "outputs": [
        {
          "output_type": "execute_result",
          "data": {
            "text/plain": [
              "['999\\n/lb', '2.18 /kg']"
            ]
          },
          "metadata": {
            "tags": []
          },
          "execution_count": 11
        }
      ]
    },
    {
      "cell_type": "code",
      "metadata": {
        "id": "hWVl4g0fMc3o",
        "colab_type": "code",
        "colab": {}
      },
      "source": [
        "# import re\n",
        "# import inflect\n",
        "# p = inflect.engine()\n",
        "# def Weight(name,product):\n",
        "#   pattern1 = re.compile(r'((?:[0-9]*\\s*Pack)'\n",
        "#     r'|(?:[0-9.]+/*\\s*/*(?:g|G|KG|kG|Kg|K9|k9|kg|ML|mL|LB|lb|lB|Lb|L|oz)\\b))' , re.IGNORECASE)\n",
        "#   pattern2 = re.compile(r'(/*str(p.plural(product))'\n",
        "#                        +r'/*?:|'  +str(p.singular_noun(product))\n",
        "#                        +r'/*?:|' + str(product) +r')', re.IGNORECASE)\n",
        " \n",
        "#   pattern3 = re.compile(r'('+str(p.singular_noun(product))\n",
        "#    +r'|' + str(product)+r'|((?:[0-9]*\\s*Pack)'\n",
        "#     r'|(?:[0-9.]+/*\\s*/*(?:g|G|KG|kG|Kg|K9|k9|kg|ML|mL|LB|lb|lB|Lb|L|oz)\\b)))'\n",
        "#                        , re.IGNORECASE)\n",
        "#   return (re.findall(pattern1, name),re.findall(pattern2, name),re.findall(pattern3, name))"
      ],
      "execution_count": 0,
      "outputs": []
    },
    {
      "cell_type": "markdown",
      "metadata": {
        "id": "izTWrNbsHWfY",
        "colab_type": "text"
      },
      "source": [
        "##Extract weights from ocr text"
      ]
    },
    {
      "cell_type": "code",
      "metadata": {
        "id": "AznU4xi4dFob",
        "colab_type": "code",
        "outputId": "db83cb8c-607f-4735-c221-43b2f0843525",
        "colab": {
          "base_uri": "https://localhost:8080/",
          "height": 34
        }
      },
      "source": [
        "i=17\n",
        "list_weight=Weight(df_sort_food2.ocr_name[i],df_sort_food2.loc[i,\"product\"])\n",
        "product=df_sort_food2.loc[i,'product'].lower()\n",
        "right_item(list_weight,product)\n",
        "list_weight"
      ],
      "execution_count": 7,
      "outputs": [
        {
          "output_type": "execute_result",
          "data": {
            "text/plain": [
              "(['999\\n/lb', '2.18 /kg'], ['Tomatoes'], [('Tomatoes', '')])"
            ]
          },
          "metadata": {
            "tags": []
          },
          "execution_count": 7
        }
      ]
    },
    {
      "cell_type": "code",
      "metadata": {
        "id": "-hWnqcexHbK9",
        "colab_type": "code",
        "colab": {}
      },
      "source": [
        "for i in df_sort_food2.index:\n",
        "  list_weight=Weight(df_sort_food2.ocr_name[i],df_sort_food2.loc[i,\"product\"])\n",
        "  product=df_sort_food2.loc[i,'product'].lower()\n",
        "  \n",
        "  if len(list_weight[0])==0 and len(list_weight[1])==0 :\n",
        "    df_sort_food2.loc[i,'weight']='NaN'\n",
        "  elif len(list_weight[0])==0 and len(list_weight[1])>=1 :\n",
        "    df_sort_food2.loc[i,'weight']=1\n",
        "  elif len(list_weight[0])>=1 and len(list_weight[1])==0 :\n",
        "    df_sort_food2.loc[i,'weight']=right_item(list_weight,product)\n",
        "  elif len(list_weight[0])>=1 and len(list_weight[1])>=1 :\n",
        "    df_sort_food2.loc[i,'weight']=right_item(list_weight,product)  \n",
        "\n"
      ],
      "execution_count": 0,
      "outputs": []
    },
    {
      "cell_type": "code",
      "metadata": {
        "id": "oVcHA1bKHdf7",
        "colab_type": "code",
        "colab": {
          "base_uri": "https://localhost:8080/",
          "height": 34
        },
        "outputId": "de58250f-89f1-4df9-f92d-b0042f9465fa"
      },
      "source": [
        " for i in df_sort_food2.index:\n",
        "  df_sort_food2.loc[i,'weight_num']=0  \n",
        "  df_sort_food2.loc[i,'price_100']=0  \n",
        "  try:\n",
        "    if df_sort_food2.loc[i,'weight']== 1:\n",
        "      df_sort_food2.loc[i,'weight_num']=1  \n",
        "    elif not any(re.findall('/', df_sort_food2.loc[i,'weight'])) and df_sort_food2.loc[i,'weight'][-2:].lower() == 'kg' :\n",
        "      df_sort_food2.loc[i,'weight2']=float(re.findall(\"[-+]?\\d*\\.\\d+|\\d+\",df_sort_food2.loc[i,'weight'][:-2])[0])*1000\n",
        "    elif any(re.findall('/', df_sort_food2.loc[i,'weight'])) and df_sort_food2.loc[i,'weight'][-2:].lower() == 'kg' :\n",
        "      df_sort_food2.loc[i,'price_100']=float(re.findall(\"[-+]?\\d*\\.\\d+|\\d+\",df_sort_food2.loc[i,'weight'][:-3])[0] )/10\n",
        "    elif not any(re.findall('/', df_sort_food2.loc[i,'weight'])) and df_sort_food2.loc[i,'weight'][-1].lower()=='g' and df_sort_food2.loc[i,'weight'][-2:].lower() != 'kg':  \n",
        "      df_sort_food2.loc[i,'weight2']=float(re.findall(\"[-+]?\\d*\\.\\d+|\\d+\",df_sort_food2.loc[i,'weight'][:-1])[0] )\n",
        "    elif df_sort_food2.loc[i,'weight'][-1].lower()=='l' and df_sort_food2.loc[i,'weight'][-2:].lower()=='ml':\n",
        "      df_sort_food2.loc[i,'weight2']=float(re.findall(\"[-+]?\\d*\\.\\d+|\\d+\",df_sort_food2.loc[i,'weight'][:-2])[0] )\n",
        "    elif df_sort_food2.loc[i,'weight'][-1].lower()=='l' and df_sort_food2.loc[i,'weight'][-2:].lower()!='ml':\n",
        "      df_sort_food2.loc[i,'weight2']=float(re.findall(\"[-+]?\\d*\\.\\d+|\\d+\",df_sort_food2.loc[i,'weight'][:-1])[0] )*1000\n",
        "    elif not any(re.findall('/', df_sort_food2.loc[i,'weight'])) and df_sort_food2.loc[i,'weight'][-2:].lower() == 'lb':\n",
        "      df_sort_food2.loc[i,'weight2']=float(re.findall(\"[-+]?\\d*\\.\\d+|\\d+\",df_sort_food2.loc[i,'weight'][:-2])[0] )*453.592\n",
        "    elif any(re.findall('/', df_sort_food2.loc[i,'weight'])) and df_sort_food2.loc[i,'weight'][-2:].lower() == 'lb':\n",
        "      df_sort_food2.loc[i,'price_100']=float(re.findall(\"[-+]?\\d*\\.\\d+|\\d+\",df_sort_food2.loc[i,'weight'][:-2])[0] )/4.53592\n",
        "    elif df_sort_food2.loc[i,'weight'][-2:].lower() == 'oz':\n",
        "      df_sort_food2.loc[i,'weight2']=float(re.findall(\"[-+]?\\d*\\.\\d+|\\d+\",df_sort_food2.loc[i,'weight'][:-2])[0] )*28.3495\n",
        "    if df_sort_food2.loc[i,'weight'][-4:].lower() == 'pack':\n",
        "      df_sort_food2.loc[i,'weight_num']=float(re.findall(\"[-+]?\\d*\\.\\d+|\\d+\",df_sort_food2.loc[i,'weight'])[0] )  \n",
        "  except:\n",
        "    df_sort_food2.loc[i,'weight2']==0\n",
        "  if df_sort_food2.loc[i,'price_100']==0:\n",
        "    df_sort_food2.loc[i,'price_100']=df_sort_food2.loc[i,'current_price']/(df_sort_food2.loc[i,'weight2']/100)\n",
        "  "
      ],
      "execution_count": 9,
      "outputs": [
        {
          "output_type": "stream",
          "text": [
            "/usr/local/lib/python3.6/dist-packages/ipykernel_launcher.py:28: RuntimeWarning: divide by zero encountered in double_scalars\n"
          ],
          "name": "stderr"
        }
      ]
    },
    {
      "cell_type": "code",
      "metadata": {
        "id": "j2xZx-cwdmc0",
        "colab_type": "code",
        "colab": {}
      },
      "source": [
        "df_sort_food3=df_sort_food2[df_sort_food2.Relevant==True]"
      ],
      "execution_count": 0,
      "outputs": []
    },
    {
      "cell_type": "code",
      "metadata": {
        "id": "7lrY-P26d3v7",
        "colab_type": "code",
        "colab": {}
      },
      "source": [
        "df_agg = df_sort_food2.groupby(['merchant_name','product'],observed=True)['merchant_name','product','current_price','weight2','weight_num','price_100','clean_image_url'].agg({'price_100':min})"
      ],
      "execution_count": 0,
      "outputs": []
    },
    {
      "cell_type": "code",
      "metadata": {
        "id": "lXaMLrBPUFQ8",
        "colab_type": "code",
        "colab": {}
      },
      "source": [
        "df_agg.columns = df_agg.columns.droplevel(0)"
      ],
      "execution_count": 0,
      "outputs": []
    },
    {
      "cell_type": "code",
      "metadata": {
        "id": "Jw2UE2y0YfYm",
        "colab_type": "code",
        "colab": {}
      },
      "source": [
        "pd.set_option('max_colwidth', 200)"
      ],
      "execution_count": 0,
      "outputs": []
    },
    {
      "cell_type": "code",
      "metadata": {
        "id": "AxMud5V4U3P6",
        "colab_type": "code",
        "colab": {}
      },
      "source": [
        "df_agg = df_agg.reset_index()"
      ],
      "execution_count": 0,
      "outputs": []
    },
    {
      "cell_type": "code",
      "metadata": {
        "id": "de_aCyk6cPya",
        "colab_type": "code",
        "colab": {}
      },
      "source": [
        "# df_sort_food2.loc[(df_sort_food2.clean_image_url=='http://f.wishabi.net/page_items/163299379/1564749337/extra_large.jpg')]\n",
        "df_agg_price_sum=df_agg.groupby(['merchant_name']).agg({'current_price':sum}).rename(index=str, columns={\"current_price\": \"Price_sum\"})\n",
        "df_agg_price_sum = df_agg_price_sum.reset_index()\n",
        "df_agg_price_mean=df_agg[['product','price_100']].groupby(['product']).median().rename(index=str, columns={\"price_100\": \"price_100_median\"})\n",
        "df_agg_price_mean = df_agg_price_mean.reset_index()"
      ],
      "execution_count": 0,
      "outputs": []
    },
    {
      "cell_type": "code",
      "metadata": {
        "id": "mPIXdMnMWUS2",
        "colab_type": "code",
        "colab": {}
      },
      "source": [
        "df_final=df_agg.merge(df_agg_price_sum,on='merchant_name')\n",
        "df_final=df_final.merge(df_agg_price_mean,on='product')"
      ],
      "execution_count": 0,
      "outputs": []
    },
    {
      "cell_type": "code",
      "metadata": {
        "id": "lE0K3cb7eYUL",
        "colab_type": "code",
        "colab": {}
      },
      "source": [
        "df_final2=df_final[['product','merchant_name']].groupby(['merchant_name']).count()*100/len(df_sort_food3[\"product\"].unique())\n",
        "df_final2 = df_final2.rename(columns={\"product\": \"Percentage_list\"}).reset_index()"
      ],
      "execution_count": 0,
      "outputs": []
    },
    {
      "cell_type": "code",
      "metadata": {
        "id": "RqDUHyTGjJOp",
        "colab_type": "code",
        "colab": {}
      },
      "source": [
        "df_final3=df_final.merge(df_final2, on='merchant_name')"
      ],
      "execution_count": 0,
      "outputs": []
    },
    {
      "cell_type": "code",
      "metadata": {
        "id": "ugRLCGEZjaHX",
        "colab_type": "code",
        "colab": {
          "base_uri": "https://localhost:8080/",
          "height": 1000
        },
        "outputId": "79af2648-6636-4282-bf0d-f94699a9f697"
      },
      "source": [
        "df_final3.sort_values('Percentage_list',ascending=False)"
      ],
      "execution_count": 142,
      "outputs": [
        {
          "output_type": "execute_result",
          "data": {
            "text/html": [
              "<div>\n",
              "<style scoped>\n",
              "    .dataframe tbody tr th:only-of-type {\n",
              "        vertical-align: middle;\n",
              "    }\n",
              "\n",
              "    .dataframe tbody tr th {\n",
              "        vertical-align: top;\n",
              "    }\n",
              "\n",
              "    .dataframe thead th {\n",
              "        text-align: right;\n",
              "    }\n",
              "</style>\n",
              "<table border=\"1\" class=\"dataframe\">\n",
              "  <thead>\n",
              "    <tr style=\"text-align: right;\">\n",
              "      <th></th>\n",
              "      <th>merchant_name</th>\n",
              "      <th>product</th>\n",
              "      <th>clean_image_url</th>\n",
              "      <th>current_price</th>\n",
              "      <th>price_100</th>\n",
              "      <th>weight2</th>\n",
              "      <th>weight_num</th>\n",
              "      <th>Price_sum</th>\n",
              "      <th>price_100_median</th>\n",
              "      <th>Percentage_list</th>\n",
              "    </tr>\n",
              "  </thead>\n",
              "  <tbody>\n",
              "    <tr>\n",
              "      <th>192</th>\n",
              "      <td>Metro</td>\n",
              "      <td>lemon</td>\n",
              "      <td>http://f.wishabi.net/page_items/164170588/1565720657/extra_large.jpg</td>\n",
              "      <td>3.49</td>\n",
              "      <td>0.768722</td>\n",
              "      <td>454.000</td>\n",
              "      <td>0.0</td>\n",
              "      <td>175.19</td>\n",
              "      <td>0.660285</td>\n",
              "      <td>80.0</td>\n",
              "    </tr>\n",
              "    <tr>\n",
              "      <th>180</th>\n",
              "      <td>Metro</td>\n",
              "      <td>pear</td>\n",
              "      <td>http://f.wishabi.net/page_items/164170528/1565720672/extra_large.jpg</td>\n",
              "      <td>2.49</td>\n",
              "      <td>0.549000</td>\n",
              "      <td>750.000</td>\n",
              "      <td>0.0</td>\n",
              "      <td>175.19</td>\n",
              "      <td>0.330143</td>\n",
              "      <td>80.0</td>\n",
              "    </tr>\n",
              "    <tr>\n",
              "      <th>187</th>\n",
              "      <td>Metro</td>\n",
              "      <td>blueberry</td>\n",
              "      <td>http://f.wishabi.net/page_items/164169834/1565720658/extra_large.jpg</td>\n",
              "      <td>2.99</td>\n",
              "      <td>NaN</td>\n",
              "      <td>NaN</td>\n",
              "      <td>1.0</td>\n",
              "      <td>175.19</td>\n",
              "      <td>0.926893</td>\n",
              "      <td>80.0</td>\n",
              "    </tr>\n",
              "    <tr>\n",
              "      <th>186</th>\n",
              "      <td>Metro</td>\n",
              "      <td>asparagus</td>\n",
              "      <td>http://f.wishabi.net/page_items/164170590/1565720659/extra_large.jpg</td>\n",
              "      <td>3.99</td>\n",
              "      <td>45.340909</td>\n",
              "      <td>8.800</td>\n",
              "      <td>0.0</td>\n",
              "      <td>175.19</td>\n",
              "      <td>23.267378</td>\n",
              "      <td>80.0</td>\n",
              "    </tr>\n",
              "    <tr>\n",
              "      <th>185</th>\n",
              "      <td>Metro</td>\n",
              "      <td>watermelon</td>\n",
              "      <td>http://f.wishabi.net/page_items/164169840/1565720663/extra_large.jpg</td>\n",
              "      <td>0.79</td>\n",
              "      <td>0.174000</td>\n",
              "      <td>NaN</td>\n",
              "      <td>0.0</td>\n",
              "      <td>175.19</td>\n",
              "      <td>0.079968</td>\n",
              "      <td>80.0</td>\n",
              "    </tr>\n",
              "    <tr>\n",
              "      <th>184</th>\n",
              "      <td>Metro</td>\n",
              "      <td>tomato</td>\n",
              "      <td>http://f.wishabi.net/page_items/164169047/1565720672/extra_large.jpg</td>\n",
              "      <td>0.99</td>\n",
              "      <td>0.218000</td>\n",
              "      <td>NaN</td>\n",
              "      <td>0.0</td>\n",
              "      <td>175.19</td>\n",
              "      <td>0.214000</td>\n",
              "      <td>80.0</td>\n",
              "    </tr>\n",
              "    <tr>\n",
              "      <th>183</th>\n",
              "      <td>Metro</td>\n",
              "      <td>steak</td>\n",
              "      <td>http://f.wishabi.net/page_items/164169565/1565720661/extra_large.jpg</td>\n",
              "      <td>14.99</td>\n",
              "      <td>3.305000</td>\n",
              "      <td>NaN</td>\n",
              "      <td>0.0</td>\n",
              "      <td>175.19</td>\n",
              "      <td>1.407167</td>\n",
              "      <td>80.0</td>\n",
              "    </tr>\n",
              "    <tr>\n",
              "      <th>182</th>\n",
              "      <td>Metro</td>\n",
              "      <td>rice</td>\n",
              "      <td>http://f.wishabi.net/page_items/164169239/1565720661/extra_large.jpg</td>\n",
              "      <td>6.00</td>\n",
              "      <td>2.400000</td>\n",
              "      <td>250.000</td>\n",
              "      <td>0.0</td>\n",
              "      <td>175.19</td>\n",
              "      <td>1.027941</td>\n",
              "      <td>80.0</td>\n",
              "    </tr>\n",
              "    <tr>\n",
              "      <th>181</th>\n",
              "      <td>Metro</td>\n",
              "      <td>plum</td>\n",
              "      <td>http://f.wishabi.net/page_items/164170589/1565720658/extra_large.jpg</td>\n",
              "      <td>2.49</td>\n",
              "      <td>45.355191</td>\n",
              "      <td>5.490</td>\n",
              "      <td>0.0</td>\n",
              "      <td>175.19</td>\n",
              "      <td>0.332333</td>\n",
              "      <td>80.0</td>\n",
              "    </tr>\n",
              "    <tr>\n",
              "      <th>179</th>\n",
              "      <td>Metro</td>\n",
              "      <td>meat</td>\n",
              "      <td>http://f.wishabi.net/page_items/164169265/1565720660/extra_large.jpg</td>\n",
              "      <td>1.99</td>\n",
              "      <td>1.228873</td>\n",
              "      <td>100.000</td>\n",
              "      <td>0.0</td>\n",
              "      <td>175.19</td>\n",
              "      <td>0.624830</td>\n",
              "      <td>80.0</td>\n",
              "    </tr>\n",
              "    <tr>\n",
              "      <th>189</th>\n",
              "      <td>Metro</td>\n",
              "      <td>eggplant</td>\n",
              "      <td>http://f.wishabi.net/page_items/164169047/1565720672/extra_large.jpg</td>\n",
              "      <td>0.99</td>\n",
              "      <td>0.218000</td>\n",
              "      <td>NaN</td>\n",
              "      <td>0.0</td>\n",
              "      <td>175.19</td>\n",
              "      <td>0.272000</td>\n",
              "      <td>80.0</td>\n",
              "    </tr>\n",
              "    <tr>\n",
              "      <th>178</th>\n",
              "      <td>Metro</td>\n",
              "      <td>green pepper</td>\n",
              "      <td>http://f.wishabi.net/page_items/164169047/1565720672/extra_large.jpg</td>\n",
              "      <td>0.99</td>\n",
              "      <td>0.218000</td>\n",
              "      <td>NaN</td>\n",
              "      <td>0.0</td>\n",
              "      <td>175.19</td>\n",
              "      <td>0.328000</td>\n",
              "      <td>80.0</td>\n",
              "    </tr>\n",
              "    <tr>\n",
              "      <th>177</th>\n",
              "      <td>Metro</td>\n",
              "      <td>grape</td>\n",
              "      <td>http://f.wishabi.net/page_items/164169044/1565720669/extra_large.jpg</td>\n",
              "      <td>1.77</td>\n",
              "      <td>0.390000</td>\n",
              "      <td>NaN</td>\n",
              "      <td>0.0</td>\n",
              "      <td>175.19</td>\n",
              "      <td>0.439000</td>\n",
              "      <td>80.0</td>\n",
              "    </tr>\n",
              "    <tr>\n",
              "      <th>176</th>\n",
              "      <td>Metro</td>\n",
              "      <td>cucumber</td>\n",
              "      <td>http://f.wishabi.net/page_items/164169847/1565720669/extra_large.jpg</td>\n",
              "      <td>2.49</td>\n",
              "      <td>NaN</td>\n",
              "      <td>NaN</td>\n",
              "      <td>1.0</td>\n",
              "      <td>175.19</td>\n",
              "      <td>0.173500</td>\n",
              "      <td>80.0</td>\n",
              "    </tr>\n",
              "    <tr>\n",
              "      <th>175</th>\n",
              "      <td>Metro</td>\n",
              "      <td>cheese</td>\n",
              "      <td>http://f.wishabi.net/page_items/164169055/1565720681/extra_large.jpg</td>\n",
              "      <td>4.99</td>\n",
              "      <td>1.247500</td>\n",
              "      <td>400.000</td>\n",
              "      <td>0.0</td>\n",
              "      <td>175.19</td>\n",
              "      <td>1.129357</td>\n",
              "      <td>80.0</td>\n",
              "    </tr>\n",
              "    <tr>\n",
              "      <th>174</th>\n",
              "      <td>Metro</td>\n",
              "      <td>broccoli</td>\n",
              "      <td>http://f.wishabi.net/page_items/164169841/1565720664/extra_large.jpg</td>\n",
              "      <td>1.99</td>\n",
              "      <td>NaN</td>\n",
              "      <td>NaN</td>\n",
              "      <td>1.0</td>\n",
              "      <td>175.19</td>\n",
              "      <td>0.373000</td>\n",
              "      <td>80.0</td>\n",
              "    </tr>\n",
              "    <tr>\n",
              "      <th>172</th>\n",
              "      <td>Metro</td>\n",
              "      <td>bean</td>\n",
              "      <td>http://f.wishabi.net/page_items/164169289/1565720667/extra_large.jpg</td>\n",
              "      <td>2.49</td>\n",
              "      <td>0.549000</td>\n",
              "      <td>930.000</td>\n",
              "      <td>0.0</td>\n",
              "      <td>175.19</td>\n",
              "      <td>0.568618</td>\n",
              "      <td>80.0</td>\n",
              "    </tr>\n",
              "    <tr>\n",
              "      <th>171</th>\n",
              "      <td>Metro</td>\n",
              "      <td>avocado</td>\n",
              "      <td>http://f.wishabi.net/page_items/164170528/1565720672/extra_large.jpg</td>\n",
              "      <td>18.99</td>\n",
              "      <td>2.532000</td>\n",
              "      <td>750.000</td>\n",
              "      <td>0.0</td>\n",
              "      <td>175.19</td>\n",
              "      <td>1.479849</td>\n",
              "      <td>80.0</td>\n",
              "    </tr>\n",
              "    <tr>\n",
              "      <th>188</th>\n",
              "      <td>Metro</td>\n",
              "      <td>corn</td>\n",
              "      <td>http://f.wishabi.net/page_items/164169046/1565720672/extra_large.jpg</td>\n",
              "      <td>2.49</td>\n",
              "      <td>1.753521</td>\n",
              "      <td>142.000</td>\n",
              "      <td>0.0</td>\n",
              "      <td>175.19</td>\n",
              "      <td>1.556306</td>\n",
              "      <td>80.0</td>\n",
              "    </tr>\n",
              "    <tr>\n",
              "      <th>190</th>\n",
              "      <td>Metro</td>\n",
              "      <td>fish</td>\n",
              "      <td>http://f.wishabi.net/page_items/164169242/1565720663/extra_large.jpg</td>\n",
              "      <td>2.99</td>\n",
              "      <td>1.550000</td>\n",
              "      <td>56.699</td>\n",
              "      <td>0.0</td>\n",
              "      <td>175.19</td>\n",
              "      <td>1.086071</td>\n",
              "      <td>80.0</td>\n",
              "    </tr>\n",
              "    <tr>\n",
              "      <th>169</th>\n",
              "      <td>Metro</td>\n",
              "      <td>apple</td>\n",
              "      <td>http://f.wishabi.net/page_items/164170599/1565720668/extra_large.jpg</td>\n",
              "      <td>3.49</td>\n",
              "      <td>NaN</td>\n",
              "      <td>NaN</td>\n",
              "      <td>1.0</td>\n",
              "      <td>175.19</td>\n",
              "      <td>0.220095</td>\n",
              "      <td>80.0</td>\n",
              "    </tr>\n",
              "    <tr>\n",
              "      <th>201</th>\n",
              "      <td>Metro</td>\n",
              "      <td>butter</td>\n",
              "      <td>http://f.wishabi.net/page_items/164170013/1565720674/extra_large.jpg</td>\n",
              "      <td>3.99</td>\n",
              "      <td>1.757709</td>\n",
              "      <td>227.000</td>\n",
              "      <td>0.0</td>\n",
              "      <td>175.19</td>\n",
              "      <td>0.665333</td>\n",
              "      <td>80.0</td>\n",
              "    </tr>\n",
              "    <tr>\n",
              "      <th>208</th>\n",
              "      <td>Metro</td>\n",
              "      <td>mango</td>\n",
              "      <td>http://f.wishabi.net/page_items/164170599/1565720668/extra_large.jpg</td>\n",
              "      <td>3.49</td>\n",
              "      <td>NaN</td>\n",
              "      <td>NaN</td>\n",
              "      <td>0.0</td>\n",
              "      <td>175.19</td>\n",
              "      <td>NaN</td>\n",
              "      <td>80.0</td>\n",
              "    </tr>\n",
              "    <tr>\n",
              "      <th>207</th>\n",
              "      <td>Metro</td>\n",
              "      <td>oil</td>\n",
              "      <td>http://f.wishabi.net/page_items/164170528/1565720672/extra_large.jpg</td>\n",
              "      <td>18.99</td>\n",
              "      <td>2.532000</td>\n",
              "      <td>750.000</td>\n",
              "      <td>0.0</td>\n",
              "      <td>175.19</td>\n",
              "      <td>0.798333</td>\n",
              "      <td>80.0</td>\n",
              "    </tr>\n",
              "    <tr>\n",
              "      <th>206</th>\n",
              "      <td>Metro</td>\n",
              "      <td>salmon</td>\n",
              "      <td>http://f.wishabi.net/page_items/164169281/1565720665/extra_large.jpg</td>\n",
              "      <td>2.99</td>\n",
              "      <td>3.539007</td>\n",
              "      <td>56.699</td>\n",
              "      <td>0.0</td>\n",
              "      <td>175.19</td>\n",
              "      <td>1.740301</td>\n",
              "      <td>80.0</td>\n",
              "    </tr>\n",
              "    <tr>\n",
              "      <th>205</th>\n",
              "      <td>Metro</td>\n",
              "      <td>raspberry</td>\n",
              "      <td>http://f.wishabi.net/page_items/164170591/1565720660/extra_large.jpg</td>\n",
              "      <td>2.99</td>\n",
              "      <td>NaN</td>\n",
              "      <td>NaN</td>\n",
              "      <td>1.0</td>\n",
              "      <td>175.19</td>\n",
              "      <td>2.347059</td>\n",
              "      <td>80.0</td>\n",
              "    </tr>\n",
              "    <tr>\n",
              "      <th>204</th>\n",
              "      <td>Metro</td>\n",
              "      <td>pasta</td>\n",
              "      <td>http://f.wishabi.net/page_items/164169243/1565720664/extra_large.jpg</td>\n",
              "      <td>3.99</td>\n",
              "      <td>0.613846</td>\n",
              "      <td>650.000</td>\n",
              "      <td>0.0</td>\n",
              "      <td>175.19</td>\n",
              "      <td>0.276137</td>\n",
              "      <td>80.0</td>\n",
              "    </tr>\n",
              "    <tr>\n",
              "      <th>203</th>\n",
              "      <td>Metro</td>\n",
              "      <td>orange</td>\n",
              "      <td>http://f.wishabi.net/page_items/164169836/1565720659/extra_large.jpg</td>\n",
              "      <td>3.49</td>\n",
              "      <td>0.769000</td>\n",
              "      <td>NaN</td>\n",
              "      <td>0.0</td>\n",
              "      <td>175.19</td>\n",
              "      <td>0.322807</td>\n",
              "      <td>80.0</td>\n",
              "    </tr>\n",
              "    <tr>\n",
              "      <th>202</th>\n",
              "      <td>Metro</td>\n",
              "      <td>ground beef</td>\n",
              "      <td>http://f.wishabi.net/page_items/164169951/1565720671/extra_large.jpg</td>\n",
              "      <td>3.49</td>\n",
              "      <td>NaN</td>\n",
              "      <td>NaN</td>\n",
              "      <td>0.0</td>\n",
              "      <td>175.19</td>\n",
              "      <td>0.830000</td>\n",
              "      <td>80.0</td>\n",
              "    </tr>\n",
              "    <tr>\n",
              "      <th>200</th>\n",
              "      <td>Metro</td>\n",
              "      <td>banana</td>\n",
              "      <td>http://f.wishabi.net/page_items/164170599/1565720668/extra_large.jpg</td>\n",
              "      <td>3.49</td>\n",
              "      <td>NaN</td>\n",
              "      <td>NaN</td>\n",
              "      <td>0.0</td>\n",
              "      <td>175.19</td>\n",
              "      <td>0.563805</td>\n",
              "      <td>80.0</td>\n",
              "    </tr>\n",
              "    <tr>\n",
              "      <th>...</th>\n",
              "      <td>...</td>\n",
              "      <td>...</td>\n",
              "      <td>...</td>\n",
              "      <td>...</td>\n",
              "      <td>...</td>\n",
              "      <td>...</td>\n",
              "      <td>...</td>\n",
              "      <td>...</td>\n",
              "      <td>...</td>\n",
              "      <td>...</td>\n",
              "    </tr>\n",
              "    <tr>\n",
              "      <th>5</th>\n",
              "      <td>Chalo FreshCo</td>\n",
              "      <td>broccoli</td>\n",
              "      <td>http://f.wishabi.net/page_items/164012183/1566221639/extra_large.jpg</td>\n",
              "      <td>1.69</td>\n",
              "      <td>0.373000</td>\n",
              "      <td>NaN</td>\n",
              "      <td>0.0</td>\n",
              "      <td>44.89</td>\n",
              "      <td>0.373000</td>\n",
              "      <td>36.0</td>\n",
              "    </tr>\n",
              "    <tr>\n",
              "      <th>7</th>\n",
              "      <td>Chalo FreshCo</td>\n",
              "      <td>cucumber</td>\n",
              "      <td>http://f.wishabi.net/page_items/164401210/1566221635/extra_large.jpg</td>\n",
              "      <td>0.69</td>\n",
              "      <td>0.133000</td>\n",
              "      <td>3000.000</td>\n",
              "      <td>0.0</td>\n",
              "      <td>44.89</td>\n",
              "      <td>0.173500</td>\n",
              "      <td>36.0</td>\n",
              "    </tr>\n",
              "    <tr>\n",
              "      <th>8</th>\n",
              "      <td>Chalo FreshCo</td>\n",
              "      <td>grape</td>\n",
              "      <td>http://f.wishabi.net/page_items/164012167/1566221634/extra_large.jpg</td>\n",
              "      <td>0.88</td>\n",
              "      <td>0.439000</td>\n",
              "      <td>NaN</td>\n",
              "      <td>0.0</td>\n",
              "      <td>44.89</td>\n",
              "      <td>0.439000</td>\n",
              "      <td>36.0</td>\n",
              "    </tr>\n",
              "    <tr>\n",
              "      <th>6</th>\n",
              "      <td>Chalo FreshCo</td>\n",
              "      <td>cheese</td>\n",
              "      <td>http://f.wishabi.net/page_items/164012199/1566221639/extra_large.jpg</td>\n",
              "      <td>3.99</td>\n",
              "      <td>0.886667</td>\n",
              "      <td>113.000</td>\n",
              "      <td>0.0</td>\n",
              "      <td>44.89</td>\n",
              "      <td>1.129357</td>\n",
              "      <td>36.0</td>\n",
              "    </tr>\n",
              "    <tr>\n",
              "      <th>10</th>\n",
              "      <td>Chalo FreshCo</td>\n",
              "      <td>meat</td>\n",
              "      <td>http://f.wishabi.net/page_items/164012194/1566221634/extra_large.jpg</td>\n",
              "      <td>3.49</td>\n",
              "      <td>0.220462</td>\n",
              "      <td>375.000</td>\n",
              "      <td>0.0</td>\n",
              "      <td>44.89</td>\n",
              "      <td>0.624830</td>\n",
              "      <td>36.0</td>\n",
              "    </tr>\n",
              "    <tr>\n",
              "      <th>11</th>\n",
              "      <td>Chalo FreshCo</td>\n",
              "      <td>onion</td>\n",
              "      <td>http://f.wishabi.net/page_items/164401213/1566221638/extra_large.jpg</td>\n",
              "      <td>0.69</td>\n",
              "      <td>NaN</td>\n",
              "      <td>NaN</td>\n",
              "      <td>1.0</td>\n",
              "      <td>44.89</td>\n",
              "      <td>0.219728</td>\n",
              "      <td>36.0</td>\n",
              "    </tr>\n",
              "    <tr>\n",
              "      <th>12</th>\n",
              "      <td>Chalo FreshCo</td>\n",
              "      <td>pear</td>\n",
              "      <td>http://f.wishabi.net/page_items/164012184/1566221640/extra_large.jpg</td>\n",
              "      <td>1.49</td>\n",
              "      <td>0.328000</td>\n",
              "      <td>NaN</td>\n",
              "      <td>0.0</td>\n",
              "      <td>44.89</td>\n",
              "      <td>0.330143</td>\n",
              "      <td>36.0</td>\n",
              "    </tr>\n",
              "    <tr>\n",
              "      <th>13</th>\n",
              "      <td>Chalo FreshCo</td>\n",
              "      <td>plum</td>\n",
              "      <td>http://f.wishabi.net/page_items/164012167/1566221634/extra_large.jpg</td>\n",
              "      <td>0.88</td>\n",
              "      <td>0.266000</td>\n",
              "      <td>1500.000</td>\n",
              "      <td>0.0</td>\n",
              "      <td>44.89</td>\n",
              "      <td>0.332333</td>\n",
              "      <td>36.0</td>\n",
              "    </tr>\n",
              "    <tr>\n",
              "      <th>14</th>\n",
              "      <td>Chalo FreshCo</td>\n",
              "      <td>rice</td>\n",
              "      <td>http://f.wishabi.net/page_items/164012248/1566221634/extra_large.jpg</td>\n",
              "      <td>2.00</td>\n",
              "      <td>1.136364</td>\n",
              "      <td>176.000</td>\n",
              "      <td>0.0</td>\n",
              "      <td>44.89</td>\n",
              "      <td>1.027941</td>\n",
              "      <td>36.0</td>\n",
              "    </tr>\n",
              "    <tr>\n",
              "      <th>15</th>\n",
              "      <td>Chalo FreshCo</td>\n",
              "      <td>steak</td>\n",
              "      <td>http://f.wishabi.net/page_items/164012169/1566221636/extra_large.jpg</td>\n",
              "      <td>8.99</td>\n",
              "      <td>1.498333</td>\n",
              "      <td>570.000</td>\n",
              "      <td>0.0</td>\n",
              "      <td>44.89</td>\n",
              "      <td>1.407167</td>\n",
              "      <td>36.0</td>\n",
              "    </tr>\n",
              "    <tr>\n",
              "      <th>16</th>\n",
              "      <td>Chalo FreshCo</td>\n",
              "      <td>tomato</td>\n",
              "      <td>http://f.wishabi.net/page_items/164012167/1566221634/extra_large.jpg</td>\n",
              "      <td>0.88</td>\n",
              "      <td>NaN</td>\n",
              "      <td>NaN</td>\n",
              "      <td>0.0</td>\n",
              "      <td>44.89</td>\n",
              "      <td>0.214000</td>\n",
              "      <td>36.0</td>\n",
              "    </tr>\n",
              "    <tr>\n",
              "      <th>372</th>\n",
              "      <td>Shoppers Drug Mart</td>\n",
              "      <td>fish</td>\n",
              "      <td>http://f.wishabi.net/page_items/163871502/1565798896/extra_large.jpg</td>\n",
              "      <td>4.99</td>\n",
              "      <td>0.855714</td>\n",
              "      <td>113.000</td>\n",
              "      <td>0.0</td>\n",
              "      <td>45.76</td>\n",
              "      <td>1.086071</td>\n",
              "      <td>28.0</td>\n",
              "    </tr>\n",
              "    <tr>\n",
              "      <th>378</th>\n",
              "      <td>Shoppers Drug Mart</td>\n",
              "      <td>oil</td>\n",
              "      <td>http://f.wishabi.net/page_items/163870516/1565798805/extra_large.jpg</td>\n",
              "      <td>2.99</td>\n",
              "      <td>0.199600</td>\n",
              "      <td>946.000</td>\n",
              "      <td>0.0</td>\n",
              "      <td>45.76</td>\n",
              "      <td>0.798333</td>\n",
              "      <td>28.0</td>\n",
              "    </tr>\n",
              "    <tr>\n",
              "      <th>377</th>\n",
              "      <td>Shoppers Drug Mart</td>\n",
              "      <td>pasta</td>\n",
              "      <td>http://f.wishabi.net/page_items/163871517/1565798899/extra_large.jpg</td>\n",
              "      <td>0.89</td>\n",
              "      <td>0.313380</td>\n",
              "      <td>284.000</td>\n",
              "      <td>0.0</td>\n",
              "      <td>45.76</td>\n",
              "      <td>0.276137</td>\n",
              "      <td>28.0</td>\n",
              "    </tr>\n",
              "    <tr>\n",
              "      <th>376</th>\n",
              "      <td>Shoppers Drug Mart</td>\n",
              "      <td>butter</td>\n",
              "      <td>http://f.wishabi.net/page_items/163870495/1565798804/extra_large.jpg</td>\n",
              "      <td>4.49</td>\n",
              "      <td>0.898000</td>\n",
              "      <td>500.000</td>\n",
              "      <td>0.0</td>\n",
              "      <td>45.76</td>\n",
              "      <td>0.665333</td>\n",
              "      <td>28.0</td>\n",
              "    </tr>\n",
              "    <tr>\n",
              "      <th>375</th>\n",
              "      <td>Shoppers Drug Mart</td>\n",
              "      <td>Egg</td>\n",
              "      <td>http://f.wishabi.net/page_items/163872793/1565798825/extra_large.jpg</td>\n",
              "      <td>2.99</td>\n",
              "      <td>0.658590</td>\n",
              "      <td>454.000</td>\n",
              "      <td>0.0</td>\n",
              "      <td>45.76</td>\n",
              "      <td>0.733824</td>\n",
              "      <td>28.0</td>\n",
              "    </tr>\n",
              "    <tr>\n",
              "      <th>374</th>\n",
              "      <td>Shoppers Drug Mart</td>\n",
              "      <td>yogurt</td>\n",
              "      <td>http://f.wishabi.net/page_items/163871514/1565798899/extra_large.jpg</td>\n",
              "      <td>2.49</td>\n",
              "      <td>7.000000</td>\n",
              "      <td>100.000</td>\n",
              "      <td>0.0</td>\n",
              "      <td>45.76</td>\n",
              "      <td>0.286513</td>\n",
              "      <td>28.0</td>\n",
              "    </tr>\n",
              "    <tr>\n",
              "      <th>373</th>\n",
              "      <td>Shoppers Drug Mart</td>\n",
              "      <td>milk</td>\n",
              "      <td>http://f.wishabi.net/page_items/163871545/1565798808/extra_large.jpg</td>\n",
              "      <td>2.49</td>\n",
              "      <td>0.224500</td>\n",
              "      <td>473.000</td>\n",
              "      <td>0.0</td>\n",
              "      <td>45.76</td>\n",
              "      <td>0.224500</td>\n",
              "      <td>28.0</td>\n",
              "    </tr>\n",
              "    <tr>\n",
              "      <th>366</th>\n",
              "      <td>Shoppers Drug Mart</td>\n",
              "      <td>bread</td>\n",
              "      <td>http://f.wishabi.net/page_items/163871547/1565798809/extra_large.jpg</td>\n",
              "      <td>2.99</td>\n",
              "      <td>0.442963</td>\n",
              "      <td>570.000</td>\n",
              "      <td>0.0</td>\n",
              "      <td>45.76</td>\n",
              "      <td>0.413333</td>\n",
              "      <td>28.0</td>\n",
              "    </tr>\n",
              "    <tr>\n",
              "      <th>371</th>\n",
              "      <td>Shoppers Drug Mart</td>\n",
              "      <td>corn</td>\n",
              "      <td>http://f.wishabi.net/page_items/163871435/1565798871/extra_large.jpg</td>\n",
              "      <td>3.49</td>\n",
              "      <td>1.896739</td>\n",
              "      <td>184.000</td>\n",
              "      <td>0.0</td>\n",
              "      <td>45.76</td>\n",
              "      <td>1.556306</td>\n",
              "      <td>28.0</td>\n",
              "    </tr>\n",
              "    <tr>\n",
              "      <th>370</th>\n",
              "      <td>Shoppers Drug Mart</td>\n",
              "      <td>rice</td>\n",
              "      <td>http://f.wishabi.net/page_items/163871474/1565798886/extra_large.jpg</td>\n",
              "      <td>2.49</td>\n",
              "      <td>0.674324</td>\n",
              "      <td>740.000</td>\n",
              "      <td>0.0</td>\n",
              "      <td>45.76</td>\n",
              "      <td>1.027941</td>\n",
              "      <td>28.0</td>\n",
              "    </tr>\n",
              "    <tr>\n",
              "      <th>369</th>\n",
              "      <td>Shoppers Drug Mart</td>\n",
              "      <td>plum</td>\n",
              "      <td>http://f.wishabi.net/page_items/163871520/1565798900/extra_large.jpg</td>\n",
              "      <td>2.99</td>\n",
              "      <td>0.398667</td>\n",
              "      <td>750.000</td>\n",
              "      <td>0.0</td>\n",
              "      <td>45.76</td>\n",
              "      <td>0.332333</td>\n",
              "      <td>28.0</td>\n",
              "    </tr>\n",
              "    <tr>\n",
              "      <th>368</th>\n",
              "      <td>Shoppers Drug Mart</td>\n",
              "      <td>meat</td>\n",
              "      <td>http://f.wishabi.net/page_items/163871656/1565798814/extra_large.jpg</td>\n",
              "      <td>4.99</td>\n",
              "      <td>1.099119</td>\n",
              "      <td>454.000</td>\n",
              "      <td>0.0</td>\n",
              "      <td>45.76</td>\n",
              "      <td>0.624830</td>\n",
              "      <td>28.0</td>\n",
              "    </tr>\n",
              "    <tr>\n",
              "      <th>367</th>\n",
              "      <td>Shoppers Drug Mart</td>\n",
              "      <td>cheese</td>\n",
              "      <td>http://f.wishabi.net/page_items/163870432/1565798801/extra_large.jpg</td>\n",
              "      <td>3.49</td>\n",
              "      <td>1.537445</td>\n",
              "      <td>227.000</td>\n",
              "      <td>0.0</td>\n",
              "      <td>45.76</td>\n",
              "      <td>1.129357</td>\n",
              "      <td>28.0</td>\n",
              "    </tr>\n",
              "    <tr>\n",
              "      <th>365</th>\n",
              "      <td>Shoppers Drug Mart</td>\n",
              "      <td>bean</td>\n",
              "      <td>http://f.wishabi.net/page_items/163870495/1565798804/extra_large.jpg</td>\n",
              "      <td>3.99</td>\n",
              "      <td>0.848936</td>\n",
              "      <td>398.000</td>\n",
              "      <td>0.0</td>\n",
              "      <td>45.76</td>\n",
              "      <td>0.568618</td>\n",
              "      <td>28.0</td>\n",
              "    </tr>\n",
              "    <tr>\n",
              "      <th>379</th>\n",
              "      <td>Healthy Planet</td>\n",
              "      <td>cheese</td>\n",
              "      <td>http://f.wishabi.net/page_items/164644507/1566228974/extra_large.jpg</td>\n",
              "      <td>6.99</td>\n",
              "      <td>3.495000</td>\n",
              "      <td>200.000</td>\n",
              "      <td>0.0</td>\n",
              "      <td>25.16</td>\n",
              "      <td>1.129357</td>\n",
              "      <td>10.0</td>\n",
              "    </tr>\n",
              "    <tr>\n",
              "      <th>380</th>\n",
              "      <td>Healthy Planet</td>\n",
              "      <td>lettuce</td>\n",
              "      <td>http://f.wishabi.net/page_items/164259526/1566228980/extra_large.jpg</td>\n",
              "      <td>3.00</td>\n",
              "      <td>NaN</td>\n",
              "      <td>NaN</td>\n",
              "      <td>1.0</td>\n",
              "      <td>25.16</td>\n",
              "      <td>1.191294</td>\n",
              "      <td>10.0</td>\n",
              "    </tr>\n",
              "    <tr>\n",
              "      <th>381</th>\n",
              "      <td>Healthy Planet</td>\n",
              "      <td>banana</td>\n",
              "      <td>http://f.wishabi.net/page_items/164259528/1566228982/extra_large.jpg</td>\n",
              "      <td>0.69</td>\n",
              "      <td>0.152119</td>\n",
              "      <td>NaN</td>\n",
              "      <td>0.0</td>\n",
              "      <td>25.16</td>\n",
              "      <td>0.563805</td>\n",
              "      <td>10.0</td>\n",
              "    </tr>\n",
              "    <tr>\n",
              "      <th>382</th>\n",
              "      <td>Healthy Planet</td>\n",
              "      <td>butter</td>\n",
              "      <td>http://f.wishabi.net/page_items/164644525/1566228970/extra_large.jpg</td>\n",
              "      <td>12.99</td>\n",
              "      <td>3.558904</td>\n",
              "      <td>365.000</td>\n",
              "      <td>0.0</td>\n",
              "      <td>25.16</td>\n",
              "      <td>0.665333</td>\n",
              "      <td>10.0</td>\n",
              "    </tr>\n",
              "    <tr>\n",
              "      <th>383</th>\n",
              "      <td>Healthy Planet</td>\n",
              "      <td>orange</td>\n",
              "      <td>http://f.wishabi.net/page_items/164259524/1566228979/extra_large.jpg</td>\n",
              "      <td>1.49</td>\n",
              "      <td>0.328489</td>\n",
              "      <td>NaN</td>\n",
              "      <td>0.0</td>\n",
              "      <td>25.16</td>\n",
              "      <td>0.322807</td>\n",
              "      <td>10.0</td>\n",
              "    </tr>\n",
              "  </tbody>\n",
              "</table>\n",
              "<p>384 rows × 10 columns</p>\n",
              "</div>"
            ],
            "text/plain": [
              "          merchant_name       product  ... price_100_median  Percentage_list\n",
              "192               Metro         lemon  ...         0.660285             80.0\n",
              "180               Metro          pear  ...         0.330143             80.0\n",
              "187               Metro     blueberry  ...         0.926893             80.0\n",
              "186               Metro     asparagus  ...        23.267378             80.0\n",
              "185               Metro    watermelon  ...         0.079968             80.0\n",
              "184               Metro        tomato  ...         0.214000             80.0\n",
              "183               Metro         steak  ...         1.407167             80.0\n",
              "182               Metro          rice  ...         1.027941             80.0\n",
              "181               Metro          plum  ...         0.332333             80.0\n",
              "179               Metro          meat  ...         0.624830             80.0\n",
              "189               Metro      eggplant  ...         0.272000             80.0\n",
              "178               Metro  green pepper  ...         0.328000             80.0\n",
              "177               Metro         grape  ...         0.439000             80.0\n",
              "176               Metro      cucumber  ...         0.173500             80.0\n",
              "175               Metro        cheese  ...         1.129357             80.0\n",
              "174               Metro      broccoli  ...         0.373000             80.0\n",
              "172               Metro          bean  ...         0.568618             80.0\n",
              "171               Metro       avocado  ...         1.479849             80.0\n",
              "188               Metro          corn  ...         1.556306             80.0\n",
              "190               Metro          fish  ...         1.086071             80.0\n",
              "169               Metro         apple  ...         0.220095             80.0\n",
              "201               Metro        butter  ...         0.665333             80.0\n",
              "208               Metro         mango  ...              NaN             80.0\n",
              "207               Metro           oil  ...         0.798333             80.0\n",
              "206               Metro        salmon  ...         1.740301             80.0\n",
              "205               Metro     raspberry  ...         2.347059             80.0\n",
              "204               Metro         pasta  ...         0.276137             80.0\n",
              "203               Metro        orange  ...         0.322807             80.0\n",
              "202               Metro   ground beef  ...         0.830000             80.0\n",
              "200               Metro        banana  ...         0.563805             80.0\n",
              "..                  ...           ...  ...              ...              ...\n",
              "5        Chalo FreshCo       broccoli  ...         0.373000             36.0\n",
              "7        Chalo FreshCo       cucumber  ...         0.173500             36.0\n",
              "8        Chalo FreshCo          grape  ...         0.439000             36.0\n",
              "6        Chalo FreshCo         cheese  ...         1.129357             36.0\n",
              "10       Chalo FreshCo           meat  ...         0.624830             36.0\n",
              "11       Chalo FreshCo          onion  ...         0.219728             36.0\n",
              "12       Chalo FreshCo           pear  ...         0.330143             36.0\n",
              "13       Chalo FreshCo           plum  ...         0.332333             36.0\n",
              "14       Chalo FreshCo           rice  ...         1.027941             36.0\n",
              "15       Chalo FreshCo          steak  ...         1.407167             36.0\n",
              "16       Chalo FreshCo         tomato  ...         0.214000             36.0\n",
              "372  Shoppers Drug Mart          fish  ...         1.086071             28.0\n",
              "378  Shoppers Drug Mart           oil  ...         0.798333             28.0\n",
              "377  Shoppers Drug Mart         pasta  ...         0.276137             28.0\n",
              "376  Shoppers Drug Mart        butter  ...         0.665333             28.0\n",
              "375  Shoppers Drug Mart           Egg  ...         0.733824             28.0\n",
              "374  Shoppers Drug Mart        yogurt  ...         0.286513             28.0\n",
              "373  Shoppers Drug Mart          milk  ...         0.224500             28.0\n",
              "366  Shoppers Drug Mart         bread  ...         0.413333             28.0\n",
              "371  Shoppers Drug Mart          corn  ...         1.556306             28.0\n",
              "370  Shoppers Drug Mart          rice  ...         1.027941             28.0\n",
              "369  Shoppers Drug Mart          plum  ...         0.332333             28.0\n",
              "368  Shoppers Drug Mart          meat  ...         0.624830             28.0\n",
              "367  Shoppers Drug Mart        cheese  ...         1.129357             28.0\n",
              "365  Shoppers Drug Mart          bean  ...         0.568618             28.0\n",
              "379      Healthy Planet        cheese  ...         1.129357             10.0\n",
              "380      Healthy Planet       lettuce  ...         1.191294             10.0\n",
              "381      Healthy Planet        banana  ...         0.563805             10.0\n",
              "382      Healthy Planet        butter  ...         0.665333             10.0\n",
              "383      Healthy Planet        orange  ...         0.322807             10.0\n",
              "\n",
              "[384 rows x 10 columns]"
            ]
          },
          "metadata": {
            "tags": []
          },
          "execution_count": 142
        }
      ]
    },
    {
      "cell_type": "code",
      "metadata": {
        "id": "IRqeHM2uittN",
        "colab_type": "code",
        "colab": {}
      },
      "source": [
        ""
      ],
      "execution_count": 0,
      "outputs": []
    }
  ]
}
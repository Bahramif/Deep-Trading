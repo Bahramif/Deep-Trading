{
  "nbformat": 4,
  "nbformat_minor": 0,
  "metadata": {
    "colab": {
      "name": "FLIPP_final.ipynb",
      "version": "0.3.2",
      "provenance": [],
      "collapsed_sections": [],
      "include_colab_link": true
    },
    "kernelspec": {
      "name": "python3",
      "display_name": "Python 3"
    }
  },
  "cells": [
    {
      "cell_type": "markdown",
      "metadata": {
        "id": "view-in-github",
        "colab_type": "text"
      },
      "source": [
        "<a href=\"https://colab.research.google.com/github/Bahramif/Deep-Trading/blob/master/FLIPP_finalv2.ipynb\" target=\"_parent\"><img src=\"https://colab.research.google.com/assets/colab-badge.svg\" alt=\"Open In Colab\"/></a>"
      ]
    },
    {
      "cell_type": "code",
      "metadata": {
        "id": "Cf3-nLkd-C5X",
        "colab_type": "code",
        "outputId": "e5bc1be9-b178-4960-df53-aaf884216a63",
        "colab": {
          "base_uri": "https://localhost:8080/",
          "height": 497
        }
      },
      "source": [
        "!pip install --upgrade google-cloud-vision"
      ],
      "execution_count": 0,
      "outputs": [
        {
          "output_type": "stream",
          "text": [
            "Collecting google-cloud-vision\n",
            "\u001b[?25l  Downloading https://files.pythonhosted.org/packages/ec/e3/77b17733592fde11b7250444ddedd8d04ae1be6f0f4c0d9f47ed154a686e/google_cloud_vision-0.39.0-py2.py3-none-any.whl (418kB)\n",
            "\u001b[K     |████████████████████████████████| 419kB 4.9MB/s \n",
            "\u001b[?25hRequirement already satisfied, skipping upgrade: google-api-core[grpc]<2.0.0dev,>=1.14.0 in /usr/local/lib/python3.6/dist-packages (from google-cloud-vision) (1.14.2)\n",
            "Requirement already satisfied, skipping upgrade: six>=1.10.0 in /usr/local/lib/python3.6/dist-packages (from google-api-core[grpc]<2.0.0dev,>=1.14.0->google-cloud-vision) (1.12.0)\n",
            "Requirement already satisfied, skipping upgrade: setuptools>=34.0.0 in /usr/local/lib/python3.6/dist-packages (from google-api-core[grpc]<2.0.0dev,>=1.14.0->google-cloud-vision) (41.0.1)\n",
            "Requirement already satisfied, skipping upgrade: googleapis-common-protos<2.0dev,>=1.6.0 in /usr/local/lib/python3.6/dist-packages (from google-api-core[grpc]<2.0.0dev,>=1.14.0->google-cloud-vision) (1.6.0)\n",
            "Requirement already satisfied, skipping upgrade: pytz in /usr/local/lib/python3.6/dist-packages (from google-api-core[grpc]<2.0.0dev,>=1.14.0->google-cloud-vision) (2018.9)\n",
            "Requirement already satisfied, skipping upgrade: google-auth<2.0dev,>=0.4.0 in /usr/local/lib/python3.6/dist-packages (from google-api-core[grpc]<2.0.0dev,>=1.14.0->google-cloud-vision) (1.4.2)\n",
            "Requirement already satisfied, skipping upgrade: protobuf>=3.4.0 in /usr/local/lib/python3.6/dist-packages (from google-api-core[grpc]<2.0.0dev,>=1.14.0->google-cloud-vision) (3.7.1)\n",
            "Requirement already satisfied, skipping upgrade: requests<3.0.0dev,>=2.18.0 in /usr/local/lib/python3.6/dist-packages (from google-api-core[grpc]<2.0.0dev,>=1.14.0->google-cloud-vision) (2.21.0)\n",
            "Requirement already satisfied, skipping upgrade: grpcio<2.0dev,>=1.8.2; extra == \"grpc\" in /usr/local/lib/python3.6/dist-packages (from google-api-core[grpc]<2.0.0dev,>=1.14.0->google-cloud-vision) (1.15.0)\n",
            "Requirement already satisfied, skipping upgrade: cachetools>=2.0.0 in /usr/local/lib/python3.6/dist-packages (from google-auth<2.0dev,>=0.4.0->google-api-core[grpc]<2.0.0dev,>=1.14.0->google-cloud-vision) (3.1.1)\n",
            "Requirement already satisfied, skipping upgrade: rsa>=3.1.4 in /usr/local/lib/python3.6/dist-packages (from google-auth<2.0dev,>=0.4.0->google-api-core[grpc]<2.0.0dev,>=1.14.0->google-cloud-vision) (4.0)\n",
            "Requirement already satisfied, skipping upgrade: pyasn1-modules>=0.2.1 in /usr/local/lib/python3.6/dist-packages (from google-auth<2.0dev,>=0.4.0->google-api-core[grpc]<2.0.0dev,>=1.14.0->google-cloud-vision) (0.2.6)\n",
            "Requirement already satisfied, skipping upgrade: chardet<3.1.0,>=3.0.2 in /usr/local/lib/python3.6/dist-packages (from requests<3.0.0dev,>=2.18.0->google-api-core[grpc]<2.0.0dev,>=1.14.0->google-cloud-vision) (3.0.4)\n",
            "Requirement already satisfied, skipping upgrade: idna<2.9,>=2.5 in /usr/local/lib/python3.6/dist-packages (from requests<3.0.0dev,>=2.18.0->google-api-core[grpc]<2.0.0dev,>=1.14.0->google-cloud-vision) (2.8)\n",
            "Requirement already satisfied, skipping upgrade: urllib3<1.25,>=1.21.1 in /usr/local/lib/python3.6/dist-packages (from requests<3.0.0dev,>=2.18.0->google-api-core[grpc]<2.0.0dev,>=1.14.0->google-cloud-vision) (1.24.3)\n",
            "Requirement already satisfied, skipping upgrade: certifi>=2017.4.17 in /usr/local/lib/python3.6/dist-packages (from requests<3.0.0dev,>=2.18.0->google-api-core[grpc]<2.0.0dev,>=1.14.0->google-cloud-vision) (2019.6.16)\n",
            "Requirement already satisfied, skipping upgrade: pyasn1>=0.1.3 in /usr/local/lib/python3.6/dist-packages (from rsa>=3.1.4->google-auth<2.0dev,>=0.4.0->google-api-core[grpc]<2.0.0dev,>=1.14.0->google-cloud-vision) (0.4.6)\n",
            "Installing collected packages: google-cloud-vision\n",
            "Successfully installed google-cloud-vision-0.39.0\n"
          ],
          "name": "stdout"
        },
        {
          "output_type": "display_data",
          "data": {
            "application/vnd.colab-display-data+json": {
              "pip_warning": {
                "packages": [
                  "google"
                ]
              }
            }
          },
          "metadata": {
            "tags": []
          }
        }
      ]
    },
    {
      "cell_type": "code",
      "metadata": {
        "id": "r-ZOfG34-lpQ",
        "colab_type": "code",
        "colab": {}
      },
      "source": [
        "!pip install requests\n"
      ],
      "execution_count": 0,
      "outputs": []
    },
    {
      "cell_type": "code",
      "metadata": {
        "id": "DDHL9z_t-Gsb",
        "colab_type": "code",
        "outputId": "343e99f1-bae3-43b6-f3bd-2cd8722a0a0c",
        "colab": {
          "resources": {
            "http://localhost:8080/nbextensions/google.colab/files.js": {
              "data": "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",
              "ok": true,
              "headers": [
                [
                  "content-type",
                  "application/javascript"
                ]
              ],
              "status": 200,
              "status_text": ""
            }
          },
          "base_uri": "https://localhost:8080/",
          "height": 71
        }
      },
      "source": [
        "from google.colab import files\n",
        "uploaded = files.upload()"
      ],
      "execution_count": 0,
      "outputs": [
        {
          "output_type": "display_data",
          "data": {
            "text/html": [
              "\n",
              "     <input type=\"file\" id=\"files-85c9a994-8349-4329-81f6-37202f600023\" name=\"files[]\" multiple disabled />\n",
              "     <output id=\"result-85c9a994-8349-4329-81f6-37202f600023\">\n",
              "      Upload widget is only available when the cell has been executed in the\n",
              "      current browser session. Please rerun this cell to enable.\n",
              "      </output>\n",
              "      <script src=\"/nbextensions/google.colab/files.js\"></script> "
            ],
            "text/plain": [
              "<IPython.core.display.HTML object>"
            ]
          },
          "metadata": {
            "tags": []
          }
        },
        {
          "output_type": "stream",
          "text": [
            "Saving My First Project-071ea935f8a8.json to My First Project-071ea935f8a8.json\n"
          ],
          "name": "stdout"
        }
      ]
    },
    {
      "cell_type": "code",
      "metadata": {
        "id": "ouZolyJ0-Lxz",
        "colab_type": "code",
        "colab": {}
      },
      "source": [
        "import os\n",
        "os.environ[\"GOOGLE_APPLICATION_CREDENTIALS\"]=\"My First Project-071ea935f8a8.json\""
      ],
      "execution_count": 0,
      "outputs": []
    },
    {
      "cell_type": "code",
      "metadata": {
        "id": "GHMdx0j2-TBB",
        "colab_type": "code",
        "colab": {}
      },
      "source": [
        "Meat=['meat','fish','salmon','ground beef','steak','sirloin','ham','trout','tenderloin']\n",
        "Grains_bread=['pasta','rice','bread']\n",
        "oil=['butter','oil']\n",
        "Diary=['Egg','cheese','yogurt','milk']\n",
        "Produce=['onion','garlic']\n",
        "\n",
        "\n",
        "fruits=['apple', 'apricot','banana','blackberry','cherry','grapefruit','mango','kiwi','orange','papaya','passion fruit'\n",
        ",'peach','pear','pea','pineapple','plum','watermelon','raspberry','blueberry','grape']\n",
        "\n",
        "Vegetables=['asparagus','avocado','bean','broccoli','corn','cucumber','carrot','eggplant','lemon','lettuce','mushroom','potatoe','tomato','green pepper']\n",
        "All=fruits+Vegetables+Produce+Diary+oil+Grains_bread+Meat"
      ],
      "execution_count": 0,
      "outputs": []
    },
    {
      "cell_type": "markdown",
      "metadata": {
        "id": "ZEKI6CH_-oR7",
        "colab_type": "text"
      },
      "source": [
        "## Scrape Flipp"
      ]
    },
    {
      "cell_type": "code",
      "metadata": {
        "id": "AVczvNNi-ihV",
        "colab_type": "code",
        "colab": {}
      },
      "source": [
        "import requests\n",
        "import pandas as pd\n",
        "\n",
        "BASE_URL = 'https://flipp.com'\n",
        "BACKEND_URL = 'https://backflipp.wishabi.com/flipp'\n",
        "SEARCH_URL = '%s/items/search' % BACKEND_URL\n",
        "ITEM_URL = '%s/items/' % BACKEND_URL\n",
        "\n",
        "# def scrape_item(item_id):\n",
        "#     return requests.get(\n",
        "#         \"%s/%s\" % (ITEM_URL, item_id,)\n",
        "#     ).json()\n",
        "\n",
        "def search(query, postal_code, locale):\n",
        "    data = requests.get(\n",
        "        SEARCH_URL,\n",
        "        params = {\n",
        "            'q': query,\n",
        "            'postal_code': postal_code,\n",
        "            'locale':locale\n",
        "        }\n",
        "    ).json()\n",
        "\n",
        "    return [\n",
        "#             scrape_item(x.get('flyer_item_id'))\n",
        "\n",
        "            x for x in data.get('items')\n",
        "    ]\n",
        "\n",
        "\n"
      ],
      "execution_count": 0,
      "outputs": []
    },
    {
      "cell_type": "code",
      "metadata": {
        "id": "00fZrYGJ-r1g",
        "colab_type": "code",
        "colab": {}
      },
      "source": [
        "# testing search function\n",
        "search_result = search('Milk','l6a3r7', 'en-ca')\n",
        "columns = list(search_result[0].keys())\n"
      ],
      "execution_count": 0,
      "outputs": []
    },
    {
      "cell_type": "markdown",
      "metadata": {
        "id": "XzAgJwFy-2JB",
        "colab_type": "text"
      },
      "source": [
        "Convert the product list to dataframe"
      ]
    },
    {
      "cell_type": "code",
      "metadata": {
        "id": "Mqz8Px4--1br",
        "colab_type": "code",
        "colab": {}
      },
      "source": [
        "\n",
        "query_results=list()\n",
        "df=pd.DataFrame()\n",
        "for items in All:\n",
        "  try:\n",
        "    final_dict = {key:[] for key in columns}\n",
        "    keys = final_dict.keys()\n",
        "    query_results=search(items,'l6a3r7', 'en-ca')\n",
        "    for q in query_results:\n",
        "       for key in keys:\n",
        "          final_dict[key].append(q[key])\n",
        "    final_dict2=pd.DataFrame(final_dict)\n",
        "    df=df.append(final_dict2)\n",
        "    row=final_dict2.shape[0]\n",
        "    df.index=range(df.shape[0])\n",
        "    df.loc[df.shape[0]-row:,'product']=items\n",
        "  except:\n",
        "    continue"
      ],
      "execution_count": 0,
      "outputs": []
    },
    {
      "cell_type": "code",
      "metadata": {
        "id": "q-Fw0ep4-_O9",
        "colab_type": "code",
        "colab": {}
      },
      "source": [
        "df_sort=df.sort_values(['merchant_name'])\n",
        "mechant_name=df_sort.merchant_name.unique()\n",
        "df_sort[\"current_price\"] = df_sort[\"current_price\"].apply(pd.to_numeric)\n",
        "df_sort2=df_sort[df_sort.current_price>0]"
      ],
      "execution_count": 0,
      "outputs": []
    },
    {
      "cell_type": "markdown",
      "metadata": {
        "id": "5GLnvcxw_HGo",
        "colab_type": "text"
      },
      "source": [
        "Select the grocery sores from the merchant list"
      ]
    },
    {
      "cell_type": "code",
      "metadata": {
        "id": "k-mODB_D_LSp",
        "colab_type": "code",
        "colab": {}
      },
      "source": [
        "food_store=[]\n",
        "for x in mechant_name:\n",
        "  if 'food' in x.lower():\n",
        "    food_store.append(x)\n",
        "  if 'supermarket' in x.lower():\n",
        "    food_store.append(x)\n",
        "  if 'superstore' in x.lower():\n",
        "    food_store.append(x)\n",
        "  if 'mart' in x.lower():\n",
        "    food_store.append(x)\n",
        "  if 'fresh' in x.lower():\n",
        "    food_store.append(x)\n",
        "  if x in ['Walmart','Zehrs','Starsky','Sobeys','Price Chopper','No Frills','Longos','Metro','Loblaws','Healthy Planet','Giant Tiger']:\n",
        "    food_store.append(x)\n",
        "    "
      ],
      "execution_count": 0,
      "outputs": []
    },
    {
      "cell_type": "code",
      "metadata": {
        "id": "XJ6t1Un2_Oss",
        "colab_type": "code",
        "colab": {}
      },
      "source": [
        "df_sort_food=df_sort2[df_sort2.merchant_name.isin(food_store)]\n",
        "df_sort_food.index=range(df_sort_food.shape[0])\n",
        "df_sort_food2=df_sort_food"
      ],
      "execution_count": 0,
      "outputs": []
    },
    {
      "cell_type": "markdown",
      "metadata": {
        "id": "esvrnCJl_Zbk",
        "colab_type": "text"
      },
      "source": [
        "##Image processing and create labels for images"
      ]
    },
    {
      "cell_type": "code",
      "metadata": {
        "id": "dc7AEigq_gre",
        "colab_type": "code",
        "colab": {}
      },
      "source": [
        "import io\n",
        "import os\n",
        "\n",
        "# Imports the Google Cloud client library\n",
        "from google.cloud import vision\n",
        "from google.cloud.vision import types\n",
        "\n",
        "# Instantiates a client\n",
        "client = vision.ImageAnnotatorClient()\n",
        "\n",
        "# The name of the image file to annotate\n",
        "\n",
        "import io\n",
        "import requests\n",
        "from PIL import Image\n",
        "import matplotlib.pyplot as plt  \n",
        "def Labeled_image(url):\n",
        "  data = requests.get(url).content\n",
        "  image = types.Image(content=data)\n",
        "  img = Image.open(io.BytesIO(data))\n",
        "  response = client.label_detection(image=image)\n",
        "  labels = response.label_annotations\n",
        "  Label_img=list()\n",
        "  #   plt.imshow(img)\n",
        "  #   plt.show()\n",
        "  for label in labels:\n",
        "    Label_img.append(label.description)\n",
        "  return Label_img\n",
        "\n",
        "df_sort_food2['labels']=df_sort_food2['clean_image_url'].apply(lambda x:Labeled_image(str(x)))"
      ],
      "execution_count": 0,
      "outputs": []
    },
    {
      "cell_type": "markdown",
      "metadata": {
        "id": "Z0xYJ-pe_5rz",
        "colab_type": "text"
      },
      "source": [
        "Filter for relevant photos"
      ]
    },
    {
      "cell_type": "code",
      "metadata": {
        "id": "2bkboV-0_jxJ",
        "colab_type": "code",
        "colab": {}
      },
      "source": [
        "for i in df_sort_food2.index:\n",
        "  df_sort_food2.loc[i,'Relevant']=pd.Series(df_sort_food2.loc[i,'labels']).isin(['Fruit','Fish','Meat','Vegetable','Ingredient','Dairy','Oil']).any()\n"
      ],
      "execution_count": 0,
      "outputs": []
    },
    {
      "cell_type": "code",
      "metadata": {
        "id": "cFOQWXGQ_9fK",
        "colab_type": "code",
        "colab": {}
      },
      "source": [
        "df_sort_food2=df_sort_food2[df_sort_food2.Relevant==True]\n",
        "# df_sort_food2.to_pickle('./flipp.pkl')"
      ],
      "execution_count": 0,
      "outputs": []
    },
    {
      "cell_type": "code",
      "metadata": {
        "id": "jjZhMDyfADun",
        "colab_type": "code",
        "outputId": "721fd6d8-bf40-48a9-d827-b016ea29aa4d",
        "colab": {
          "resources": {
            "http://localhost:8080/nbextensions/google.colab/files.js": {
              "data": "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",
              "ok": true,
              "headers": [
                [
                  "content-type",
                  "application/javascript"
                ]
              ],
              "status": 200,
              "status_text": "OK"
            }
          },
          "base_uri": "https://localhost:8080/",
          "height": 75
        }
      },
      "source": [
        "from google.colab import files\n",
        "uploaded = files.upload()"
      ],
      "execution_count": 20,
      "outputs": [
        {
          "output_type": "display_data",
          "data": {
            "text/html": [
              "\n",
              "     <input type=\"file\" id=\"files-46f5e73f-fb82-44b0-859e-5790f946475c\" name=\"files[]\" multiple disabled />\n",
              "     <output id=\"result-46f5e73f-fb82-44b0-859e-5790f946475c\">\n",
              "      Upload widget is only available when the cell has been executed in the\n",
              "      current browser session. Please rerun this cell to enable.\n",
              "      </output>\n",
              "      <script src=\"/nbextensions/google.colab/files.js\"></script> "
            ],
            "text/plain": [
              "<IPython.core.display.HTML object>"
            ]
          },
          "metadata": {
            "tags": []
          }
        },
        {
          "output_type": "stream",
          "text": [
            "Saving flipp_product.csv to flipp_product (1).csv\n"
          ],
          "name": "stdout"
        }
      ]
    },
    {
      "cell_type": "code",
      "metadata": {
        "id": "mu7DV0aKAEHB",
        "colab_type": "code",
        "colab": {}
      },
      "source": [
        "import pandas as pd\n",
        "df_sort_food2=pd.read_csv('flipp_product.csv')"
      ],
      "execution_count": 0,
      "outputs": []
    },
    {
      "cell_type": "code",
      "metadata": {
        "id": "SZVIYwvAOcLD",
        "colab_type": "code",
        "colab": {
          "base_uri": "https://localhost:8080/",
          "height": 1000
        },
        "outputId": "45575cd2-8416-46e7-bf0b-d537078b6a15"
      },
      "source": [
        "df_sort_food2.ocr_name"
      ],
      "execution_count": 22,
      "outputs": [
        {
          "output_type": "execute_result",
          "data": {
            "text/plain": [
              "0      Dempsters\\nWhite\\nLOCKED & LOW\\n227\\nDempster'...\n",
              "1      3 99\\nSeedless\\nWatermelon\\nProduct of Ontario...\n",
              "2      Complamente\\nWhole White\\nMushrooms Champignon...\n",
              "3      ravLNO\\n499\\n3L Basket Peaches\\nProduct of Ont...\n",
              "4      Foodland\\nesAO\\nLOW PRICE\\n188\\nCompliments Pi...\n",
              "5      199\\n3lb Bagged Carrots or\\nYellow Onions\\nPro...\n",
              "6      Yellow P\\nPrunes Jaanm\\n399\\n1.5L Basket Golde...\n",
              "7      Uncle\\nBens\\nFast&Fancy\\nVite& Bon\\nFINE HER\\n...\n",
              "8      yoplair\\n0%\\nSource\\n23\\nLIBERTE\\nGREEK\\nSAVE\\...\n",
              "9      6 99\\nSTARFISH\\nMARKET\\n/lb\\nFresh Atlantic Sa...\n",
              "10     99c\\nRomaine Lettuce or\\nGreen Leaf Lettuce\\nP...\n",
              "11     Foodland\\nesAO\\nLOW PRICE\\n188\\nCompliments Pi...\n",
              "12     (3.99\\nAL MARWA\\nSUNRISE MEATS\\n/lb\\nFresh Hal...\n",
              "13     3 LB\\nBAG\\n349\\n3 lb Bagged Seedless Oranges\\n...\n",
              "14     69c\\nGreen Onions\\nProduct of Ontario\\nField C...\n",
              "15     PRIMO\\nValer\\nPrimo\\nPasta Sauce\\n680 mL\\nSauc...\n",
              "16     149\\nlb\\nGreen Bell Sweet\\nPeppers\\nProduct of...\n",
              "17       40c\\nLemons\\nProduct of South Africa\\nCitrons\\n\n",
              "18                                                 error\n",
              "19     Kraft Cheez Whiz\\n900 g\\nTartinade de fromage\\...\n",
              "20     199\\n3lb Bagged Carrots or\\nYellow Onions\\nPro...\n",
              "21     Yellow P\\nPrunes Jaanm\\n399\\n1.5L Basket Golde...\n",
              "22     69c\\nGreen Onions\\nProduct of Ontario\\nField C...\n",
              "23     SCHNEIDERS\\nEUROPEAN\\nSAUCISSES F\\nSAVE $3SCHN...\n",
              "24     Unico\\npiced Tomatoes\\nUnico\\nChick Peas\\nSAVE...\n",
              "25     Unico\\npiced Tomatoes\\nUnico\\nChick Peas\\nSAVE...\n",
              "26     14.9\\n/lb\\nForelle Pears Product of South\\nAfr...\n",
              "27                                   Foodland\\nONTARIO\\n\n",
              "28     Y\\nddlph's\\nSAVE $1.30\\nSANDWIOK\\nSPER\\n199\\nR...\n",
              "29     Mina\\nMOZZARELLA\\nSTUFFED CHICKE\\nMina\\nHnd\\n5...\n",
              "                             ...                        \n",
              "711    Tilda\\nSegendaly Rce\\nPURE\\nBAS BICE\\nBAS\\nMUL...\n",
              "712    TARMER'S TMARK\\nDAiaS MARCHE\\n'BABY-CUT\\nMINIA...\n",
              "713    ONTARIO\\n5 99\\nOntario\\nPork\\npork loin\\ncentr...\n",
              "714    Onlante\\nCANADA\\n199\\nCarrots bunch\\nor iceber...\n",
              "715    ONTARIO\\n|99\\nHeitloom 2L or\\nRoma tomatoes 3 ...\n",
              "716    eceaPt\\nSpicy\\nBUTTERMILK\\nBREADED CHICKEN\\nBR...\n",
              "717    |CLUB\\nORIGINA\\nTOWN\\nHOUSE\\nPRETZEL\\nMULTIipS...\n",
              "718    FREE!\\nMcCafe ORATUNTS\\nMcCafé Premium\\nRoast ...\n",
              "719    5sANARLE\\nSEAFOOD\\nMSC\\nSALE\\nSAVE $6 LB\\nfres...\n",
              "720    chicken breasts skinless\\nbone-in or split chi...\n",
              "721    PatCe\\n&Cla\\nAXIANY\\nCHERRY TOMATOES\\nTOMATES ...\n",
              "722    FREE!\\nMcCafe ORATUNTS\\nMcCafé Premium\\nRoast ...\n",
              "723    Organies Biologique\\nSpaghetti\\n454\\nYves\\nBLA...\n",
              "724    PatCe\\n&Cla\\nAXIANY\\nCHERRY TOMATOES\\nTOMATES ...\n",
              "725    Organies Biologique\\nSpaghetti\\n454\\nYves\\nBLA...\n",
              "726    AIPLENDIDO\\nSLICED SUN-ORED TOMA\\nTOMATES SECH...\n",
              "727    PatCe\\n&Cla\\nAXIANY\\nCHERRY TOMATOES\\nTOMATES ...\n",
              "728    Dole\\nВоиntifu\\noun\\nSWEET THAI\\nDOUCEURTHAIE\\...\n",
              "729    Dole\\nBABY SPIN\\nBEBES ÉPIN\\nDole\\nBABY ARUGUL...\n",
              "730    QUAKER\\nCRISPY\\nminis\\nQUAKER\\nCRISPY\\nminis\\n...\n",
              "731    ONTARIO\\n991tb\\nPC Organics tomatoes on the vi...\n",
              "732    GRAB\\nFRESH\\nD'ITALIANO\\nOur\\nSoftess\\nCOUNTRY...\n",
              "733    RUBSCHLAGER\\nBAVARIAN\\nRYE\\nSEIGLE\\nBAVAROIS\\n...\n",
              "734    bananas\\nproduct of Costa Rica,\\nEcuador, Colo...\n",
              "735    avocados\\nproduct of Mexico\\n6's\\n4 99\\n208726...\n",
              "736    ONTARIO\\n|99\\nHeitloom 2L or\\nRoma tomatoes 3 ...\n",
              "737    Schar\\nSpectrum\\nOrganic Briades\\nCOCONUT OIL\\...\n",
              "738    couswE\\nHealthy\\nChoice\\nSterimers\\nCHICKEN, B...\n",
              "739    BAER\\nROrganics\\nBislagique\\nNECTARINES\\n2\\nPC...\n",
              "740    Uncle\\nBens\\n$3 99\\nUncle\\nBens\\nNatural Selec...\n",
              "Name: ocr_name, Length: 741, dtype: object"
            ]
          },
          "metadata": {
            "tags": []
          },
          "execution_count": 22
        }
      ]
    },
    {
      "cell_type": "markdown",
      "metadata": {
        "id": "oxYR2PqsAOSs",
        "colab_type": "text"
      },
      "source": [
        "##OCR flyers for weight analysis"
      ]
    },
    {
      "cell_type": "code",
      "metadata": {
        "id": "iFy_E-92AMHv",
        "colab_type": "code",
        "colab": {}
      },
      "source": [
        "def detect_text_url(uri):\n",
        "  try:\n",
        "    \"\"\"Detects text in the file located in Google Cloud Storage or on the Web.\n",
        "    \"\"\"\n",
        "    from google.cloud import vision\n",
        "    client = vision.ImageAnnotatorClient()\n",
        "    image = vision.types.Image()\n",
        "    image.source.image_uri = uri\n",
        "\n",
        "    response = client.text_detection(image=image)\n",
        "    texts = response.text_annotations\n",
        "#     print('Texts:')\n",
        "    return texts[0].description\n",
        "  except:\n",
        "    return 'error'\n",
        "  \n",
        "\n",
        "for i in df_sort_food2.index:\n",
        "  if df_sort_food2.loc[i,\"Relevant\"]==True:\n",
        "    df_sort_food2.loc[i,\"ocr_name\"]=detect_text_url(df_sort_food2.loc[i,\"clean_image_url\"])\n"
      ],
      "execution_count": 0,
      "outputs": []
    },
    {
      "cell_type": "code",
      "metadata": {
        "id": "b2XdlMR7E5s1",
        "colab_type": "code",
        "colab": {}
      },
      "source": [
        "import re\n",
        "df_sort_food2['vagetables']=[any([i == 'Vegetable' for i in x]) for x in df_sort_food2.labels ]\n",
        "df_sort_food2['Fruit']=[any([i == 'Fruit' for i in x]) for x in df_sort_food2.labels ]\n",
        "df_sort_food2['meat_chicken']=[any(re.findall('chicken',x.lower()))  for x in df_sort_food2.ocr_name ]\n",
        "df_sort_food2['meat_steak']=[any(re.findall('steak',x.lower()))  for x in df_sort_food2.ocr_name ]\n",
        "df_sort_food2['meat_ground']=[any(re.findall('ground',x.lower()))  for x in df_sort_food2.ocr_name ]\n",
        "df_sort_food2['meat_tenderloin']=[any(re.findall('tenderloin',x.lower()))  for x in df_sort_food2.ocr_name ]\n",
        "df_sort_food2['meat_tenderloin']=[any(re.findall('sirloin',x.lower()))  for x in df_sort_food2.ocr_name ]"
      ],
      "execution_count": 0,
      "outputs": []
    },
    {
      "cell_type": "markdown",
      "metadata": {
        "id": "0qWFG5vKAm3b",
        "colab_type": "text"
      },
      "source": [
        "Extract weight numbers from ocr text"
      ]
    },
    {
      "cell_type": "code",
      "metadata": {
        "id": "_0imBFIvAl4a",
        "colab_type": "code",
        "colab": {}
      },
      "source": [
        "import re\n",
        "import inflect\n",
        "p = inflect.engine()\n",
        "def Weight(name,product):\n",
        "  pattern1 = re.compile(r'((?:[0-9]*\\s*Pack)'\n",
        "    r'|(?:[0-9.]+/*\\s*/*(?:g|G|KG|kG|Kg|K9|k9|kg|ML|mL|LB|lb|lB|Lb|L|oz)\\b))' , re.IGNORECASE)\n",
        "  pattern2 = re.compile(r'('+str(p.plural(product))\n",
        "                       +r'|'  +str(p.singular_noun(product))\n",
        "                       +r'|' + str(product) +r')', re.IGNORECASE)\n",
        " \n",
        "  pattern3 = re.compile(r'('+str(p.plural(product))\n",
        "   +r'|' + str(product)+r'|((?:[0-9]*\\s*Pack)'\n",
        "    r'|(?:[0-9.]+/*\\s*(?:g|G|KG|kG|Kg|K9|k9|kg|ML|mL|LB|lb|lB|Lb|L|oz)\\b)))'\n",
        "                       , re.IGNORECASE)\n",
        "  return (re.findall(pattern1, name),re.findall(pattern2, name),re.findall(pattern3, name))"
      ],
      "execution_count": 0,
      "outputs": []
    },
    {
      "cell_type": "code",
      "metadata": {
        "id": "1xVpVvGuBMsk",
        "colab_type": "code",
        "colab": {}
      },
      "source": [
        "import numpy as np\n",
        "def right_item(weight,product):\n",
        "  r=weight\n",
        "  D=np.array(r[2][:])\n",
        "  try:\n",
        "#   print(D[:,0])\n",
        "    p.plural(product) in list(D[:,0])  \n",
        "\n",
        "    o=0\n",
        "    list2=list(map(lambda x:x.lower(),list(D[:,0])))\n",
        "\n",
        "    list1=list(map(lambda x:x.lower(),list(r[0])))\n",
        "    if p.plural(product.lower()) in list2:\n",
        "      prod=p.plural(product).lower()\n",
        "    if product.lower() in list2:\n",
        "      prod=product.lower()\n",
        "\n",
        "    try:\n",
        "      x=list2.index(prod)\n",
        "    except:\n",
        "      x=0\n",
        "      o=1\n",
        "    if len(r[0])>1:\n",
        "      while o==0 and x<=len(list2)-2:\n",
        "        x+=1\n",
        "        if list2[x] in list1:\n",
        "          o=1\n",
        "        \n",
        "      if len(r[0])==1 or(o==0):\n",
        "        x=0\n",
        "      out=list2[x]\n",
        "\n",
        "    if len(r[0])==1:\n",
        "      out=list1[0]\n",
        "    if len(r[0])==0:\n",
        "      out='NaN'\n",
        "  except:\n",
        "    out='NaN'\n",
        "  return out\n",
        "  \n",
        "\n"
      ],
      "execution_count": 0,
      "outputs": []
    },
    {
      "cell_type": "code",
      "metadata": {
        "id": "bzXSJUohdkEp",
        "colab_type": "code",
        "colab": {}
      },
      "source": [
        "i=4\n",
        "r=Weight(df_sort_food2.ocr_name[i],df_sort_food2.loc[i,\"product\"])\n",
        "product=df_sort_food2.loc[i,'product'].lower()\n",
        "# right_item(list_weight,product)\n",
        "# product\n",
        "\n",
        "D=np.array(r[2][:])\n",
        "\n",
        "#   print(D[:,0])\n",
        "p.plural(product) in list(D[:,0])  \n",
        "\n",
        "o=0\n",
        "list2=list(map(lambda x:x.lower(),list(D[:,0])))\n",
        "\n",
        "list1=list(map(lambda x:x.lower(),list(r[0])))\n",
        "if p.plural(product.lower()) in list2:\n",
        "  prod=p.plural(product).lower()\n",
        "if product.lower() in list2:\n",
        "  prod=product.lower()\n",
        "\n",
        "try:\n",
        "  x=list2.index(prod)\n",
        "except:\n",
        "  x=0\n",
        "  o=1\n",
        "if len(r[0])>1:\n",
        "  while o==0 and x<=len(list2)-2:\n",
        "    x+=1\n",
        "    if list2[x] in list1:\n",
        "      o=1\n",
        "\n",
        "  if len(r[0])==1 or(o==0):\n",
        "    x=0\n",
        "  out=list2[x]\n",
        "\n",
        "if len(r[0])==1:\n",
        "  out=list1[0]\n",
        "if len(r[0])==0:\n",
        "  out='NaN'"
      ],
      "execution_count": 0,
      "outputs": []
    },
    {
      "cell_type": "code",
      "metadata": {
        "id": "l6h7WTQCd0ON",
        "colab_type": "code",
        "colab": {
          "base_uri": "https://localhost:8080/",
          "height": 35
        },
        "outputId": "ab0d224e-252f-4f40-c77f-016a5d2ffd2b"
      },
      "source": [
        "out"
      ],
      "execution_count": 176,
      "outputs": [
        {
          "output_type": "execute_result",
          "data": {
            "text/plain": [
              "'6 pack'"
            ]
          },
          "metadata": {
            "tags": []
          },
          "execution_count": 176
        }
      ]
    },
    {
      "cell_type": "code",
      "metadata": {
        "id": "EL4Wf3sKeLv4",
        "colab_type": "code",
        "colab": {
          "base_uri": "https://localhost:8080/",
          "height": 35
        },
        "outputId": "82b771ba-6a82-4e0a-ffa7-ab18d452678e"
      },
      "source": [
        "df_sort_food2.ocr_name[13]"
      ],
      "execution_count": 154,
      "outputs": [
        {
          "output_type": "execute_result",
          "data": {
            "text/plain": [
              "'3 LB\\nBAG\\n349\\n3 lb Bagged Seedless Oranges\\nProduct of South Africa\\nHoneydew Melons Product of USA\\nOranges ou melon-miel\\n'"
            ]
          },
          "metadata": {
            "tags": []
          },
          "execution_count": 154
        }
      ]
    },
    {
      "cell_type": "code",
      "metadata": {
        "id": "hWVl4g0fMc3o",
        "colab_type": "code",
        "colab": {}
      },
      "source": [
        "# import re\n",
        "# import inflect\n",
        "# p = inflect.engine()\n",
        "# def Weight(name,product):\n",
        "#   pattern1 = re.compile(r'((?:[0-9]*\\s*Pack)'\n",
        "#     r'|(?:[0-9.]+/*\\s*/*(?:g|G|KG|kG|Kg|K9|k9|kg|ML|mL|LB|lb|lB|Lb|L|oz)\\b))' , re.IGNORECASE)\n",
        "#   pattern2 = re.compile(r'(/*str(p.plural(product))'\n",
        "#                        +r'/*?:|'  +str(p.singular_noun(product))\n",
        "#                        +r'/*?:|' + str(product) +r')', re.IGNORECASE)\n",
        " \n",
        "#   pattern3 = re.compile(r'('+str(p.singular_noun(product))\n",
        "#    +r'|' + str(product)+r'|((?:[0-9]*\\s*Pack)'\n",
        "#     r'|(?:[0-9.]+/*\\s*/*(?:g|G|KG|kG|Kg|K9|k9|kg|ML|mL|LB|lb|lB|Lb|L|oz)\\b)))'\n",
        "#                        , re.IGNORECASE)\n",
        "#   return (re.findall(pattern1, name),re.findall(pattern2, name),re.findall(pattern3, name))"
      ],
      "execution_count": 0,
      "outputs": []
    },
    {
      "cell_type": "markdown",
      "metadata": {
        "id": "izTWrNbsHWfY",
        "colab_type": "text"
      },
      "source": [
        "##Extract weights from ocr text"
      ]
    },
    {
      "cell_type": "code",
      "metadata": {
        "id": "AznU4xi4dFob",
        "colab_type": "code",
        "colab": {
          "base_uri": "https://localhost:8080/",
          "height": 35
        },
        "outputId": "0b2f71e2-9042-40cb-970e-740e5f99eddd"
      },
      "source": [
        "i=13\n",
        "list_weight=Weight(df_sort_food2.ocr_name[i],df_sort_food2.loc[i,\"product\"])\n",
        "product=df_sort_food2.loc[i,'product'].lower()\n",
        "right_item(list_weight,product)\n",
        "product"
      ],
      "execution_count": 145,
      "outputs": [
        {
          "output_type": "execute_result",
          "data": {
            "text/plain": [
              "'orange'"
            ]
          },
          "metadata": {
            "tags": []
          },
          "execution_count": 145
        }
      ]
    },
    {
      "cell_type": "code",
      "metadata": {
        "id": "-hWnqcexHbK9",
        "colab_type": "code",
        "colab": {}
      },
      "source": [
        "for i in df_sort_food2.index:\n",
        "  list_weight=Weight(df_sort_food2.ocr_name[i],df_sort_food2.loc[i,\"product\"])\n",
        "  product=df_sort_food2.loc[i,'product'].lower()\n",
        "  \n",
        "  if len(list_weight[0])==0 and len(list_weight[1])==0 :\n",
        "    df_sort_food2.loc[i,'weight']='NaN'\n",
        "  elif len(list_weight[0])==0 and len(list_weight[1])>=1 :\n",
        "    df_sort_food2.loc[i,'weight']=1\n",
        "  elif len(list_weight[0])>=1 and len(list_weight[1])==0 :\n",
        "    df_sort_food2.loc[i,'weight']=right_item(list_weight,product)\n",
        "  elif len(list_weight[0])>=1 and len(list_weight[1])>=1 :\n",
        "    df_sort_food2.loc[i,'weight']=right_item(list_weight,product)  \n",
        "\n"
      ],
      "execution_count": 0,
      "outputs": []
    },
    {
      "cell_type": "code",
      "metadata": {
        "id": "LjrVOQ4ffxR0",
        "colab_type": "code",
        "colab": {
          "base_uri": "https://localhost:8080/",
          "height": 1000
        },
        "outputId": "cc93931d-1bfa-4de2-d7f2-f70563651efd"
      },
      "source": [
        "df_sort_food2[df_sort_food2['weight_num']>1]\n",
        "# df_sort_food2.loc[4,'weight'][-4:].lower() == 'pack'\n",
        "# float(re.findall(\"[-+]?\\d*\\.\\d+|\\d+\",df_sort_food2.loc[i,'weight'])[0] )"
      ],
      "execution_count": 186,
      "outputs": [
        {
          "output_type": "execute_result",
          "data": {
            "text/html": [
              "<div>\n",
              "<style scoped>\n",
              "    .dataframe tbody tr th:only-of-type {\n",
              "        vertical-align: middle;\n",
              "    }\n",
              "\n",
              "    .dataframe tbody tr th {\n",
              "        vertical-align: top;\n",
              "    }\n",
              "\n",
              "    .dataframe thead th {\n",
              "        text-align: right;\n",
              "    }\n",
              "</style>\n",
              "<table border=\"1\" class=\"dataframe\">\n",
              "  <thead>\n",
              "    <tr style=\"text-align: right;\">\n",
              "      <th></th>\n",
              "      <th>Unnamed: 0</th>\n",
              "      <th>bottom</th>\n",
              "      <th>clean_image_url</th>\n",
              "      <th>clipping_image_url</th>\n",
              "      <th>current_price</th>\n",
              "      <th>flyer_id</th>\n",
              "      <th>flyer_item_id</th>\n",
              "      <th>item_weight</th>\n",
              "      <th>left</th>\n",
              "      <th>merchant_id</th>\n",
              "      <th>merchant_logo</th>\n",
              "      <th>merchant_name</th>\n",
              "      <th>name</th>\n",
              "      <th>post_price_text</th>\n",
              "      <th>pre_price_text</th>\n",
              "      <th>premium</th>\n",
              "      <th>product</th>\n",
              "      <th>right</th>\n",
              "      <th>sale_story</th>\n",
              "      <th>score</th>\n",
              "      <th>top</th>\n",
              "      <th>valid_from</th>\n",
              "      <th>valid_to</th>\n",
              "      <th>labels</th>\n",
              "      <th>Relevant</th>\n",
              "      <th>ocr_name</th>\n",
              "      <th>vagetables</th>\n",
              "      <th>Fruit</th>\n",
              "      <th>meat_chicken</th>\n",
              "      <th>meat_steak</th>\n",
              "      <th>meat_ground</th>\n",
              "      <th>meat_tenderloin</th>\n",
              "      <th>weight</th>\n",
              "      <th>weight_num</th>\n",
              "      <th>price_100</th>\n",
              "      <th>weight2</th>\n",
              "    </tr>\n",
              "  </thead>\n",
              "  <tbody>\n",
              "    <tr>\n",
              "      <th>4</th>\n",
              "      <td>5</td>\n",
              "      <td>-1197.750</td>\n",
              "      <td>http://f.wishabi.net/page_items/163299379/1564749337/extra_large.jpg</td>\n",
              "      <td>http://f.wishabi.net/page_items/163299379/1564749337/extra_large.jpg</td>\n",
              "      <td>1.88</td>\n",
              "      <td>2813706.0</td>\n",
              "      <td>416931251.0</td>\n",
              "      <td>140.671404</td>\n",
              "      <td>1126.11</td>\n",
              "      <td>3662.0</td>\n",
              "      <td>http://images.wishabi.net/merchants/3662/1527529237/storefront_logo</td>\n",
              "      <td>Chalo FreshCo</td>\n",
              "      <td>Compliments Pint Grape Tomatoes Product of Ontario 6 Pack Mini Seedless Cucumbers Product of Ontario, Canada No. 1</td>\n",
              "      <td>NaN</td>\n",
              "      <td>LOW PRICE</td>\n",
              "      <td>0.0</td>\n",
              "      <td>grape</td>\n",
              "      <td>1689.75</td>\n",
              "      <td>NaN</td>\n",
              "      <td>0.180923</td>\n",
              "      <td>-701.657</td>\n",
              "      <td>2019-08-08T04:00:00+00:00</td>\n",
              "      <td>2019-08-15T03:59:59+00:00</td>\n",
              "      <td>['Natural foods', 'Local food', 'Vegetable', 'Food', 'Vegan nutrition', 'Whole food', 'Plant', 'Fruit', 'Cucumis', 'Superfood']</td>\n",
              "      <td>True</td>\n",
              "      <td>Foodland\\nesAO\\nLOW PRICE\\n188\\nCompliments Pint Grape\\nTomatoes Product of Ontario\\n6 Pack Mini Seedless Cucumbers\\nProduct of Ontario, Canada No. 1\\nTomates raisins ou mini-concombres\\n</td>\n",
              "      <td>False</td>\n",
              "      <td>False</td>\n",
              "      <td>False</td>\n",
              "      <td>False</td>\n",
              "      <td>False</td>\n",
              "      <td>False</td>\n",
              "      <td>6 pack</td>\n",
              "      <td>6.0</td>\n",
              "      <td>NaN</td>\n",
              "      <td>NaN</td>\n",
              "    </tr>\n",
              "    <tr>\n",
              "      <th>11</th>\n",
              "      <td>12</td>\n",
              "      <td>-1197.750</td>\n",
              "      <td>http://f.wishabi.net/page_items/163299379/1564749337/extra_large.jpg</td>\n",
              "      <td>http://f.wishabi.net/page_items/163299379/1564749337/extra_large.jpg</td>\n",
              "      <td>1.88</td>\n",
              "      <td>2813706.0</td>\n",
              "      <td>416931251.0</td>\n",
              "      <td>140.671404</td>\n",
              "      <td>1126.11</td>\n",
              "      <td>3662.0</td>\n",
              "      <td>http://images.wishabi.net/merchants/3662/1527529237/storefront_logo</td>\n",
              "      <td>Chalo FreshCo</td>\n",
              "      <td>Compliments Pint Grape Tomatoes Product of Ontario 6 Pack Mini Seedless Cucumbers Product of Ontario, Canada No. 1</td>\n",
              "      <td>NaN</td>\n",
              "      <td>LOW PRICE</td>\n",
              "      <td>0.0</td>\n",
              "      <td>cucumber</td>\n",
              "      <td>1689.75</td>\n",
              "      <td>NaN</td>\n",
              "      <td>474.828740</td>\n",
              "      <td>-701.657</td>\n",
              "      <td>2019-08-08T04:00:00+00:00</td>\n",
              "      <td>2019-08-15T03:59:59+00:00</td>\n",
              "      <td>['Natural foods', 'Local food', 'Vegetable', 'Food', 'Vegan nutrition', 'Whole food', 'Plant', 'Fruit', 'Cucumis', 'Superfood']</td>\n",
              "      <td>True</td>\n",
              "      <td>Foodland\\nesAO\\nLOW PRICE\\n188\\nCompliments Pint Grape\\nTomatoes Product of Ontario\\n6 Pack Mini Seedless Cucumbers\\nProduct of Ontario, Canada No. 1\\nTomates raisins ou mini-concombres\\n</td>\n",
              "      <td>False</td>\n",
              "      <td>False</td>\n",
              "      <td>False</td>\n",
              "      <td>False</td>\n",
              "      <td>False</td>\n",
              "      <td>False</td>\n",
              "      <td>6 pack</td>\n",
              "      <td>6.0</td>\n",
              "      <td>NaN</td>\n",
              "      <td>NaN</td>\n",
              "    </tr>\n",
              "    <tr>\n",
              "      <th>34</th>\n",
              "      <td>43</td>\n",
              "      <td>-1197.750</td>\n",
              "      <td>http://f.wishabi.net/page_items/163299379/1564749337/extra_large.jpg</td>\n",
              "      <td>http://f.wishabi.net/page_items/163299379/1564749337/extra_large.jpg</td>\n",
              "      <td>1.88</td>\n",
              "      <td>2813706.0</td>\n",
              "      <td>416931251.0</td>\n",
              "      <td>140.671404</td>\n",
              "      <td>1126.11</td>\n",
              "      <td>3662.0</td>\n",
              "      <td>http://images.wishabi.net/merchants/3662/1527529237/storefront_logo</td>\n",
              "      <td>Chalo FreshCo</td>\n",
              "      <td>Compliments Pint Grape Tomatoes Product of Ontario 6 Pack Mini Seedless Cucumbers Product of Ontario, Canada No. 1</td>\n",
              "      <td>NaN</td>\n",
              "      <td>LOW PRICE</td>\n",
              "      <td>0.0</td>\n",
              "      <td>tomato</td>\n",
              "      <td>1689.75</td>\n",
              "      <td>NaN</td>\n",
              "      <td>82.690030</td>\n",
              "      <td>-701.657</td>\n",
              "      <td>2019-08-08T04:00:00+00:00</td>\n",
              "      <td>2019-08-15T03:59:59+00:00</td>\n",
              "      <td>['Natural foods', 'Local food', 'Vegetable', 'Food', 'Vegan nutrition', 'Whole food', 'Plant', 'Fruit', 'Cucumis', 'Superfood']</td>\n",
              "      <td>True</td>\n",
              "      <td>Foodland\\nesAO\\nLOW PRICE\\n188\\nCompliments Pint Grape\\nTomatoes Product of Ontario\\n6 Pack Mini Seedless Cucumbers\\nProduct of Ontario, Canada No. 1\\nTomates raisins ou mini-concombres\\n</td>\n",
              "      <td>False</td>\n",
              "      <td>False</td>\n",
              "      <td>False</td>\n",
              "      <td>False</td>\n",
              "      <td>False</td>\n",
              "      <td>False</td>\n",
              "      <td>6 pack</td>\n",
              "      <td>6.0</td>\n",
              "      <td>NaN</td>\n",
              "      <td>NaN</td>\n",
              "    </tr>\n",
              "    <tr>\n",
              "      <th>126</th>\n",
              "      <td>165</td>\n",
              "      <td>-1047.250</td>\n",
              "      <td>http://f.wishabi.net/page_items/163297909/1564747177/extra_large.jpg</td>\n",
              "      <td>http://f.wishabi.net/page_items/163297909/1564747177/extra_large.jpg</td>\n",
              "      <td>1.88</td>\n",
              "      <td>2813681.0</td>\n",
              "      <td>416932061.0</td>\n",
              "      <td>771.188031</td>\n",
              "      <td>1127.99</td>\n",
              "      <td>2267.0</td>\n",
              "      <td>http://images.wishabi.net/merchants/2267/1507144936/2267.jpg</td>\n",
              "      <td>FreshCo</td>\n",
              "      <td>Compliments Pint Grape Tomatoes Product of Ontario 6 Pack Mini Seedless Cucumbers Product of Ontario, Canada No. 1</td>\n",
              "      <td>NaN</td>\n",
              "      <td>NaN</td>\n",
              "      <td>0.0</td>\n",
              "      <td>tomato</td>\n",
              "      <td>1630.01</td>\n",
              "      <td>NaN</td>\n",
              "      <td>194.381500</td>\n",
              "      <td>-525.092</td>\n",
              "      <td>2019-08-08T04:00:00+00:00</td>\n",
              "      <td>2019-08-15T03:59:59+00:00</td>\n",
              "      <td>['Natural foods', 'Vegetable', 'Food', 'Cucumber', 'Cucumber, gourd, and melon family', 'Cucumis', 'Plant', 'Vegan nutrition', 'Fruit', 'Produce']</td>\n",
              "      <td>True</td>\n",
              "      <td>Foodland\\nONTARIO\\n188\\nCompliments Pint Grape Tomatoes\\nProduct of Ontario\\n6 Pack Mini Seedless Cucumbers\\nProduct of Ontario, Canada No. 1\\nTomates raisins ou mini-concombres\\n</td>\n",
              "      <td>False</td>\n",
              "      <td>False</td>\n",
              "      <td>False</td>\n",
              "      <td>False</td>\n",
              "      <td>False</td>\n",
              "      <td>False</td>\n",
              "      <td>6 pack</td>\n",
              "      <td>6.0</td>\n",
              "      <td>NaN</td>\n",
              "      <td>NaN</td>\n",
              "    </tr>\n",
              "    <tr>\n",
              "      <th>130</th>\n",
              "      <td>169</td>\n",
              "      <td>-1047.250</td>\n",
              "      <td>http://f.wishabi.net/page_items/163297909/1564747177/extra_large.jpg</td>\n",
              "      <td>http://f.wishabi.net/page_items/163297909/1564747177/extra_large.jpg</td>\n",
              "      <td>1.88</td>\n",
              "      <td>2813681.0</td>\n",
              "      <td>416932061.0</td>\n",
              "      <td>771.188031</td>\n",
              "      <td>1127.99</td>\n",
              "      <td>2267.0</td>\n",
              "      <td>http://images.wishabi.net/merchants/2267/1507144936/2267.jpg</td>\n",
              "      <td>FreshCo</td>\n",
              "      <td>Compliments Pint Grape Tomatoes Product of Ontario 6 Pack Mini Seedless Cucumbers Product of Ontario, Canada No. 1</td>\n",
              "      <td>NaN</td>\n",
              "      <td>NaN</td>\n",
              "      <td>0.0</td>\n",
              "      <td>grape</td>\n",
              "      <td>1630.01</td>\n",
              "      <td>NaN</td>\n",
              "      <td>0.428872</td>\n",
              "      <td>-525.092</td>\n",
              "      <td>2019-08-08T04:00:00+00:00</td>\n",
              "      <td>2019-08-15T03:59:59+00:00</td>\n",
              "      <td>['Natural foods', 'Vegetable', 'Food', 'Cucumber', 'Cucumber, gourd, and melon family', 'Cucumis', 'Plant', 'Vegan nutrition', 'Fruit', 'Produce']</td>\n",
              "      <td>True</td>\n",
              "      <td>Foodland\\nONTARIO\\n188\\nCompliments Pint Grape Tomatoes\\nProduct of Ontario\\n6 Pack Mini Seedless Cucumbers\\nProduct of Ontario, Canada No. 1\\nTomates raisins ou mini-concombres\\n</td>\n",
              "      <td>False</td>\n",
              "      <td>False</td>\n",
              "      <td>False</td>\n",
              "      <td>False</td>\n",
              "      <td>False</td>\n",
              "      <td>False</td>\n",
              "      <td>6 pack</td>\n",
              "      <td>6.0</td>\n",
              "      <td>NaN</td>\n",
              "      <td>NaN</td>\n",
              "    </tr>\n",
              "    <tr>\n",
              "      <th>131</th>\n",
              "      <td>170</td>\n",
              "      <td>-1047.250</td>\n",
              "      <td>http://f.wishabi.net/page_items/163297909/1564747177/extra_large.jpg</td>\n",
              "      <td>http://f.wishabi.net/page_items/163297909/1564747177/extra_large.jpg</td>\n",
              "      <td>1.88</td>\n",
              "      <td>2813681.0</td>\n",
              "      <td>416932061.0</td>\n",
              "      <td>771.188031</td>\n",
              "      <td>1127.99</td>\n",
              "      <td>2267.0</td>\n",
              "      <td>http://images.wishabi.net/merchants/2267/1507144936/2267.jpg</td>\n",
              "      <td>FreshCo</td>\n",
              "      <td>Compliments Pint Grape Tomatoes Product of Ontario 6 Pack Mini Seedless Cucumbers Product of Ontario, Canada No. 1</td>\n",
              "      <td>NaN</td>\n",
              "      <td>NaN</td>\n",
              "      <td>0.0</td>\n",
              "      <td>cucumber</td>\n",
              "      <td>1630.01</td>\n",
              "      <td>NaN</td>\n",
              "      <td>1102.839200</td>\n",
              "      <td>-525.092</td>\n",
              "      <td>2019-08-08T04:00:00+00:00</td>\n",
              "      <td>2019-08-15T03:59:59+00:00</td>\n",
              "      <td>['Natural foods', 'Vegetable', 'Food', 'Cucumber', 'Cucumber, gourd, and melon family', 'Cucumis', 'Plant', 'Vegan nutrition', 'Fruit', 'Produce']</td>\n",
              "      <td>True</td>\n",
              "      <td>Foodland\\nONTARIO\\n188\\nCompliments Pint Grape Tomatoes\\nProduct of Ontario\\n6 Pack Mini Seedless Cucumbers\\nProduct of Ontario, Canada No. 1\\nTomates raisins ou mini-concombres\\n</td>\n",
              "      <td>False</td>\n",
              "      <td>False</td>\n",
              "      <td>False</td>\n",
              "      <td>False</td>\n",
              "      <td>False</td>\n",
              "      <td>False</td>\n",
              "      <td>6 pack</td>\n",
              "      <td>6.0</td>\n",
              "      <td>NaN</td>\n",
              "      <td>NaN</td>\n",
              "    </tr>\n",
              "    <tr>\n",
              "      <th>270</th>\n",
              "      <td>372</td>\n",
              "      <td>-931.085</td>\n",
              "      <td>http://f.wishabi.net/page_items/163866812/1565636679/extra_large.jpg</td>\n",
              "      <td>http://f.wishabi.net/page_items/163866812/1565636679/extra_large.jpg</td>\n",
              "      <td>2.99</td>\n",
              "      <td>2827375.0</td>\n",
              "      <td>418537593.0</td>\n",
              "      <td>0.000000</td>\n",
              "      <td>10179.00</td>\n",
              "      <td>1978.0</td>\n",
              "      <td>http://images.wishabi.net/merchants/1978/1507144041/1978.jpg</td>\n",
              "      <td>Longos</td>\n",
              "      <td>Peach Danish</td>\n",
              "      <td>NaN</td>\n",
              "      <td>NaN</td>\n",
              "      <td>0.0</td>\n",
              "      <td>peach</td>\n",
              "      <td>10719.50</td>\n",
              "      <td>SAVE $1</td>\n",
              "      <td>0.007912</td>\n",
              "      <td>-309.128</td>\n",
              "      <td>2019-08-14T04:00:00+00:00</td>\n",
              "      <td>2019-08-21T03:59:59+00:00</td>\n",
              "      <td>['Cuisine', 'Food', 'Dish', 'Prepackaged meal', 'Ingredient', 'Comfort food', 'Junk food', 'Produce', 'Side dish', 'Recipe']</td>\n",
              "      <td>True</td>\n",
              "      <td>299\\nSAVE $1\\nPeach Danish\\n4 pack\\n446g\\nMADE IN-STORE!\\n</td>\n",
              "      <td>False</td>\n",
              "      <td>False</td>\n",
              "      <td>False</td>\n",
              "      <td>False</td>\n",
              "      <td>False</td>\n",
              "      <td>False</td>\n",
              "      <td>4 pack</td>\n",
              "      <td>4.0</td>\n",
              "      <td>0.670404</td>\n",
              "      <td>446.0</td>\n",
              "    </tr>\n",
              "    <tr>\n",
              "      <th>284</th>\n",
              "      <td>390</td>\n",
              "      <td>-1008.830</td>\n",
              "      <td>http://f.wishabi.net/page_items/163866845/1565636678/extra_large.jpg</td>\n",
              "      <td>http://f.wishabi.net/page_items/163866845/1565636678/extra_large.jpg</td>\n",
              "      <td>2.99</td>\n",
              "      <td>2827375.0</td>\n",
              "      <td>418537640.0</td>\n",
              "      <td>0.000000</td>\n",
              "      <td>12802.60</td>\n",
              "      <td>1978.0</td>\n",
              "      <td>http://images.wishabi.net/merchants/1978/1507144041/1978.jpg</td>\n",
              "      <td>Longos</td>\n",
              "      <td>Dempster's Deluxe Hot Dog or Hamburger Buns</td>\n",
              "      <td>NaN</td>\n",
              "      <td>NaN</td>\n",
              "      <td>0.0</td>\n",
              "      <td>bread</td>\n",
              "      <td>13510.90</td>\n",
              "      <td>SAVE UP TO $1</td>\n",
              "      <td>3.709046</td>\n",
              "      <td>-157.340</td>\n",
              "      <td>2019-08-14T04:00:00+00:00</td>\n",
              "      <td>2019-08-21T03:59:59+00:00</td>\n",
              "      <td>['Food', 'Ingredient', 'Cuisine', 'Dish', 'Bun', 'White bread', 'Baked goods', 'Zwieback', 'Ciabatta', 'Sliced bread']</td>\n",
              "      <td>True</td>\n",
              "      <td>299\\nSAVE UP TO $1\\nDempster's Deluxe\\nHot Dog or\\nHamburger Buns\\n6-8 pack\\nDempsters\\nDelaxe\\nee P\\nWHITE BLANC\\nselected varieties\\nDempsters\\nDelaxe\\nWNITE BLANC\\nDempsters\\nDeluxe\\nwwT\\n</td>\n",
              "      <td>False</td>\n",
              "      <td>False</td>\n",
              "      <td>False</td>\n",
              "      <td>False</td>\n",
              "      <td>False</td>\n",
              "      <td>False</td>\n",
              "      <td>8 pack</td>\n",
              "      <td>8.0</td>\n",
              "      <td>NaN</td>\n",
              "      <td>NaN</td>\n",
              "    </tr>\n",
              "    <tr>\n",
              "      <th>285</th>\n",
              "      <td>392</td>\n",
              "      <td>-1467.890</td>\n",
              "      <td>http://f.wishabi.net/page_items/163416994/1565035792/extra_large.jpg</td>\n",
              "      <td>http://f.wishabi.net/page_items/163416994/1565035792/extra_large.jpg</td>\n",
              "      <td>5.00</td>\n",
              "      <td>2815878.0</td>\n",
              "      <td>417170660.0</td>\n",
              "      <td>2.939490</td>\n",
              "      <td>1012.53</td>\n",
              "      <td>1978.0</td>\n",
              "      <td>http://images.wishabi.net/merchants/1978/1507144041/1978.jpg</td>\n",
              "      <td>Longos</td>\n",
              "      <td>Fresh Bi-Coloured Corn</td>\n",
              "      <td>NaN</td>\n",
              "      <td>2 for</td>\n",
              "      <td>0.0</td>\n",
              "      <td>corn</td>\n",
              "      <td>1327.21</td>\n",
              "      <td>NaN</td>\n",
              "      <td>1997.072500</td>\n",
              "      <td>-1093.980</td>\n",
              "      <td>2019-08-07T04:00:00+00:00</td>\n",
              "      <td>2019-08-14T03:59:59+00:00</td>\n",
              "      <td>['Corn kernels', 'Corn on the cob', 'Sweet corn', 'Vegetable', 'Corn', 'Yellow', 'Product', 'Vegetarian food', 'Food', 'Corn on the cob']</td>\n",
              "      <td>True</td>\n",
              "      <td>2FOR$5\\nFresh Bi-Coloured Corn\\nProduct of Ontario\\n5 pack\\n</td>\n",
              "      <td>False</td>\n",
              "      <td>False</td>\n",
              "      <td>False</td>\n",
              "      <td>False</td>\n",
              "      <td>False</td>\n",
              "      <td>False</td>\n",
              "      <td>5 pack</td>\n",
              "      <td>5.0</td>\n",
              "      <td>NaN</td>\n",
              "      <td>NaN</td>\n",
              "    </tr>\n",
              "    <tr>\n",
              "      <th>304</th>\n",
              "      <td>417</td>\n",
              "      <td>-1019.940</td>\n",
              "      <td>http://f.wishabi.net/page_items/163416902/1565035797/extra_large.jpg</td>\n",
              "      <td>http://f.wishabi.net/page_items/163416902/1565035797/extra_large.jpg</td>\n",
              "      <td>2.99</td>\n",
              "      <td>2815878.0</td>\n",
              "      <td>417170700.0</td>\n",
              "      <td>0.900000</td>\n",
              "      <td>3400.40</td>\n",
              "      <td>1978.0</td>\n",
              "      <td>http://images.wishabi.net/merchants/1978/1507144041/1978.jpg</td>\n",
              "      <td>Longos</td>\n",
              "      <td>Fresh White Mini Cucumbers</td>\n",
              "      <td>NaN</td>\n",
              "      <td>NaN</td>\n",
              "      <td>0.0</td>\n",
              "      <td>cucumber</td>\n",
              "      <td>4448.11</td>\n",
              "      <td>NaN</td>\n",
              "      <td>1378.682400</td>\n",
              "      <td>-257.298</td>\n",
              "      <td>2019-08-07T04:00:00+00:00</td>\n",
              "      <td>2019-08-14T03:59:59+00:00</td>\n",
              "      <td>['Food', 'Vegetable', 'Zucchini', 'Superfood', 'Plant', 'Cucumber', 'Cucumis', 'Cucumber, gourd, and melon family', 'Vegan nutrition', 'Produce']</td>\n",
              "      <td>True</td>\n",
              "      <td>SAMPLE IN-STORE\\nSATURDAY &amp; SUNDAY\\n10AM-4PM\\nUNVeiled\\n299\\nThe thinness of the skin makes for a better-tasting cucumber\\nand the colour makes it different and appealing, no peeling\\nrequired\\nFr...</td>\n",
              "      <td>False</td>\n",
              "      <td>False</td>\n",
              "      <td>False</td>\n",
              "      <td>False</td>\n",
              "      <td>False</td>\n",
              "      <td>False</td>\n",
              "      <td>6 pack</td>\n",
              "      <td>6.0</td>\n",
              "      <td>NaN</td>\n",
              "      <td>NaN</td>\n",
              "    </tr>\n",
              "    <tr>\n",
              "      <th>308</th>\n",
              "      <td>421</td>\n",
              "      <td>-2445.260</td>\n",
              "      <td>http://f.wishabi.net/page_items/163866665/1565636671/extra_large.jpg</td>\n",
              "      <td>http://f.wishabi.net/page_items/163866665/1565636671/extra_large.jpg</td>\n",
              "      <td>3.99</td>\n",
              "      <td>2827375.0</td>\n",
              "      <td>418537514.0</td>\n",
              "      <td>0.000000</td>\n",
              "      <td>2855.27</td>\n",
              "      <td>1978.0</td>\n",
              "      <td>http://images.wishabi.net/merchants/1978/1507144041/1978.jpg</td>\n",
              "      <td>Longos</td>\n",
              "      <td>Fresh Romaine Hearts</td>\n",
              "      <td>NaN</td>\n",
              "      <td>NaN</td>\n",
              "      <td>0.0</td>\n",
              "      <td>lettuce</td>\n",
              "      <td>3402.26</td>\n",
              "      <td>NaN</td>\n",
              "      <td>0.054743</td>\n",
              "      <td>-1967.680</td>\n",
              "      <td>2019-08-14T04:00:00+00:00</td>\n",
              "      <td>2019-08-21T03:59:59+00:00</td>\n",
              "      <td>['Food', 'Snack', 'Vegetarian food', 'Plant', 'Superfood', 'Vegetable', 'Leaf vegetable']</td>\n",
              "      <td>True</td>\n",
              "      <td>399\\nFRESH SEA\\nFresh Romaine Hearts\\nProduct of U.S.A.\\nor Canada\\n3 pack\\nJUMO ROMAINE HEARTS\\nANDYBOY\\nNel wight 24.2 eo\\n</td>\n",
              "      <td>False</td>\n",
              "      <td>False</td>\n",
              "      <td>False</td>\n",
              "      <td>False</td>\n",
              "      <td>False</td>\n",
              "      <td>False</td>\n",
              "      <td>3 pack</td>\n",
              "      <td>3.0</td>\n",
              "      <td>NaN</td>\n",
              "      <td>NaN</td>\n",
              "    </tr>\n",
              "    <tr>\n",
              "      <th>718</th>\n",
              "      <td>1020</td>\n",
              "      <td>-1795.410</td>\n",
              "      <td>http://f.wishabi.net/page_items/163858611/1565213977/extra_large.jpg</td>\n",
              "      <td>http://f.wishabi.net/page_items/163858611/1565213977/extra_large.jpg</td>\n",
              "      <td>9.99</td>\n",
              "      <td>2815344.0</td>\n",
              "      <td>418476082.0</td>\n",
              "      <td>2.048490</td>\n",
              "      <td>14991.00</td>\n",
              "      <td>2340.0</td>\n",
              "      <td>http://images.wishabi.net/merchants/2340/1526504295/storefront_logo</td>\n",
              "      <td>Zehrs</td>\n",
              "      <td>MCCAFÉ® PREMIUM ROAST PODS, 12 PACK</td>\n",
              "      <td>NaN</td>\n",
              "      <td>NaN</td>\n",
              "      <td>0.0</td>\n",
              "      <td>bean</td>\n",
              "      <td>15117.00</td>\n",
              "      <td>FREE! BAGELS &amp; MEDIUM COFFEE</td>\n",
              "      <td>0.000068</td>\n",
              "      <td>-1549.410</td>\n",
              "      <td>2019-08-08T04:00:00+00:00</td>\n",
              "      <td>2019-08-15T03:59:59+00:00</td>\n",
              "      <td>['White coffee', 'Food', 'Ipoh white coffee', 'Instant coffee', 'Ingredient', 'Cuisine']</td>\n",
              "      <td>True</td>\n",
              "      <td>FREE!\\nMcCafe ORATUNTS\\nMcCafé Premium\\nRoast pods\\n12 pack\\n$99\\n</td>\n",
              "      <td>False</td>\n",
              "      <td>False</td>\n",
              "      <td>False</td>\n",
              "      <td>False</td>\n",
              "      <td>False</td>\n",
              "      <td>False</td>\n",
              "      <td>12 pack</td>\n",
              "      <td>12.0</td>\n",
              "      <td>NaN</td>\n",
              "      <td>NaN</td>\n",
              "    </tr>\n",
              "    <tr>\n",
              "      <th>722</th>\n",
              "      <td>1025</td>\n",
              "      <td>-1795.410</td>\n",
              "      <td>http://f.wishabi.net/page_items/163858611/1565213977/extra_large.jpg</td>\n",
              "      <td>http://f.wishabi.net/page_items/163858611/1565213977/extra_large.jpg</td>\n",
              "      <td>9.99</td>\n",
              "      <td>2815344.0</td>\n",
              "      <td>418476082.0</td>\n",
              "      <td>2.048490</td>\n",
              "      <td>14991.00</td>\n",
              "      <td>2340.0</td>\n",
              "      <td>http://images.wishabi.net/merchants/2340/1526504295/storefront_logo</td>\n",
              "      <td>Zehrs</td>\n",
              "      <td>MCCAFÉ® PREMIUM ROAST PODS, 12 PACK</td>\n",
              "      <td>NaN</td>\n",
              "      <td>NaN</td>\n",
              "      <td>0.0</td>\n",
              "      <td>bread</td>\n",
              "      <td>15117.00</td>\n",
              "      <td>FREE! BAGELS &amp; MEDIUM COFFEE</td>\n",
              "      <td>0.006657</td>\n",
              "      <td>-1549.410</td>\n",
              "      <td>2019-08-08T04:00:00+00:00</td>\n",
              "      <td>2019-08-15T03:59:59+00:00</td>\n",
              "      <td>['White coffee', 'Food', 'Ipoh white coffee', 'Instant coffee', 'Ingredient', 'Cuisine']</td>\n",
              "      <td>True</td>\n",
              "      <td>FREE!\\nMcCafe ORATUNTS\\nMcCafé Premium\\nRoast pods\\n12 pack\\n$99\\n</td>\n",
              "      <td>False</td>\n",
              "      <td>False</td>\n",
              "      <td>False</td>\n",
              "      <td>False</td>\n",
              "      <td>False</td>\n",
              "      <td>False</td>\n",
              "      <td>12 pack</td>\n",
              "      <td>12.0</td>\n",
              "      <td>NaN</td>\n",
              "      <td>NaN</td>\n",
              "    </tr>\n",
              "  </tbody>\n",
              "</table>\n",
              "</div>"
            ],
            "text/plain": [
              "     Unnamed: 0    bottom                                                       clean_image_url                                                    clipping_image_url  current_price   flyer_id  flyer_item_id  item_weight      left  merchant_id                                                        merchant_logo   merchant_name                                                                                                                name post_price_text pre_price_text  premium   product     right                    sale_story        score       top                 valid_from                   valid_to                                                                                                                                              labels  Relevant                                                                                                                                                                                                 ocr_name  vagetables  Fruit  meat_chicken  meat_steak  meat_ground  meat_tenderloin   weight  weight_num  price_100  weight2\n",
              "4             5 -1197.750  http://f.wishabi.net/page_items/163299379/1564749337/extra_large.jpg  http://f.wishabi.net/page_items/163299379/1564749337/extra_large.jpg           1.88  2813706.0    416931251.0   140.671404   1126.11       3662.0  http://images.wishabi.net/merchants/3662/1527529237/storefront_logo  Chalo FreshCo   Compliments Pint Grape Tomatoes Product of Ontario 6 Pack Mini Seedless Cucumbers Product of Ontario, Canada No. 1             NaN      LOW PRICE      0.0     grape   1689.75                           NaN     0.180923  -701.657  2019-08-08T04:00:00+00:00  2019-08-15T03:59:59+00:00                     ['Natural foods', 'Local food', 'Vegetable', 'Food', 'Vegan nutrition', 'Whole food', 'Plant', 'Fruit', 'Cucumis', 'Superfood']      True              Foodland\\nesAO\\nLOW PRICE\\n188\\nCompliments Pint Grape\\nTomatoes Product of Ontario\\n6 Pack Mini Seedless Cucumbers\\nProduct of Ontario, Canada No. 1\\nTomates raisins ou mini-concombres\\n       False  False         False       False        False            False   6 pack         6.0        NaN      NaN\n",
              "11           12 -1197.750  http://f.wishabi.net/page_items/163299379/1564749337/extra_large.jpg  http://f.wishabi.net/page_items/163299379/1564749337/extra_large.jpg           1.88  2813706.0    416931251.0   140.671404   1126.11       3662.0  http://images.wishabi.net/merchants/3662/1527529237/storefront_logo  Chalo FreshCo   Compliments Pint Grape Tomatoes Product of Ontario 6 Pack Mini Seedless Cucumbers Product of Ontario, Canada No. 1             NaN      LOW PRICE      0.0  cucumber   1689.75                           NaN   474.828740  -701.657  2019-08-08T04:00:00+00:00  2019-08-15T03:59:59+00:00                     ['Natural foods', 'Local food', 'Vegetable', 'Food', 'Vegan nutrition', 'Whole food', 'Plant', 'Fruit', 'Cucumis', 'Superfood']      True              Foodland\\nesAO\\nLOW PRICE\\n188\\nCompliments Pint Grape\\nTomatoes Product of Ontario\\n6 Pack Mini Seedless Cucumbers\\nProduct of Ontario, Canada No. 1\\nTomates raisins ou mini-concombres\\n       False  False         False       False        False            False   6 pack         6.0        NaN      NaN\n",
              "34           43 -1197.750  http://f.wishabi.net/page_items/163299379/1564749337/extra_large.jpg  http://f.wishabi.net/page_items/163299379/1564749337/extra_large.jpg           1.88  2813706.0    416931251.0   140.671404   1126.11       3662.0  http://images.wishabi.net/merchants/3662/1527529237/storefront_logo  Chalo FreshCo   Compliments Pint Grape Tomatoes Product of Ontario 6 Pack Mini Seedless Cucumbers Product of Ontario, Canada No. 1             NaN      LOW PRICE      0.0    tomato   1689.75                           NaN    82.690030  -701.657  2019-08-08T04:00:00+00:00  2019-08-15T03:59:59+00:00                     ['Natural foods', 'Local food', 'Vegetable', 'Food', 'Vegan nutrition', 'Whole food', 'Plant', 'Fruit', 'Cucumis', 'Superfood']      True              Foodland\\nesAO\\nLOW PRICE\\n188\\nCompliments Pint Grape\\nTomatoes Product of Ontario\\n6 Pack Mini Seedless Cucumbers\\nProduct of Ontario, Canada No. 1\\nTomates raisins ou mini-concombres\\n       False  False         False       False        False            False   6 pack         6.0        NaN      NaN\n",
              "126         165 -1047.250  http://f.wishabi.net/page_items/163297909/1564747177/extra_large.jpg  http://f.wishabi.net/page_items/163297909/1564747177/extra_large.jpg           1.88  2813681.0    416932061.0   771.188031   1127.99       2267.0         http://images.wishabi.net/merchants/2267/1507144936/2267.jpg         FreshCo  Compliments Pint Grape Tomatoes Product of Ontario 6 Pack Mini Seedless Cucumbers Product of Ontario, Canada No. 1             NaN            NaN      0.0    tomato   1630.01                           NaN   194.381500  -525.092  2019-08-08T04:00:00+00:00  2019-08-15T03:59:59+00:00  ['Natural foods', 'Vegetable', 'Food', 'Cucumber', 'Cucumber, gourd, and melon family', 'Cucumis', 'Plant', 'Vegan nutrition', 'Fruit', 'Produce']      True                      Foodland\\nONTARIO\\n188\\nCompliments Pint Grape Tomatoes\\nProduct of Ontario\\n6 Pack Mini Seedless Cucumbers\\nProduct of Ontario, Canada No. 1\\nTomates raisins ou mini-concombres\\n       False  False         False       False        False            False   6 pack         6.0        NaN      NaN\n",
              "130         169 -1047.250  http://f.wishabi.net/page_items/163297909/1564747177/extra_large.jpg  http://f.wishabi.net/page_items/163297909/1564747177/extra_large.jpg           1.88  2813681.0    416932061.0   771.188031   1127.99       2267.0         http://images.wishabi.net/merchants/2267/1507144936/2267.jpg         FreshCo  Compliments Pint Grape Tomatoes Product of Ontario 6 Pack Mini Seedless Cucumbers Product of Ontario, Canada No. 1             NaN            NaN      0.0     grape   1630.01                           NaN     0.428872  -525.092  2019-08-08T04:00:00+00:00  2019-08-15T03:59:59+00:00  ['Natural foods', 'Vegetable', 'Food', 'Cucumber', 'Cucumber, gourd, and melon family', 'Cucumis', 'Plant', 'Vegan nutrition', 'Fruit', 'Produce']      True                      Foodland\\nONTARIO\\n188\\nCompliments Pint Grape Tomatoes\\nProduct of Ontario\\n6 Pack Mini Seedless Cucumbers\\nProduct of Ontario, Canada No. 1\\nTomates raisins ou mini-concombres\\n       False  False         False       False        False            False   6 pack         6.0        NaN      NaN\n",
              "131         170 -1047.250  http://f.wishabi.net/page_items/163297909/1564747177/extra_large.jpg  http://f.wishabi.net/page_items/163297909/1564747177/extra_large.jpg           1.88  2813681.0    416932061.0   771.188031   1127.99       2267.0         http://images.wishabi.net/merchants/2267/1507144936/2267.jpg         FreshCo  Compliments Pint Grape Tomatoes Product of Ontario 6 Pack Mini Seedless Cucumbers Product of Ontario, Canada No. 1             NaN            NaN      0.0  cucumber   1630.01                           NaN  1102.839200  -525.092  2019-08-08T04:00:00+00:00  2019-08-15T03:59:59+00:00  ['Natural foods', 'Vegetable', 'Food', 'Cucumber', 'Cucumber, gourd, and melon family', 'Cucumis', 'Plant', 'Vegan nutrition', 'Fruit', 'Produce']      True                      Foodland\\nONTARIO\\n188\\nCompliments Pint Grape Tomatoes\\nProduct of Ontario\\n6 Pack Mini Seedless Cucumbers\\nProduct of Ontario, Canada No. 1\\nTomates raisins ou mini-concombres\\n       False  False         False       False        False            False   6 pack         6.0        NaN      NaN\n",
              "270         372  -931.085  http://f.wishabi.net/page_items/163866812/1565636679/extra_large.jpg  http://f.wishabi.net/page_items/163866812/1565636679/extra_large.jpg           2.99  2827375.0    418537593.0     0.000000  10179.00       1978.0         http://images.wishabi.net/merchants/1978/1507144041/1978.jpg          Longos                                                                                                        Peach Danish             NaN            NaN      0.0     peach  10719.50                       SAVE $1     0.007912  -309.128  2019-08-14T04:00:00+00:00  2019-08-21T03:59:59+00:00                        ['Cuisine', 'Food', 'Dish', 'Prepackaged meal', 'Ingredient', 'Comfort food', 'Junk food', 'Produce', 'Side dish', 'Recipe']      True                                                                                                                                               299\\nSAVE $1\\nPeach Danish\\n4 pack\\n446g\\nMADE IN-STORE!\\n       False  False         False       False        False            False   4 pack         4.0   0.670404    446.0\n",
              "284         390 -1008.830  http://f.wishabi.net/page_items/163866845/1565636678/extra_large.jpg  http://f.wishabi.net/page_items/163866845/1565636678/extra_large.jpg           2.99  2827375.0    418537640.0     0.000000  12802.60       1978.0         http://images.wishabi.net/merchants/1978/1507144041/1978.jpg          Longos                                                                         Dempster's Deluxe Hot Dog or Hamburger Buns             NaN            NaN      0.0     bread  13510.90                 SAVE UP TO $1     3.709046  -157.340  2019-08-14T04:00:00+00:00  2019-08-21T03:59:59+00:00                              ['Food', 'Ingredient', 'Cuisine', 'Dish', 'Bun', 'White bread', 'Baked goods', 'Zwieback', 'Ciabatta', 'Sliced bread']      True          299\\nSAVE UP TO $1\\nDempster's Deluxe\\nHot Dog or\\nHamburger Buns\\n6-8 pack\\nDempsters\\nDelaxe\\nee P\\nWHITE BLANC\\nselected varieties\\nDempsters\\nDelaxe\\nWNITE BLANC\\nDempsters\\nDeluxe\\nwwT\\n       False  False         False       False        False            False   8 pack         8.0        NaN      NaN\n",
              "285         392 -1467.890  http://f.wishabi.net/page_items/163416994/1565035792/extra_large.jpg  http://f.wishabi.net/page_items/163416994/1565035792/extra_large.jpg           5.00  2815878.0    417170660.0     2.939490   1012.53       1978.0         http://images.wishabi.net/merchants/1978/1507144041/1978.jpg          Longos                                                                                              Fresh Bi-Coloured Corn             NaN          2 for      0.0      corn   1327.21                           NaN  1997.072500 -1093.980  2019-08-07T04:00:00+00:00  2019-08-14T03:59:59+00:00           ['Corn kernels', 'Corn on the cob', 'Sweet corn', 'Vegetable', 'Corn', 'Yellow', 'Product', 'Vegetarian food', 'Food', 'Corn on the cob']      True                                                                                                                                             2FOR$5\\nFresh Bi-Coloured Corn\\nProduct of Ontario\\n5 pack\\n       False  False         False       False        False            False   5 pack         5.0        NaN      NaN\n",
              "304         417 -1019.940  http://f.wishabi.net/page_items/163416902/1565035797/extra_large.jpg  http://f.wishabi.net/page_items/163416902/1565035797/extra_large.jpg           2.99  2815878.0    417170700.0     0.900000   3400.40       1978.0         http://images.wishabi.net/merchants/1978/1507144041/1978.jpg          Longos                                                                                          Fresh White Mini Cucumbers             NaN            NaN      0.0  cucumber   4448.11                           NaN  1378.682400  -257.298  2019-08-07T04:00:00+00:00  2019-08-14T03:59:59+00:00   ['Food', 'Vegetable', 'Zucchini', 'Superfood', 'Plant', 'Cucumber', 'Cucumis', 'Cucumber, gourd, and melon family', 'Vegan nutrition', 'Produce']      True  SAMPLE IN-STORE\\nSATURDAY & SUNDAY\\n10AM-4PM\\nUNVeiled\\n299\\nThe thinness of the skin makes for a better-tasting cucumber\\nand the colour makes it different and appealing, no peeling\\nrequired\\nFr...       False  False         False       False        False            False   6 pack         6.0        NaN      NaN\n",
              "308         421 -2445.260  http://f.wishabi.net/page_items/163866665/1565636671/extra_large.jpg  http://f.wishabi.net/page_items/163866665/1565636671/extra_large.jpg           3.99  2827375.0    418537514.0     0.000000   2855.27       1978.0         http://images.wishabi.net/merchants/1978/1507144041/1978.jpg          Longos                                                                                                Fresh Romaine Hearts             NaN            NaN      0.0   lettuce   3402.26                           NaN     0.054743 -1967.680  2019-08-14T04:00:00+00:00  2019-08-21T03:59:59+00:00                                                           ['Food', 'Snack', 'Vegetarian food', 'Plant', 'Superfood', 'Vegetable', 'Leaf vegetable']      True                                                                            399\\nFRESH SEA\\nFresh Romaine Hearts\\nProduct of U.S.A.\\nor Canada\\n3 pack\\nJUMO ROMAINE HEARTS\\nANDYBOY\\nNel wight 24.2 eo\\n       False  False         False       False        False            False   3 pack         3.0        NaN      NaN\n",
              "718        1020 -1795.410  http://f.wishabi.net/page_items/163858611/1565213977/extra_large.jpg  http://f.wishabi.net/page_items/163858611/1565213977/extra_large.jpg           9.99  2815344.0    418476082.0     2.048490  14991.00       2340.0  http://images.wishabi.net/merchants/2340/1526504295/storefront_logo           Zehrs                                                                                 MCCAFÉ® PREMIUM ROAST PODS, 12 PACK             NaN            NaN      0.0      bean  15117.00  FREE! BAGELS & MEDIUM COFFEE     0.000068 -1549.410  2019-08-08T04:00:00+00:00  2019-08-15T03:59:59+00:00                                                            ['White coffee', 'Food', 'Ipoh white coffee', 'Instant coffee', 'Ingredient', 'Cuisine']      True                                                                                                                                       FREE!\\nMcCafe ORATUNTS\\nMcCafé Premium\\nRoast pods\\n12 pack\\n$99\\n       False  False         False       False        False            False  12 pack        12.0        NaN      NaN\n",
              "722        1025 -1795.410  http://f.wishabi.net/page_items/163858611/1565213977/extra_large.jpg  http://f.wishabi.net/page_items/163858611/1565213977/extra_large.jpg           9.99  2815344.0    418476082.0     2.048490  14991.00       2340.0  http://images.wishabi.net/merchants/2340/1526504295/storefront_logo           Zehrs                                                                                 MCCAFÉ® PREMIUM ROAST PODS, 12 PACK             NaN            NaN      0.0     bread  15117.00  FREE! BAGELS & MEDIUM COFFEE     0.006657 -1549.410  2019-08-08T04:00:00+00:00  2019-08-15T03:59:59+00:00                                                            ['White coffee', 'Food', 'Ipoh white coffee', 'Instant coffee', 'Ingredient', 'Cuisine']      True                                                                                                                                       FREE!\\nMcCafe ORATUNTS\\nMcCafé Premium\\nRoast pods\\n12 pack\\n$99\\n       False  False         False       False        False            False  12 pack        12.0        NaN      NaN"
            ]
          },
          "metadata": {
            "tags": []
          },
          "execution_count": 186
        }
      ]
    },
    {
      "cell_type": "code",
      "metadata": {
        "id": "oVcHA1bKHdf7",
        "colab_type": "code",
        "colab": {}
      },
      "source": [
        " for i in df_sort_food2.index:\n",
        "  df_sort_food2.loc[i,'weight_num']=0  \n",
        "  df_sort_food2.loc[i,'price_100']=0  \n",
        "  try:\n",
        "    if df_sort_food2.loc[i,'weight']== 1:\n",
        "      df_sort_food2.loc[i,'weight_num']=1  \n",
        "    elif not any(re.findall('/', df_sort_food2.loc[i,'weight'])) and df_sort_food2.loc[i,'weight'][-2:].lower() == 'kg' :\n",
        "      df_sort_food2.loc[i,'weight2']=float(re.findall(\"[-+]?\\d*\\.\\d+|\\d+\",df_sort_food2.loc[i,'weight'][:-2])[0])*1000\n",
        "    elif any(re.findall('/', df_sort_food2.loc[i,'weight'])) and df_sort_food2.loc[i,'weight'][-2:].lower() == 'kg' :\n",
        "      df_sort_food2.loc[i,'price_100']=float(re.findall(\"[-+]?\\d*\\.\\d+|\\d+\",df_sort_food2.loc[i,'weight'][:-3])[0] )/10\n",
        "    elif not any(re.findall('/', df_sort_food2.loc[i,'weight'])) and df_sort_food2.loc[i,'weight'][-1].lower()=='g' and df_sort_food2.loc[i,'weight'][-2:].lower() != 'kg':  \n",
        "      df_sort_food2.loc[i,'weight2']=float(re.findall(\"[-+]?\\d*\\.\\d+|\\d+\",df_sort_food2.loc[i,'weight'][:-1])[0] )\n",
        "    elif df_sort_food2.loc[i,'weight'][-1].lower()=='l' and df_sort_food2.loc[i,'weight'][-2:].lower()=='ml':\n",
        "      df_sort_food2.loc[i,'weight2']=float(re.findall(\"[-+]?\\d*\\.\\d+|\\d+\",df_sort_food2.loc[i,'weight'][:-2])[0] )\n",
        "    elif df_sort_food2.loc[i,'weight'][-1].lower()=='l' and df_sort_food2.loc[i,'weight'][-2:].lower()!='ml':\n",
        "      df_sort_food2.loc[i,'weight2']=float(re.findall(\"[-+]?\\d*\\.\\d+|\\d+\",df_sort_food2.loc[i,'weight'][:-1])[0] )*1000\n",
        "    elif not any(re.findall('/', df_sort_food2.loc[i,'weight'])) and df_sort_food2.loc[i,'weight'][-2:].lower() == 'lb':\n",
        "      df_sort_food2.loc[i,'weight2']=float(re.findall(\"[-+]?\\d*\\.\\d+|\\d+\",df_sort_food2.loc[i,'weight'][:-2])[0] )*453.592\n",
        "    elif any(re.findall('/', df_sort_food2.loc[i,'weight'])) and df_sort_food2.loc[i,'weight'][-2:].lower() == 'lb':\n",
        "      df_sort_food2.loc[i,'price_100']=float(re.findall(\"[-+]?\\d*\\.\\d+|\\d+\",df_sort_food2.loc[i,'weight'][:-2])[0] )/4.53592\n",
        "    elif df_sort_food2.loc[i,'weight'][-2:].lower() == 'oz':\n",
        "      df_sort_food2.loc[i,'weight2']=float(re.findall(\"[-+]?\\d*\\.\\d+|\\d+\",df_sort_food2.loc[i,'weight'][:-2])[0] )*28.3495\n",
        "    if df_sort_food2.loc[i,'weight'][-4:].lower() == 'pack':\n",
        "      df_sort_food2.loc[i,'weight_num']=float(re.findall(\"[-+]?\\d*\\.\\d+|\\d+\",df_sort_food2.loc[i,'weight'])[0] )  \n",
        "  except:\n",
        "    df_sort_food2.loc[i,'weight2']==0\n",
        "  if df_sort_food2.loc[i,'price_100']==0:\n",
        "    df_sort_food2.loc[i,'price_100']=df_sort_food2.loc[i,'current_price']/(df_sort_food2.loc[i,'weight2']/100)\n",
        "  "
      ],
      "execution_count": 0,
      "outputs": []
    },
    {
      "cell_type": "code",
      "metadata": {
        "id": "HF4CAfXDHtBv",
        "colab_type": "code",
        "outputId": "5df6b904-feda-4062-ae27-05aab745e6bd",
        "colab": {
          "base_uri": "https://localhost:8080/",
          "height": 35
        }
      },
      "source": [
        "df_sort_food2['price_100'].isna().values.sum()"
      ],
      "execution_count": 187,
      "outputs": [
        {
          "output_type": "execute_result",
          "data": {
            "text/plain": [
              "144"
            ]
          },
          "metadata": {
            "tags": []
          },
          "execution_count": 187
        }
      ]
    },
    {
      "cell_type": "code",
      "metadata": {
        "id": "j2xZx-cwdmc0",
        "colab_type": "code",
        "colab": {}
      },
      "source": [
        "df_sort_food3=df_sort_food2[df_sort_food2.Relevant==True]"
      ],
      "execution_count": 0,
      "outputs": []
    },
    {
      "cell_type": "code",
      "metadata": {
        "id": "7lrY-P26d3v7",
        "colab_type": "code",
        "colab": {}
      },
      "source": [
        "df_agg = df_sort_food2.groupby(['merchant_name','product'],observed=True)['merchant_name','product','current_price','weight2','weight_num','price_100','clean_image_url'].agg({'price_100':min})"
      ],
      "execution_count": 0,
      "outputs": []
    },
    {
      "cell_type": "code",
      "metadata": {
        "id": "Jw2UE2y0YfYm",
        "colab_type": "code",
        "colab": {}
      },
      "source": [
        "pd.set_option('max_colwidth', 200)"
      ],
      "execution_count": 0,
      "outputs": []
    },
    {
      "cell_type": "code",
      "metadata": {
        "id": "JSvePH6kkrwn",
        "colab_type": "code",
        "colab": {
          "base_uri": "https://localhost:8080/",
          "height": 35
        },
        "outputId": "8f90450d-b09b-43bd-e098-055a236b6288"
      },
      "source": [
        "type(df_agg)\n"
      ],
      "execution_count": 222,
      "outputs": [
        {
          "output_type": "execute_result",
          "data": {
            "text/plain": [
              "pandas.core.frame.DataFrame"
            ]
          },
          "metadata": {
            "tags": []
          },
          "execution_count": 222
        }
      ]
    },
    {
      "cell_type": "code",
      "metadata": {
        "id": "de_aCyk6cPya",
        "colab_type": "code",
        "colab": {
          "base_uri": "https://localhost:8080/",
          "height": 765
        },
        "outputId": "b56d5e54-752c-4134-8c39-ba1e67a3bcf5"
      },
      "source": [
        "# df_sort_food2.loc[(df_sort_food2.clean_image_url=='http://f.wishabi.net/page_items/163299379/1564749337/extra_large.jpg')]\n",
        "df_agg2=df_agg.groupby(['merchant_name']).agg({'current_price':sum})"
      ],
      "execution_count": 211,
      "outputs": [
        {
          "output_type": "stream",
          "text": [
            "/usr/local/lib/python3.6/dist-packages/pandas/core/groupby/generic.py:1315: FutureWarning: using a dict with renaming is deprecated and will be removed in a future version\n",
            "  return super(DataFrameGroupBy, self).aggregate(arg, *args, **kwargs)\n"
          ],
          "name": "stderr"
        },
        {
          "output_type": "error",
          "ename": "KeyError",
          "evalue": "ignored",
          "traceback": [
            "\u001b[0;31m---------------------------------------------------------------------------\u001b[0m",
            "\u001b[0;31mKeyError\u001b[0m                                  Traceback (most recent call last)",
            "\u001b[0;32m/usr/local/lib/python3.6/dist-packages/pandas/core/indexes/base.py\u001b[0m in \u001b[0;36mget_loc\u001b[0;34m(self, key, method, tolerance)\u001b[0m\n\u001b[1;32m   2656\u001b[0m             \u001b[0;32mtry\u001b[0m\u001b[0;34m:\u001b[0m\u001b[0;34m\u001b[0m\u001b[0;34m\u001b[0m\u001b[0m\n\u001b[0;32m-> 2657\u001b[0;31m                 \u001b[0;32mreturn\u001b[0m \u001b[0mself\u001b[0m\u001b[0;34m.\u001b[0m\u001b[0m_engine\u001b[0m\u001b[0;34m.\u001b[0m\u001b[0mget_loc\u001b[0m\u001b[0;34m(\u001b[0m\u001b[0mkey\u001b[0m\u001b[0;34m)\u001b[0m\u001b[0;34m\u001b[0m\u001b[0;34m\u001b[0m\u001b[0m\n\u001b[0m\u001b[1;32m   2658\u001b[0m             \u001b[0;32mexcept\u001b[0m \u001b[0mKeyError\u001b[0m\u001b[0;34m:\u001b[0m\u001b[0;34m\u001b[0m\u001b[0;34m\u001b[0m\u001b[0m\n",
            "\u001b[0;32mpandas/_libs/index.pyx\u001b[0m in \u001b[0;36mpandas._libs.index.IndexEngine.get_loc\u001b[0;34m()\u001b[0m\n",
            "\u001b[0;32mpandas/_libs/index.pyx\u001b[0m in \u001b[0;36mpandas._libs.index.IndexEngine.get_loc\u001b[0;34m()\u001b[0m\n",
            "\u001b[0;32mpandas/_libs/hashtable_class_helper.pxi\u001b[0m in \u001b[0;36mpandas._libs.hashtable.PyObjectHashTable.get_item\u001b[0;34m()\u001b[0m\n",
            "\u001b[0;32mpandas/_libs/hashtable_class_helper.pxi\u001b[0m in \u001b[0;36mpandas._libs.hashtable.PyObjectHashTable.get_item\u001b[0;34m()\u001b[0m\n",
            "\u001b[0;31mKeyError\u001b[0m: 'current_price'",
            "\nDuring handling of the above exception, another exception occurred:\n",
            "\u001b[0;31mKeyError\u001b[0m                                  Traceback (most recent call last)",
            "\u001b[0;32m<ipython-input-211-ca46e8989abb>\u001b[0m in \u001b[0;36m<module>\u001b[0;34m()\u001b[0m\n\u001b[0;32m----> 1\u001b[0;31m \u001b[0mdf_agg2\u001b[0m\u001b[0;34m=\u001b[0m\u001b[0mdf_agg\u001b[0m\u001b[0;34m.\u001b[0m\u001b[0mgroupby\u001b[0m\u001b[0;34m(\u001b[0m\u001b[0;34m[\u001b[0m\u001b[0;34m'merchant_name'\u001b[0m\u001b[0;34m]\u001b[0m\u001b[0;34m)\u001b[0m\u001b[0;34m.\u001b[0m\u001b[0magg\u001b[0m\u001b[0;34m(\u001b[0m\u001b[0;34m{\u001b[0m\u001b[0;34m'current_price'\u001b[0m\u001b[0;34m:\u001b[0m\u001b[0msum\u001b[0m\u001b[0;34m}\u001b[0m\u001b[0;34m)\u001b[0m\u001b[0;34m\u001b[0m\u001b[0;34m\u001b[0m\u001b[0m\n\u001b[0m",
            "\u001b[0;32m/usr/local/lib/python3.6/dist-packages/pandas/core/groupby/generic.py\u001b[0m in \u001b[0;36maggregate\u001b[0;34m(self, arg, *args, **kwargs)\u001b[0m\n\u001b[1;32m   1313\u001b[0m     \u001b[0;34m@\u001b[0m\u001b[0mAppender\u001b[0m\u001b[0;34m(\u001b[0m\u001b[0m_shared_docs\u001b[0m\u001b[0;34m[\u001b[0m\u001b[0;34m'aggregate'\u001b[0m\u001b[0;34m]\u001b[0m\u001b[0;34m)\u001b[0m\u001b[0;34m\u001b[0m\u001b[0;34m\u001b[0m\u001b[0m\n\u001b[1;32m   1314\u001b[0m     \u001b[0;32mdef\u001b[0m \u001b[0maggregate\u001b[0m\u001b[0;34m(\u001b[0m\u001b[0mself\u001b[0m\u001b[0;34m,\u001b[0m \u001b[0marg\u001b[0m\u001b[0;34m,\u001b[0m \u001b[0;34m*\u001b[0m\u001b[0margs\u001b[0m\u001b[0;34m,\u001b[0m \u001b[0;34m**\u001b[0m\u001b[0mkwargs\u001b[0m\u001b[0;34m)\u001b[0m\u001b[0;34m:\u001b[0m\u001b[0;34m\u001b[0m\u001b[0;34m\u001b[0m\u001b[0m\n\u001b[0;32m-> 1315\u001b[0;31m         \u001b[0;32mreturn\u001b[0m \u001b[0msuper\u001b[0m\u001b[0;34m(\u001b[0m\u001b[0mDataFrameGroupBy\u001b[0m\u001b[0;34m,\u001b[0m \u001b[0mself\u001b[0m\u001b[0;34m)\u001b[0m\u001b[0;34m.\u001b[0m\u001b[0maggregate\u001b[0m\u001b[0;34m(\u001b[0m\u001b[0marg\u001b[0m\u001b[0;34m,\u001b[0m \u001b[0;34m*\u001b[0m\u001b[0margs\u001b[0m\u001b[0;34m,\u001b[0m \u001b[0;34m**\u001b[0m\u001b[0mkwargs\u001b[0m\u001b[0;34m)\u001b[0m\u001b[0;34m\u001b[0m\u001b[0;34m\u001b[0m\u001b[0m\n\u001b[0m\u001b[1;32m   1316\u001b[0m \u001b[0;34m\u001b[0m\u001b[0m\n\u001b[1;32m   1317\u001b[0m     \u001b[0magg\u001b[0m \u001b[0;34m=\u001b[0m \u001b[0maggregate\u001b[0m\u001b[0;34m\u001b[0m\u001b[0;34m\u001b[0m\u001b[0m\n",
            "\u001b[0;32m/usr/local/lib/python3.6/dist-packages/pandas/core/groupby/generic.py\u001b[0m in \u001b[0;36maggregate\u001b[0;34m(self, arg, *args, **kwargs)\u001b[0m\n\u001b[1;32m    184\u001b[0m \u001b[0;34m\u001b[0m\u001b[0m\n\u001b[1;32m    185\u001b[0m         \u001b[0m_level\u001b[0m \u001b[0;34m=\u001b[0m \u001b[0mkwargs\u001b[0m\u001b[0;34m.\u001b[0m\u001b[0mpop\u001b[0m\u001b[0;34m(\u001b[0m\u001b[0;34m'_level'\u001b[0m\u001b[0;34m,\u001b[0m \u001b[0;32mNone\u001b[0m\u001b[0;34m)\u001b[0m\u001b[0;34m\u001b[0m\u001b[0;34m\u001b[0m\u001b[0m\n\u001b[0;32m--> 186\u001b[0;31m         \u001b[0mresult\u001b[0m\u001b[0;34m,\u001b[0m \u001b[0mhow\u001b[0m \u001b[0;34m=\u001b[0m \u001b[0mself\u001b[0m\u001b[0;34m.\u001b[0m\u001b[0m_aggregate\u001b[0m\u001b[0;34m(\u001b[0m\u001b[0marg\u001b[0m\u001b[0;34m,\u001b[0m \u001b[0m_level\u001b[0m\u001b[0;34m=\u001b[0m\u001b[0m_level\u001b[0m\u001b[0;34m,\u001b[0m \u001b[0;34m*\u001b[0m\u001b[0margs\u001b[0m\u001b[0;34m,\u001b[0m \u001b[0;34m**\u001b[0m\u001b[0mkwargs\u001b[0m\u001b[0;34m)\u001b[0m\u001b[0;34m\u001b[0m\u001b[0;34m\u001b[0m\u001b[0m\n\u001b[0m\u001b[1;32m    187\u001b[0m         \u001b[0;32mif\u001b[0m \u001b[0mhow\u001b[0m \u001b[0;32mis\u001b[0m \u001b[0;32mNone\u001b[0m\u001b[0;34m:\u001b[0m\u001b[0;34m\u001b[0m\u001b[0;34m\u001b[0m\u001b[0m\n\u001b[1;32m    188\u001b[0m             \u001b[0;32mreturn\u001b[0m \u001b[0mresult\u001b[0m\u001b[0;34m\u001b[0m\u001b[0;34m\u001b[0m\u001b[0m\n",
            "\u001b[0;32m/usr/local/lib/python3.6/dist-packages/pandas/core/base.py\u001b[0m in \u001b[0;36m_aggregate\u001b[0;34m(self, arg, *args, **kwargs)\u001b[0m\n\u001b[1;32m    496\u001b[0m \u001b[0;34m\u001b[0m\u001b[0m\n\u001b[1;32m    497\u001b[0m                 \u001b[0;32mtry\u001b[0m\u001b[0;34m:\u001b[0m\u001b[0;34m\u001b[0m\u001b[0;34m\u001b[0m\u001b[0m\n\u001b[0;32m--> 498\u001b[0;31m                     \u001b[0mresult\u001b[0m \u001b[0;34m=\u001b[0m \u001b[0m_agg\u001b[0m\u001b[0;34m(\u001b[0m\u001b[0marg\u001b[0m\u001b[0;34m,\u001b[0m \u001b[0m_agg_1dim\u001b[0m\u001b[0;34m)\u001b[0m\u001b[0;34m\u001b[0m\u001b[0;34m\u001b[0m\u001b[0m\n\u001b[0m\u001b[1;32m    499\u001b[0m                 \u001b[0;32mexcept\u001b[0m \u001b[0mSpecificationError\u001b[0m\u001b[0;34m:\u001b[0m\u001b[0;34m\u001b[0m\u001b[0;34m\u001b[0m\u001b[0m\n\u001b[1;32m    500\u001b[0m \u001b[0;34m\u001b[0m\u001b[0m\n",
            "\u001b[0;32m/usr/local/lib/python3.6/dist-packages/pandas/core/base.py\u001b[0m in \u001b[0;36m_agg\u001b[0;34m(arg, func)\u001b[0m\n\u001b[1;32m    447\u001b[0m                 \u001b[0mresult\u001b[0m \u001b[0;34m=\u001b[0m \u001b[0mcompat\u001b[0m\u001b[0;34m.\u001b[0m\u001b[0mOrderedDict\u001b[0m\u001b[0;34m(\u001b[0m\u001b[0;34m)\u001b[0m\u001b[0;34m\u001b[0m\u001b[0;34m\u001b[0m\u001b[0m\n\u001b[1;32m    448\u001b[0m                 \u001b[0;32mfor\u001b[0m \u001b[0mfname\u001b[0m\u001b[0;34m,\u001b[0m \u001b[0magg_how\u001b[0m \u001b[0;32min\u001b[0m \u001b[0mcompat\u001b[0m\u001b[0;34m.\u001b[0m\u001b[0miteritems\u001b[0m\u001b[0;34m(\u001b[0m\u001b[0marg\u001b[0m\u001b[0;34m)\u001b[0m\u001b[0;34m:\u001b[0m\u001b[0;34m\u001b[0m\u001b[0;34m\u001b[0m\u001b[0m\n\u001b[0;32m--> 449\u001b[0;31m                     \u001b[0mresult\u001b[0m\u001b[0;34m[\u001b[0m\u001b[0mfname\u001b[0m\u001b[0;34m]\u001b[0m \u001b[0;34m=\u001b[0m \u001b[0mfunc\u001b[0m\u001b[0;34m(\u001b[0m\u001b[0mfname\u001b[0m\u001b[0;34m,\u001b[0m \u001b[0magg_how\u001b[0m\u001b[0;34m)\u001b[0m\u001b[0;34m\u001b[0m\u001b[0;34m\u001b[0m\u001b[0m\n\u001b[0m\u001b[1;32m    450\u001b[0m                 \u001b[0;32mreturn\u001b[0m \u001b[0mresult\u001b[0m\u001b[0;34m\u001b[0m\u001b[0;34m\u001b[0m\u001b[0m\n\u001b[1;32m    451\u001b[0m \u001b[0;34m\u001b[0m\u001b[0m\n",
            "\u001b[0;32m/usr/local/lib/python3.6/dist-packages/pandas/core/base.py\u001b[0m in \u001b[0;36m_agg_1dim\u001b[0;34m(name, how, subset)\u001b[0m\n\u001b[1;32m    426\u001b[0m                 \u001b[0maggregate\u001b[0m \u001b[0ma\u001b[0m \u001b[0;36m1\u001b[0m\u001b[0;34m-\u001b[0m\u001b[0mdim\u001b[0m \u001b[0;32mwith\u001b[0m \u001b[0mhow\u001b[0m\u001b[0;34m\u001b[0m\u001b[0;34m\u001b[0m\u001b[0m\n\u001b[1;32m    427\u001b[0m                 \"\"\"\n\u001b[0;32m--> 428\u001b[0;31m                 \u001b[0mcolg\u001b[0m \u001b[0;34m=\u001b[0m \u001b[0mself\u001b[0m\u001b[0;34m.\u001b[0m\u001b[0m_gotitem\u001b[0m\u001b[0;34m(\u001b[0m\u001b[0mname\u001b[0m\u001b[0;34m,\u001b[0m \u001b[0mndim\u001b[0m\u001b[0;34m=\u001b[0m\u001b[0;36m1\u001b[0m\u001b[0;34m,\u001b[0m \u001b[0msubset\u001b[0m\u001b[0;34m=\u001b[0m\u001b[0msubset\u001b[0m\u001b[0;34m)\u001b[0m\u001b[0;34m\u001b[0m\u001b[0;34m\u001b[0m\u001b[0m\n\u001b[0m\u001b[1;32m    429\u001b[0m                 \u001b[0;32mif\u001b[0m \u001b[0mcolg\u001b[0m\u001b[0;34m.\u001b[0m\u001b[0mndim\u001b[0m \u001b[0;34m!=\u001b[0m \u001b[0;36m1\u001b[0m\u001b[0;34m:\u001b[0m\u001b[0;34m\u001b[0m\u001b[0;34m\u001b[0m\u001b[0m\n\u001b[1;32m    430\u001b[0m                     raise SpecificationError(\"nested dictionary is ambiguous \"\n",
            "\u001b[0;32m/usr/local/lib/python3.6/dist-packages/pandas/core/groupby/generic.py\u001b[0m in \u001b[0;36m_gotitem\u001b[0;34m(self, key, ndim, subset)\u001b[0m\n\u001b[1;32m   1341\u001b[0m         \u001b[0;32melif\u001b[0m \u001b[0mndim\u001b[0m \u001b[0;34m==\u001b[0m \u001b[0;36m1\u001b[0m\u001b[0;34m:\u001b[0m\u001b[0;34m\u001b[0m\u001b[0;34m\u001b[0m\u001b[0m\n\u001b[1;32m   1342\u001b[0m             \u001b[0;32mif\u001b[0m \u001b[0msubset\u001b[0m \u001b[0;32mis\u001b[0m \u001b[0;32mNone\u001b[0m\u001b[0;34m:\u001b[0m\u001b[0;34m\u001b[0m\u001b[0;34m\u001b[0m\u001b[0m\n\u001b[0;32m-> 1343\u001b[0;31m                 \u001b[0msubset\u001b[0m \u001b[0;34m=\u001b[0m \u001b[0mself\u001b[0m\u001b[0;34m.\u001b[0m\u001b[0mobj\u001b[0m\u001b[0;34m[\u001b[0m\u001b[0mkey\u001b[0m\u001b[0;34m]\u001b[0m\u001b[0;34m\u001b[0m\u001b[0;34m\u001b[0m\u001b[0m\n\u001b[0m\u001b[1;32m   1344\u001b[0m             return SeriesGroupBy(subset, selection=key,\n\u001b[1;32m   1345\u001b[0m                                  grouper=self.grouper)\n",
            "\u001b[0;32m/usr/local/lib/python3.6/dist-packages/pandas/core/frame.py\u001b[0m in \u001b[0;36m__getitem__\u001b[0;34m(self, key)\u001b[0m\n\u001b[1;32m   2924\u001b[0m         \u001b[0;32mif\u001b[0m \u001b[0mis_single_key\u001b[0m\u001b[0;34m:\u001b[0m\u001b[0;34m\u001b[0m\u001b[0;34m\u001b[0m\u001b[0m\n\u001b[1;32m   2925\u001b[0m             \u001b[0;32mif\u001b[0m \u001b[0mself\u001b[0m\u001b[0;34m.\u001b[0m\u001b[0mcolumns\u001b[0m\u001b[0;34m.\u001b[0m\u001b[0mnlevels\u001b[0m \u001b[0;34m>\u001b[0m \u001b[0;36m1\u001b[0m\u001b[0;34m:\u001b[0m\u001b[0;34m\u001b[0m\u001b[0;34m\u001b[0m\u001b[0m\n\u001b[0;32m-> 2926\u001b[0;31m                 \u001b[0;32mreturn\u001b[0m \u001b[0mself\u001b[0m\u001b[0;34m.\u001b[0m\u001b[0m_getitem_multilevel\u001b[0m\u001b[0;34m(\u001b[0m\u001b[0mkey\u001b[0m\u001b[0;34m)\u001b[0m\u001b[0;34m\u001b[0m\u001b[0;34m\u001b[0m\u001b[0m\n\u001b[0m\u001b[1;32m   2927\u001b[0m             \u001b[0mindexer\u001b[0m \u001b[0;34m=\u001b[0m \u001b[0mself\u001b[0m\u001b[0;34m.\u001b[0m\u001b[0mcolumns\u001b[0m\u001b[0;34m.\u001b[0m\u001b[0mget_loc\u001b[0m\u001b[0;34m(\u001b[0m\u001b[0mkey\u001b[0m\u001b[0;34m)\u001b[0m\u001b[0;34m\u001b[0m\u001b[0;34m\u001b[0m\u001b[0m\n\u001b[1;32m   2928\u001b[0m             \u001b[0;32mif\u001b[0m \u001b[0mis_integer\u001b[0m\u001b[0;34m(\u001b[0m\u001b[0mindexer\u001b[0m\u001b[0;34m)\u001b[0m\u001b[0;34m:\u001b[0m\u001b[0;34m\u001b[0m\u001b[0;34m\u001b[0m\u001b[0m\n",
            "\u001b[0;32m/usr/local/lib/python3.6/dist-packages/pandas/core/frame.py\u001b[0m in \u001b[0;36m_getitem_multilevel\u001b[0;34m(self, key)\u001b[0m\n\u001b[1;32m   2970\u001b[0m \u001b[0;34m\u001b[0m\u001b[0m\n\u001b[1;32m   2971\u001b[0m     \u001b[0;32mdef\u001b[0m \u001b[0m_getitem_multilevel\u001b[0m\u001b[0;34m(\u001b[0m\u001b[0mself\u001b[0m\u001b[0;34m,\u001b[0m \u001b[0mkey\u001b[0m\u001b[0;34m)\u001b[0m\u001b[0;34m:\u001b[0m\u001b[0;34m\u001b[0m\u001b[0;34m\u001b[0m\u001b[0m\n\u001b[0;32m-> 2972\u001b[0;31m         \u001b[0mloc\u001b[0m \u001b[0;34m=\u001b[0m \u001b[0mself\u001b[0m\u001b[0;34m.\u001b[0m\u001b[0mcolumns\u001b[0m\u001b[0;34m.\u001b[0m\u001b[0mget_loc\u001b[0m\u001b[0;34m(\u001b[0m\u001b[0mkey\u001b[0m\u001b[0;34m)\u001b[0m\u001b[0;34m\u001b[0m\u001b[0;34m\u001b[0m\u001b[0m\n\u001b[0m\u001b[1;32m   2973\u001b[0m         \u001b[0;32mif\u001b[0m \u001b[0misinstance\u001b[0m\u001b[0;34m(\u001b[0m\u001b[0mloc\u001b[0m\u001b[0;34m,\u001b[0m \u001b[0;34m(\u001b[0m\u001b[0mslice\u001b[0m\u001b[0;34m,\u001b[0m \u001b[0mSeries\u001b[0m\u001b[0;34m,\u001b[0m \u001b[0mnp\u001b[0m\u001b[0;34m.\u001b[0m\u001b[0mndarray\u001b[0m\u001b[0;34m,\u001b[0m \u001b[0mIndex\u001b[0m\u001b[0;34m)\u001b[0m\u001b[0;34m)\u001b[0m\u001b[0;34m:\u001b[0m\u001b[0;34m\u001b[0m\u001b[0;34m\u001b[0m\u001b[0m\n\u001b[1;32m   2974\u001b[0m             \u001b[0mnew_columns\u001b[0m \u001b[0;34m=\u001b[0m \u001b[0mself\u001b[0m\u001b[0;34m.\u001b[0m\u001b[0mcolumns\u001b[0m\u001b[0;34m[\u001b[0m\u001b[0mloc\u001b[0m\u001b[0;34m]\u001b[0m\u001b[0;34m\u001b[0m\u001b[0;34m\u001b[0m\u001b[0m\n",
            "\u001b[0;32m/usr/local/lib/python3.6/dist-packages/pandas/core/indexes/multi.py\u001b[0m in \u001b[0;36mget_loc\u001b[0;34m(self, key, method)\u001b[0m\n\u001b[1;32m   2395\u001b[0m \u001b[0;34m\u001b[0m\u001b[0m\n\u001b[1;32m   2396\u001b[0m         \u001b[0;32mif\u001b[0m \u001b[0;32mnot\u001b[0m \u001b[0misinstance\u001b[0m\u001b[0;34m(\u001b[0m\u001b[0mkey\u001b[0m\u001b[0;34m,\u001b[0m \u001b[0mtuple\u001b[0m\u001b[0;34m)\u001b[0m\u001b[0;34m:\u001b[0m\u001b[0;34m\u001b[0m\u001b[0;34m\u001b[0m\u001b[0m\n\u001b[0;32m-> 2397\u001b[0;31m             \u001b[0mloc\u001b[0m \u001b[0;34m=\u001b[0m \u001b[0mself\u001b[0m\u001b[0;34m.\u001b[0m\u001b[0m_get_level_indexer\u001b[0m\u001b[0;34m(\u001b[0m\u001b[0mkey\u001b[0m\u001b[0;34m,\u001b[0m \u001b[0mlevel\u001b[0m\u001b[0;34m=\u001b[0m\u001b[0;36m0\u001b[0m\u001b[0;34m)\u001b[0m\u001b[0;34m\u001b[0m\u001b[0;34m\u001b[0m\u001b[0m\n\u001b[0m\u001b[1;32m   2398\u001b[0m             \u001b[0;32mreturn\u001b[0m \u001b[0m_maybe_to_slice\u001b[0m\u001b[0;34m(\u001b[0m\u001b[0mloc\u001b[0m\u001b[0;34m)\u001b[0m\u001b[0;34m\u001b[0m\u001b[0;34m\u001b[0m\u001b[0m\n\u001b[1;32m   2399\u001b[0m \u001b[0;34m\u001b[0m\u001b[0m\n",
            "\u001b[0;32m/usr/local/lib/python3.6/dist-packages/pandas/core/indexes/multi.py\u001b[0m in \u001b[0;36m_get_level_indexer\u001b[0;34m(self, key, level, indexer)\u001b[0m\n\u001b[1;32m   2650\u001b[0m         \u001b[0;32melse\u001b[0m\u001b[0;34m:\u001b[0m\u001b[0;34m\u001b[0m\u001b[0;34m\u001b[0m\u001b[0m\n\u001b[1;32m   2651\u001b[0m \u001b[0;34m\u001b[0m\u001b[0m\n\u001b[0;32m-> 2652\u001b[0;31m             \u001b[0mcode\u001b[0m \u001b[0;34m=\u001b[0m \u001b[0mlevel_index\u001b[0m\u001b[0;34m.\u001b[0m\u001b[0mget_loc\u001b[0m\u001b[0;34m(\u001b[0m\u001b[0mkey\u001b[0m\u001b[0;34m)\u001b[0m\u001b[0;34m\u001b[0m\u001b[0;34m\u001b[0m\u001b[0m\n\u001b[0m\u001b[1;32m   2653\u001b[0m \u001b[0;34m\u001b[0m\u001b[0m\n\u001b[1;32m   2654\u001b[0m             \u001b[0;32mif\u001b[0m \u001b[0mlevel\u001b[0m \u001b[0;34m>\u001b[0m \u001b[0;36m0\u001b[0m \u001b[0;32mor\u001b[0m \u001b[0mself\u001b[0m\u001b[0;34m.\u001b[0m\u001b[0mlexsort_depth\u001b[0m \u001b[0;34m==\u001b[0m \u001b[0;36m0\u001b[0m\u001b[0;34m:\u001b[0m\u001b[0;34m\u001b[0m\u001b[0;34m\u001b[0m\u001b[0m\n",
            "\u001b[0;32m/usr/local/lib/python3.6/dist-packages/pandas/core/indexes/base.py\u001b[0m in \u001b[0;36mget_loc\u001b[0;34m(self, key, method, tolerance)\u001b[0m\n\u001b[1;32m   2657\u001b[0m                 \u001b[0;32mreturn\u001b[0m \u001b[0mself\u001b[0m\u001b[0;34m.\u001b[0m\u001b[0m_engine\u001b[0m\u001b[0;34m.\u001b[0m\u001b[0mget_loc\u001b[0m\u001b[0;34m(\u001b[0m\u001b[0mkey\u001b[0m\u001b[0;34m)\u001b[0m\u001b[0;34m\u001b[0m\u001b[0;34m\u001b[0m\u001b[0m\n\u001b[1;32m   2658\u001b[0m             \u001b[0;32mexcept\u001b[0m \u001b[0mKeyError\u001b[0m\u001b[0;34m:\u001b[0m\u001b[0;34m\u001b[0m\u001b[0;34m\u001b[0m\u001b[0m\n\u001b[0;32m-> 2659\u001b[0;31m                 \u001b[0;32mreturn\u001b[0m \u001b[0mself\u001b[0m\u001b[0;34m.\u001b[0m\u001b[0m_engine\u001b[0m\u001b[0;34m.\u001b[0m\u001b[0mget_loc\u001b[0m\u001b[0;34m(\u001b[0m\u001b[0mself\u001b[0m\u001b[0;34m.\u001b[0m\u001b[0m_maybe_cast_indexer\u001b[0m\u001b[0;34m(\u001b[0m\u001b[0mkey\u001b[0m\u001b[0;34m)\u001b[0m\u001b[0;34m)\u001b[0m\u001b[0;34m\u001b[0m\u001b[0;34m\u001b[0m\u001b[0m\n\u001b[0m\u001b[1;32m   2660\u001b[0m         \u001b[0mindexer\u001b[0m \u001b[0;34m=\u001b[0m \u001b[0mself\u001b[0m\u001b[0;34m.\u001b[0m\u001b[0mget_indexer\u001b[0m\u001b[0;34m(\u001b[0m\u001b[0;34m[\u001b[0m\u001b[0mkey\u001b[0m\u001b[0;34m]\u001b[0m\u001b[0;34m,\u001b[0m \u001b[0mmethod\u001b[0m\u001b[0;34m=\u001b[0m\u001b[0mmethod\u001b[0m\u001b[0;34m,\u001b[0m \u001b[0mtolerance\u001b[0m\u001b[0;34m=\u001b[0m\u001b[0mtolerance\u001b[0m\u001b[0;34m)\u001b[0m\u001b[0;34m\u001b[0m\u001b[0;34m\u001b[0m\u001b[0m\n\u001b[1;32m   2661\u001b[0m         \u001b[0;32mif\u001b[0m \u001b[0mindexer\u001b[0m\u001b[0;34m.\u001b[0m\u001b[0mndim\u001b[0m \u001b[0;34m>\u001b[0m \u001b[0;36m1\u001b[0m \u001b[0;32mor\u001b[0m \u001b[0mindexer\u001b[0m\u001b[0;34m.\u001b[0m\u001b[0msize\u001b[0m \u001b[0;34m>\u001b[0m \u001b[0;36m1\u001b[0m\u001b[0;34m:\u001b[0m\u001b[0;34m\u001b[0m\u001b[0;34m\u001b[0m\u001b[0m\n",
            "\u001b[0;32mpandas/_libs/index.pyx\u001b[0m in \u001b[0;36mpandas._libs.index.IndexEngine.get_loc\u001b[0;34m()\u001b[0m\n",
            "\u001b[0;32mpandas/_libs/index.pyx\u001b[0m in \u001b[0;36mpandas._libs.index.IndexEngine.get_loc\u001b[0;34m()\u001b[0m\n",
            "\u001b[0;32mpandas/_libs/hashtable_class_helper.pxi\u001b[0m in \u001b[0;36mpandas._libs.hashtable.PyObjectHashTable.get_item\u001b[0;34m()\u001b[0m\n",
            "\u001b[0;32mpandas/_libs/hashtable_class_helper.pxi\u001b[0m in \u001b[0;36mpandas._libs.hashtable.PyObjectHashTable.get_item\u001b[0;34m()\u001b[0m\n",
            "\u001b[0;31mKeyError\u001b[0m: 'current_price'"
          ]
        }
      ]
    },
    {
      "cell_type": "code",
      "metadata": {
        "id": "y4pdE6U9d7eZ",
        "colab_type": "code",
        "colab": {
          "base_uri": "https://localhost:8080/",
          "height": 166
        },
        "outputId": "3c872c8c-a9ca-47c1-b9af-4569b72bcfc6"
      },
      "source": [
        "df_agg2['count']=df_agg.groupby(['merchant_name']).count()"
      ],
      "execution_count": 209,
      "outputs": [
        {
          "output_type": "error",
          "ename": "NameError",
          "evalue": "ignored",
          "traceback": [
            "\u001b[0;31m---------------------------------------------------------------------------\u001b[0m",
            "\u001b[0;31mNameError\u001b[0m                                 Traceback (most recent call last)",
            "\u001b[0;32m<ipython-input-209-51e76bdcb3fd>\u001b[0m in \u001b[0;36m<module>\u001b[0;34m()\u001b[0m\n\u001b[0;32m----> 1\u001b[0;31m \u001b[0mdf_agg2\u001b[0m\u001b[0;34m[\u001b[0m\u001b[0;34m'count'\u001b[0m\u001b[0;34m]\u001b[0m\u001b[0;34m=\u001b[0m\u001b[0mdf_agg\u001b[0m\u001b[0;34m.\u001b[0m\u001b[0mgroupby\u001b[0m\u001b[0;34m(\u001b[0m\u001b[0;34m[\u001b[0m\u001b[0;34m'merchant_name'\u001b[0m\u001b[0;34m]\u001b[0m\u001b[0;34m)\u001b[0m\u001b[0;34m.\u001b[0m\u001b[0mcount\u001b[0m\u001b[0;34m(\u001b[0m\u001b[0;34m)\u001b[0m\u001b[0;34m\u001b[0m\u001b[0;34m\u001b[0m\u001b[0m\n\u001b[0m",
            "\u001b[0;31mNameError\u001b[0m: name 'df_agg2' is not defined"
          ]
        }
      ]
    },
    {
      "cell_type": "code",
      "metadata": {
        "id": "lE0K3cb7eYUL",
        "colab_type": "code",
        "colab": {
          "base_uri": "https://localhost:8080/",
          "height": 166
        },
        "outputId": "b3be22f5-db6e-4c8d-8767-9ea498bc7944"
      },
      "source": [
        "df_agg2['Overal_percentage']=df_agg.groupby(['merchant_name']).count()*100/len(df_sort_food3[\"product\"].unique())"
      ],
      "execution_count": 210,
      "outputs": [
        {
          "output_type": "error",
          "ename": "NameError",
          "evalue": "ignored",
          "traceback": [
            "\u001b[0;31m---------------------------------------------------------------------------\u001b[0m",
            "\u001b[0;31mNameError\u001b[0m                                 Traceback (most recent call last)",
            "\u001b[0;32m<ipython-input-210-f859c173e2a5>\u001b[0m in \u001b[0;36m<module>\u001b[0;34m()\u001b[0m\n\u001b[0;32m----> 1\u001b[0;31m \u001b[0mdf_agg2\u001b[0m\u001b[0;34m[\u001b[0m\u001b[0;34m'Overal_percentage'\u001b[0m\u001b[0;34m]\u001b[0m\u001b[0;34m=\u001b[0m\u001b[0mdf_agg\u001b[0m\u001b[0;34m.\u001b[0m\u001b[0mgroupby\u001b[0m\u001b[0;34m(\u001b[0m\u001b[0;34m[\u001b[0m\u001b[0;34m'merchant_name'\u001b[0m\u001b[0;34m]\u001b[0m\u001b[0;34m)\u001b[0m\u001b[0;34m.\u001b[0m\u001b[0mcount\u001b[0m\u001b[0;34m(\u001b[0m\u001b[0;34m)\u001b[0m\u001b[0;34m*\u001b[0m\u001b[0;36m100\u001b[0m\u001b[0;34m/\u001b[0m\u001b[0mlen\u001b[0m\u001b[0;34m(\u001b[0m\u001b[0mdf_sort_food3\u001b[0m\u001b[0;34m[\u001b[0m\u001b[0;34m\"product\"\u001b[0m\u001b[0;34m]\u001b[0m\u001b[0;34m.\u001b[0m\u001b[0munique\u001b[0m\u001b[0;34m(\u001b[0m\u001b[0;34m)\u001b[0m\u001b[0;34m)\u001b[0m\u001b[0;34m\u001b[0m\u001b[0;34m\u001b[0m\u001b[0m\n\u001b[0m",
            "\u001b[0;31mNameError\u001b[0m: name 'df_agg2' is not defined"
          ]
        }
      ]
    },
    {
      "cell_type": "code",
      "metadata": {
        "id": "RqDUHyTGjJOp",
        "colab_type": "code",
        "outputId": "4d1dc18d-8697-4a61-e06b-09de503f1d43",
        "colab": {
          "base_uri": "https://localhost:8080/",
          "height": 607
        }
      },
      "source": [
        "df_agg2"
      ],
      "execution_count": 0,
      "outputs": [
        {
          "output_type": "execute_result",
          "data": {
            "text/html": [
              "<div>\n",
              "<style scoped>\n",
              "    .dataframe tbody tr th:only-of-type {\n",
              "        vertical-align: middle;\n",
              "    }\n",
              "\n",
              "    .dataframe tbody tr th {\n",
              "        vertical-align: top;\n",
              "    }\n",
              "\n",
              "    .dataframe thead th {\n",
              "        text-align: right;\n",
              "    }\n",
              "</style>\n",
              "<table border=\"1\" class=\"dataframe\">\n",
              "  <thead>\n",
              "    <tr style=\"text-align: right;\">\n",
              "      <th></th>\n",
              "      <th>current_price</th>\n",
              "      <th>count</th>\n",
              "      <th>Overal_percentage</th>\n",
              "    </tr>\n",
              "    <tr>\n",
              "      <th>merchant_name</th>\n",
              "      <th></th>\n",
              "      <th></th>\n",
              "      <th></th>\n",
              "    </tr>\n",
              "  </thead>\n",
              "  <tbody>\n",
              "    <tr>\n",
              "      <th>Chalo FreshCo</th>\n",
              "      <td>105.37</td>\n",
              "      <td>28</td>\n",
              "      <td>63.636364</td>\n",
              "    </tr>\n",
              "    <tr>\n",
              "      <th>Food Basics</th>\n",
              "      <td>96.95</td>\n",
              "      <td>27</td>\n",
              "      <td>61.363636</td>\n",
              "    </tr>\n",
              "    <tr>\n",
              "      <th>Foodland Ontario</th>\n",
              "      <td>197.48</td>\n",
              "      <td>35</td>\n",
              "      <td>79.545455</td>\n",
              "    </tr>\n",
              "    <tr>\n",
              "      <th>FreshCo</th>\n",
              "      <td>128.81</td>\n",
              "      <td>35</td>\n",
              "      <td>79.545455</td>\n",
              "    </tr>\n",
              "    <tr>\n",
              "      <th>Giant Tiger</th>\n",
              "      <td>42.26</td>\n",
              "      <td>7</td>\n",
              "      <td>15.909091</td>\n",
              "    </tr>\n",
              "    <tr>\n",
              "      <th>Healthy Planet</th>\n",
              "      <td>23.76</td>\n",
              "      <td>3</td>\n",
              "      <td>6.818182</td>\n",
              "    </tr>\n",
              "    <tr>\n",
              "      <th>Loblaws</th>\n",
              "      <td>285.01</td>\n",
              "      <td>56</td>\n",
              "      <td>127.272727</td>\n",
              "    </tr>\n",
              "    <tr>\n",
              "      <th>Longos</th>\n",
              "      <td>512.95</td>\n",
              "      <td>63</td>\n",
              "      <td>143.181818</td>\n",
              "    </tr>\n",
              "    <tr>\n",
              "      <th>M&amp;M Food Market</th>\n",
              "      <td>243.54</td>\n",
              "      <td>19</td>\n",
              "      <td>43.181818</td>\n",
              "    </tr>\n",
              "    <tr>\n",
              "      <th>Metro</th>\n",
              "      <td>462.99</td>\n",
              "      <td>58</td>\n",
              "      <td>131.818182</td>\n",
              "    </tr>\n",
              "    <tr>\n",
              "      <th>No Frills</th>\n",
              "      <td>123.58</td>\n",
              "      <td>36</td>\n",
              "      <td>81.818182</td>\n",
              "    </tr>\n",
              "    <tr>\n",
              "      <th>Real Canadian Superstore</th>\n",
              "      <td>211.97</td>\n",
              "      <td>45</td>\n",
              "      <td>102.272727</td>\n",
              "    </tr>\n",
              "    <tr>\n",
              "      <th>Shoppers Drug Mart</th>\n",
              "      <td>87.67</td>\n",
              "      <td>16</td>\n",
              "      <td>36.363636</td>\n",
              "    </tr>\n",
              "    <tr>\n",
              "      <th>Sobeys</th>\n",
              "      <td>441.69</td>\n",
              "      <td>71</td>\n",
              "      <td>161.363636</td>\n",
              "    </tr>\n",
              "    <tr>\n",
              "      <th>Valu-Mart</th>\n",
              "      <td>150.70</td>\n",
              "      <td>28</td>\n",
              "      <td>63.636364</td>\n",
              "    </tr>\n",
              "    <tr>\n",
              "      <th>Walmart</th>\n",
              "      <td>44.32</td>\n",
              "      <td>4</td>\n",
              "      <td>9.090909</td>\n",
              "    </tr>\n",
              "    <tr>\n",
              "      <th>Zehrs</th>\n",
              "      <td>346.43</td>\n",
              "      <td>58</td>\n",
              "      <td>131.818182</td>\n",
              "    </tr>\n",
              "  </tbody>\n",
              "</table>\n",
              "</div>"
            ],
            "text/plain": [
              "                          current_price  count  Overal_percentage\n",
              "merchant_name                                                    \n",
              "Chalo FreshCo                    105.37     28          63.636364\n",
              "Food Basics                       96.95     27          61.363636\n",
              "Foodland Ontario                 197.48     35          79.545455\n",
              "FreshCo                          128.81     35          79.545455\n",
              "Giant Tiger                       42.26      7          15.909091\n",
              "Healthy Planet                    23.76      3           6.818182\n",
              "Loblaws                          285.01     56         127.272727\n",
              "Longos                           512.95     63         143.181818\n",
              "M&M Food Market                  243.54     19          43.181818\n",
              "Metro                            462.99     58         131.818182\n",
              "No Frills                        123.58     36          81.818182\n",
              "Real Canadian Superstore         211.97     45         102.272727\n",
              "Shoppers Drug Mart                87.67     16          36.363636\n",
              "Sobeys                           441.69     71         161.363636\n",
              "Valu-Mart                        150.70     28          63.636364\n",
              "Walmart                           44.32      4           9.090909\n",
              "Zehrs                            346.43     58         131.818182"
            ]
          },
          "metadata": {
            "tags": []
          },
          "execution_count": 337
        }
      ]
    },
    {
      "cell_type": "code",
      "metadata": {
        "id": "ugRLCGEZjaHX",
        "colab_type": "code",
        "colab": {}
      },
      "source": [
        ""
      ],
      "execution_count": 0,
      "outputs": []
    }
  ]
}